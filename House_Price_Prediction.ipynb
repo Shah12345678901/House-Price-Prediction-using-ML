{
  "nbformat": 4,
  "nbformat_minor": 0,
  "metadata": {
    "colab": {
      "name": "House-Price-Prediction.ipynb",
      "provenance": [],
      "mount_file_id": "1Mi7670yNCYfhj3Jakj5Vk2xJL3oGx-0V",
      "authorship_tag": "ABX9TyNLjTbxWNIBUWNN9xJWDsFI",
      "include_colab_link": true
    },
    "kernelspec": {
      "name": "python3",
      "display_name": "Python 3"
    },
    "language_info": {
      "name": "python"
    }
  },
  "cells": [
    {
      "cell_type": "markdown",
      "metadata": {
        "id": "view-in-github",
        "colab_type": "text"
      },
      "source": [
        "<a href=\"https://colab.research.google.com/github/Shah12345678901/House-Price-Prediction-using-ML/blob/main/House_Price_Prediction.ipynb\" target=\"_parent\"><img src=\"https://colab.research.google.com/assets/colab-badge.svg\" alt=\"Open In Colab\"/></a>"
      ]
    },
    {
      "cell_type": "markdown",
      "source": [
        "**House Prices Prediction Using Mechine Learning**"
      ],
      "metadata": {
        "id": "EpkQmt5H3ngr"
      }
    },
    {
      "cell_type": "markdown",
      "source": [
        "#Problem Statement\n"
      ],
      "metadata": {
        "id": "BJdQl4VK3nv8"
      }
    },
    {
      "cell_type": "markdown",
      "source": [
        "The goal of this statistical analysis is to understand the relationship between house features and how these variables are used to predict house price."
      ],
      "metadata": {
        "id": "kN-x0hdr3nj8"
      }
    },
    {
      "cell_type": "markdown",
      "source": [
        "**Objective**\n",
        "\n",
        ".Predict the house price"
      ],
      "metadata": {
        "id": "cTiTpHno3n4y"
      }
    },
    {
      "cell_type": "markdown",
      "source": [
        "**Data used:**\n",
        "\n",
        "https://www.machinehack.com/hackathons/house_price_prediction_beat_the_benchmark/data\n",
        "\n"
      ],
      "metadata": {
        "id": "zfYYA7rp3oAp"
      }
    },
    {
      "cell_type": "markdown",
      "source": [
        "**Step 1: Exploratory Data Analysis (EDA)**"
      ],
      "metadata": {
        "id": "zYIA7rQ54P1y"
      }
    },
    {
      "cell_type": "code",
      "source": [
        "#import required libraries\n",
        "import numpy as np\n",
        "import pandas as pd\n",
        "import matplotlib.pyplot as plt\n",
        "%matplotlib inline\n",
        "plt.style.use ('seaborn-dark')\n",
        "\n",
        "import seaborn as sns \n",
        "from sklearn.model_selection import train_test_split,StratifiedKFold\n",
        "\n",
        "import xgboost as xgb\n",
        "\n",
        "\n",
        "import warnings\n",
        "warnings.simplefilter('ignore')"
      ],
      "metadata": {
        "id": "D6eseJ7imMdu"
      },
      "execution_count": 1,
      "outputs": []
    },
    {
      "cell_type": "code",
      "source": [
        "#import data\n",
        "test_data=pd.read_csv('/content/drive/MyDrive/Colab Notebooks/Participants_Data_HPP/Test.csv')\n",
        "train_data=pd.read_csv('/content/drive/MyDrive/Colab Notebooks/Participants_Data_HPP/Train.csv')\n"
      ],
      "metadata": {
        "id": "J29-OqJT3nOC"
      },
      "execution_count": 2,
      "outputs": []
    },
    {
      "cell_type": "code",
      "source": [
        "train_data.describe()"
      ],
      "metadata": {
        "colab": {
          "base_uri": "https://localhost:8080/",
          "height": 300
        },
        "id": "5EpxPf4fmMgg",
        "outputId": "1b733fec-39df-4308-ba72-63dad060282d"
      },
      "execution_count": 3,
      "outputs": [
        {
          "output_type": "execute_result",
          "data": {
            "text/plain": [
              "       UNDER_CONSTRUCTION          RERA       BHK_NO.     SQUARE_FT  \\\n",
              "count        29451.000000  29451.000000  29451.000000  2.945100e+04   \n",
              "mean             0.179756      0.317918      2.392279  1.980217e+04   \n",
              "std              0.383991      0.465675      0.879091  1.901335e+06   \n",
              "min              0.000000      0.000000      1.000000  3.000000e+00   \n",
              "25%              0.000000      0.000000      2.000000  9.000211e+02   \n",
              "50%              0.000000      0.000000      2.000000  1.175057e+03   \n",
              "75%              0.000000      1.000000      3.000000  1.550688e+03   \n",
              "max              1.000000      1.000000     20.000000  2.545455e+08   \n",
              "\n",
              "       READY_TO_MOVE        RESALE     LONGITUDE      LATITUDE  \\\n",
              "count   29451.000000  29451.000000  29451.000000  29451.000000   \n",
              "mean        0.820244      0.929578     21.300255     76.837695   \n",
              "std         0.383991      0.255861      6.205306     10.557747   \n",
              "min         0.000000      0.000000    -37.713008   -121.761248   \n",
              "25%         1.000000      1.000000     18.452663     73.798100   \n",
              "50%         1.000000      1.000000     20.750000     77.324137   \n",
              "75%         1.000000      1.000000     26.900926     77.828740   \n",
              "max         1.000000      1.000000     59.912884    152.962676   \n",
              "\n",
              "       TARGET(PRICE_IN_LACS)  \n",
              "count           29451.000000  \n",
              "mean              142.898746  \n",
              "std               656.880713  \n",
              "min                 0.250000  \n",
              "25%                38.000000  \n",
              "50%                62.000000  \n",
              "75%               100.000000  \n",
              "max             30000.000000  "
            ],
            "text/html": [
              "\n",
              "  <div id=\"df-de99016e-2aac-42cf-a375-d5b71c4b5fab\">\n",
              "    <div class=\"colab-df-container\">\n",
              "      <div>\n",
              "<style scoped>\n",
              "    .dataframe tbody tr th:only-of-type {\n",
              "        vertical-align: middle;\n",
              "    }\n",
              "\n",
              "    .dataframe tbody tr th {\n",
              "        vertical-align: top;\n",
              "    }\n",
              "\n",
              "    .dataframe thead th {\n",
              "        text-align: right;\n",
              "    }\n",
              "</style>\n",
              "<table border=\"1\" class=\"dataframe\">\n",
              "  <thead>\n",
              "    <tr style=\"text-align: right;\">\n",
              "      <th></th>\n",
              "      <th>UNDER_CONSTRUCTION</th>\n",
              "      <th>RERA</th>\n",
              "      <th>BHK_NO.</th>\n",
              "      <th>SQUARE_FT</th>\n",
              "      <th>READY_TO_MOVE</th>\n",
              "      <th>RESALE</th>\n",
              "      <th>LONGITUDE</th>\n",
              "      <th>LATITUDE</th>\n",
              "      <th>TARGET(PRICE_IN_LACS)</th>\n",
              "    </tr>\n",
              "  </thead>\n",
              "  <tbody>\n",
              "    <tr>\n",
              "      <th>count</th>\n",
              "      <td>29451.000000</td>\n",
              "      <td>29451.000000</td>\n",
              "      <td>29451.000000</td>\n",
              "      <td>2.945100e+04</td>\n",
              "      <td>29451.000000</td>\n",
              "      <td>29451.000000</td>\n",
              "      <td>29451.000000</td>\n",
              "      <td>29451.000000</td>\n",
              "      <td>29451.000000</td>\n",
              "    </tr>\n",
              "    <tr>\n",
              "      <th>mean</th>\n",
              "      <td>0.179756</td>\n",
              "      <td>0.317918</td>\n",
              "      <td>2.392279</td>\n",
              "      <td>1.980217e+04</td>\n",
              "      <td>0.820244</td>\n",
              "      <td>0.929578</td>\n",
              "      <td>21.300255</td>\n",
              "      <td>76.837695</td>\n",
              "      <td>142.898746</td>\n",
              "    </tr>\n",
              "    <tr>\n",
              "      <th>std</th>\n",
              "      <td>0.383991</td>\n",
              "      <td>0.465675</td>\n",
              "      <td>0.879091</td>\n",
              "      <td>1.901335e+06</td>\n",
              "      <td>0.383991</td>\n",
              "      <td>0.255861</td>\n",
              "      <td>6.205306</td>\n",
              "      <td>10.557747</td>\n",
              "      <td>656.880713</td>\n",
              "    </tr>\n",
              "    <tr>\n",
              "      <th>min</th>\n",
              "      <td>0.000000</td>\n",
              "      <td>0.000000</td>\n",
              "      <td>1.000000</td>\n",
              "      <td>3.000000e+00</td>\n",
              "      <td>0.000000</td>\n",
              "      <td>0.000000</td>\n",
              "      <td>-37.713008</td>\n",
              "      <td>-121.761248</td>\n",
              "      <td>0.250000</td>\n",
              "    </tr>\n",
              "    <tr>\n",
              "      <th>25%</th>\n",
              "      <td>0.000000</td>\n",
              "      <td>0.000000</td>\n",
              "      <td>2.000000</td>\n",
              "      <td>9.000211e+02</td>\n",
              "      <td>1.000000</td>\n",
              "      <td>1.000000</td>\n",
              "      <td>18.452663</td>\n",
              "      <td>73.798100</td>\n",
              "      <td>38.000000</td>\n",
              "    </tr>\n",
              "    <tr>\n",
              "      <th>50%</th>\n",
              "      <td>0.000000</td>\n",
              "      <td>0.000000</td>\n",
              "      <td>2.000000</td>\n",
              "      <td>1.175057e+03</td>\n",
              "      <td>1.000000</td>\n",
              "      <td>1.000000</td>\n",
              "      <td>20.750000</td>\n",
              "      <td>77.324137</td>\n",
              "      <td>62.000000</td>\n",
              "    </tr>\n",
              "    <tr>\n",
              "      <th>75%</th>\n",
              "      <td>0.000000</td>\n",
              "      <td>1.000000</td>\n",
              "      <td>3.000000</td>\n",
              "      <td>1.550688e+03</td>\n",
              "      <td>1.000000</td>\n",
              "      <td>1.000000</td>\n",
              "      <td>26.900926</td>\n",
              "      <td>77.828740</td>\n",
              "      <td>100.000000</td>\n",
              "    </tr>\n",
              "    <tr>\n",
              "      <th>max</th>\n",
              "      <td>1.000000</td>\n",
              "      <td>1.000000</td>\n",
              "      <td>20.000000</td>\n",
              "      <td>2.545455e+08</td>\n",
              "      <td>1.000000</td>\n",
              "      <td>1.000000</td>\n",
              "      <td>59.912884</td>\n",
              "      <td>152.962676</td>\n",
              "      <td>30000.000000</td>\n",
              "    </tr>\n",
              "  </tbody>\n",
              "</table>\n",
              "</div>\n",
              "      <button class=\"colab-df-convert\" onclick=\"convertToInteractive('df-de99016e-2aac-42cf-a375-d5b71c4b5fab')\"\n",
              "              title=\"Convert this dataframe to an interactive table.\"\n",
              "              style=\"display:none;\">\n",
              "        \n",
              "  <svg xmlns=\"http://www.w3.org/2000/svg\" height=\"24px\"viewBox=\"0 0 24 24\"\n",
              "       width=\"24px\">\n",
              "    <path d=\"M0 0h24v24H0V0z\" fill=\"none\"/>\n",
              "    <path d=\"M18.56 5.44l.94 2.06.94-2.06 2.06-.94-2.06-.94-.94-2.06-.94 2.06-2.06.94zm-11 1L8.5 8.5l.94-2.06 2.06-.94-2.06-.94L8.5 2.5l-.94 2.06-2.06.94zm10 10l.94 2.06.94-2.06 2.06-.94-2.06-.94-.94-2.06-.94 2.06-2.06.94z\"/><path d=\"M17.41 7.96l-1.37-1.37c-.4-.4-.92-.59-1.43-.59-.52 0-1.04.2-1.43.59L10.3 9.45l-7.72 7.72c-.78.78-.78 2.05 0 2.83L4 21.41c.39.39.9.59 1.41.59.51 0 1.02-.2 1.41-.59l7.78-7.78 2.81-2.81c.8-.78.8-2.07 0-2.86zM5.41 20L4 18.59l7.72-7.72 1.47 1.35L5.41 20z\"/>\n",
              "  </svg>\n",
              "      </button>\n",
              "      \n",
              "  <style>\n",
              "    .colab-df-container {\n",
              "      display:flex;\n",
              "      flex-wrap:wrap;\n",
              "      gap: 12px;\n",
              "    }\n",
              "\n",
              "    .colab-df-convert {\n",
              "      background-color: #E8F0FE;\n",
              "      border: none;\n",
              "      border-radius: 50%;\n",
              "      cursor: pointer;\n",
              "      display: none;\n",
              "      fill: #1967D2;\n",
              "      height: 32px;\n",
              "      padding: 0 0 0 0;\n",
              "      width: 32px;\n",
              "    }\n",
              "\n",
              "    .colab-df-convert:hover {\n",
              "      background-color: #E2EBFA;\n",
              "      box-shadow: 0px 1px 2px rgba(60, 64, 67, 0.3), 0px 1px 3px 1px rgba(60, 64, 67, 0.15);\n",
              "      fill: #174EA6;\n",
              "    }\n",
              "\n",
              "    [theme=dark] .colab-df-convert {\n",
              "      background-color: #3B4455;\n",
              "      fill: #D2E3FC;\n",
              "    }\n",
              "\n",
              "    [theme=dark] .colab-df-convert:hover {\n",
              "      background-color: #434B5C;\n",
              "      box-shadow: 0px 1px 3px 1px rgba(0, 0, 0, 0.15);\n",
              "      filter: drop-shadow(0px 1px 2px rgba(0, 0, 0, 0.3));\n",
              "      fill: #FFFFFF;\n",
              "    }\n",
              "  </style>\n",
              "\n",
              "      <script>\n",
              "        const buttonEl =\n",
              "          document.querySelector('#df-de99016e-2aac-42cf-a375-d5b71c4b5fab button.colab-df-convert');\n",
              "        buttonEl.style.display =\n",
              "          google.colab.kernel.accessAllowed ? 'block' : 'none';\n",
              "\n",
              "        async function convertToInteractive(key) {\n",
              "          const element = document.querySelector('#df-de99016e-2aac-42cf-a375-d5b71c4b5fab');\n",
              "          const dataTable =\n",
              "            await google.colab.kernel.invokeFunction('convertToInteractive',\n",
              "                                                     [key], {});\n",
              "          if (!dataTable) return;\n",
              "\n",
              "          const docLinkHtml = 'Like what you see? Visit the ' +\n",
              "            '<a target=\"_blank\" href=https://colab.research.google.com/notebooks/data_table.ipynb>data table notebook</a>'\n",
              "            + ' to learn more about interactive tables.';\n",
              "          element.innerHTML = '';\n",
              "          dataTable['output_type'] = 'display_data';\n",
              "          await google.colab.output.renderOutput(dataTable, element);\n",
              "          const docLink = document.createElement('div');\n",
              "          docLink.innerHTML = docLinkHtml;\n",
              "          element.appendChild(docLink);\n",
              "        }\n",
              "      </script>\n",
              "    </div>\n",
              "  </div>\n",
              "  "
            ]
          },
          "metadata": {},
          "execution_count": 3
        }
      ]
    },
    {
      "cell_type": "code",
      "source": [
        "#getting some information about test data\n",
        "test_data.describe()"
      ],
      "metadata": {
        "colab": {
          "base_uri": "https://localhost:8080/",
          "height": 300
        },
        "id": "g3tmNfUFmMjW",
        "outputId": "cca5bf93-d577-4fb7-cb67-11036c5745d9"
      },
      "execution_count": 4,
      "outputs": [
        {
          "output_type": "execute_result",
          "data": {
            "text/plain": [
              "       UNDER_CONSTRUCTION          RERA       BHK_NO.     SQUARE_FT  \\\n",
              "count        68720.000000  68720.000000  68720.000000  6.872000e+04   \n",
              "mean             0.176557      0.316531      2.388198  2.762419e+03   \n",
              "std              0.381296      0.465126      0.864577  1.640991e+05   \n",
              "min              0.000000      0.000000      1.000000  1.000000e+00   \n",
              "25%              0.000000      0.000000      2.000000  9.000310e+02   \n",
              "50%              0.000000      0.000000      2.000000  1.174982e+03   \n",
              "75%              0.000000      1.000000      3.000000  1.550265e+03   \n",
              "max              1.000000      1.000000     31.000000  4.016393e+07   \n",
              "\n",
              "       READY_TO_MOVE        RESALE     LONGITUDE      LATITUDE  \n",
              "count   68720.000000  68720.000000  68720.000000  68720.000000  \n",
              "mean        0.823443      0.933498     21.288045     76.919388  \n",
              "std         0.381296      0.249159      6.179034     10.100950  \n",
              "min         0.000000      0.000000    -38.391261   -118.354100  \n",
              "25%         1.000000      1.000000     18.452663     73.798100  \n",
              "50%         1.000000      1.000000     20.933260     77.324966  \n",
              "75%         1.000000      1.000000     26.888396     78.000723  \n",
              "max         1.000000      1.000000     65.183330    175.278040  "
            ],
            "text/html": [
              "\n",
              "  <div id=\"df-c9cb9b18-d4b0-4fd4-be97-1176da17336b\">\n",
              "    <div class=\"colab-df-container\">\n",
              "      <div>\n",
              "<style scoped>\n",
              "    .dataframe tbody tr th:only-of-type {\n",
              "        vertical-align: middle;\n",
              "    }\n",
              "\n",
              "    .dataframe tbody tr th {\n",
              "        vertical-align: top;\n",
              "    }\n",
              "\n",
              "    .dataframe thead th {\n",
              "        text-align: right;\n",
              "    }\n",
              "</style>\n",
              "<table border=\"1\" class=\"dataframe\">\n",
              "  <thead>\n",
              "    <tr style=\"text-align: right;\">\n",
              "      <th></th>\n",
              "      <th>UNDER_CONSTRUCTION</th>\n",
              "      <th>RERA</th>\n",
              "      <th>BHK_NO.</th>\n",
              "      <th>SQUARE_FT</th>\n",
              "      <th>READY_TO_MOVE</th>\n",
              "      <th>RESALE</th>\n",
              "      <th>LONGITUDE</th>\n",
              "      <th>LATITUDE</th>\n",
              "    </tr>\n",
              "  </thead>\n",
              "  <tbody>\n",
              "    <tr>\n",
              "      <th>count</th>\n",
              "      <td>68720.000000</td>\n",
              "      <td>68720.000000</td>\n",
              "      <td>68720.000000</td>\n",
              "      <td>6.872000e+04</td>\n",
              "      <td>68720.000000</td>\n",
              "      <td>68720.000000</td>\n",
              "      <td>68720.000000</td>\n",
              "      <td>68720.000000</td>\n",
              "    </tr>\n",
              "    <tr>\n",
              "      <th>mean</th>\n",
              "      <td>0.176557</td>\n",
              "      <td>0.316531</td>\n",
              "      <td>2.388198</td>\n",
              "      <td>2.762419e+03</td>\n",
              "      <td>0.823443</td>\n",
              "      <td>0.933498</td>\n",
              "      <td>21.288045</td>\n",
              "      <td>76.919388</td>\n",
              "    </tr>\n",
              "    <tr>\n",
              "      <th>std</th>\n",
              "      <td>0.381296</td>\n",
              "      <td>0.465126</td>\n",
              "      <td>0.864577</td>\n",
              "      <td>1.640991e+05</td>\n",
              "      <td>0.381296</td>\n",
              "      <td>0.249159</td>\n",
              "      <td>6.179034</td>\n",
              "      <td>10.100950</td>\n",
              "    </tr>\n",
              "    <tr>\n",
              "      <th>min</th>\n",
              "      <td>0.000000</td>\n",
              "      <td>0.000000</td>\n",
              "      <td>1.000000</td>\n",
              "      <td>1.000000e+00</td>\n",
              "      <td>0.000000</td>\n",
              "      <td>0.000000</td>\n",
              "      <td>-38.391261</td>\n",
              "      <td>-118.354100</td>\n",
              "    </tr>\n",
              "    <tr>\n",
              "      <th>25%</th>\n",
              "      <td>0.000000</td>\n",
              "      <td>0.000000</td>\n",
              "      <td>2.000000</td>\n",
              "      <td>9.000310e+02</td>\n",
              "      <td>1.000000</td>\n",
              "      <td>1.000000</td>\n",
              "      <td>18.452663</td>\n",
              "      <td>73.798100</td>\n",
              "    </tr>\n",
              "    <tr>\n",
              "      <th>50%</th>\n",
              "      <td>0.000000</td>\n",
              "      <td>0.000000</td>\n",
              "      <td>2.000000</td>\n",
              "      <td>1.174982e+03</td>\n",
              "      <td>1.000000</td>\n",
              "      <td>1.000000</td>\n",
              "      <td>20.933260</td>\n",
              "      <td>77.324966</td>\n",
              "    </tr>\n",
              "    <tr>\n",
              "      <th>75%</th>\n",
              "      <td>0.000000</td>\n",
              "      <td>1.000000</td>\n",
              "      <td>3.000000</td>\n",
              "      <td>1.550265e+03</td>\n",
              "      <td>1.000000</td>\n",
              "      <td>1.000000</td>\n",
              "      <td>26.888396</td>\n",
              "      <td>78.000723</td>\n",
              "    </tr>\n",
              "    <tr>\n",
              "      <th>max</th>\n",
              "      <td>1.000000</td>\n",
              "      <td>1.000000</td>\n",
              "      <td>31.000000</td>\n",
              "      <td>4.016393e+07</td>\n",
              "      <td>1.000000</td>\n",
              "      <td>1.000000</td>\n",
              "      <td>65.183330</td>\n",
              "      <td>175.278040</td>\n",
              "    </tr>\n",
              "  </tbody>\n",
              "</table>\n",
              "</div>\n",
              "      <button class=\"colab-df-convert\" onclick=\"convertToInteractive('df-c9cb9b18-d4b0-4fd4-be97-1176da17336b')\"\n",
              "              title=\"Convert this dataframe to an interactive table.\"\n",
              "              style=\"display:none;\">\n",
              "        \n",
              "  <svg xmlns=\"http://www.w3.org/2000/svg\" height=\"24px\"viewBox=\"0 0 24 24\"\n",
              "       width=\"24px\">\n",
              "    <path d=\"M0 0h24v24H0V0z\" fill=\"none\"/>\n",
              "    <path d=\"M18.56 5.44l.94 2.06.94-2.06 2.06-.94-2.06-.94-.94-2.06-.94 2.06-2.06.94zm-11 1L8.5 8.5l.94-2.06 2.06-.94-2.06-.94L8.5 2.5l-.94 2.06-2.06.94zm10 10l.94 2.06.94-2.06 2.06-.94-2.06-.94-.94-2.06-.94 2.06-2.06.94z\"/><path d=\"M17.41 7.96l-1.37-1.37c-.4-.4-.92-.59-1.43-.59-.52 0-1.04.2-1.43.59L10.3 9.45l-7.72 7.72c-.78.78-.78 2.05 0 2.83L4 21.41c.39.39.9.59 1.41.59.51 0 1.02-.2 1.41-.59l7.78-7.78 2.81-2.81c.8-.78.8-2.07 0-2.86zM5.41 20L4 18.59l7.72-7.72 1.47 1.35L5.41 20z\"/>\n",
              "  </svg>\n",
              "      </button>\n",
              "      \n",
              "  <style>\n",
              "    .colab-df-container {\n",
              "      display:flex;\n",
              "      flex-wrap:wrap;\n",
              "      gap: 12px;\n",
              "    }\n",
              "\n",
              "    .colab-df-convert {\n",
              "      background-color: #E8F0FE;\n",
              "      border: none;\n",
              "      border-radius: 50%;\n",
              "      cursor: pointer;\n",
              "      display: none;\n",
              "      fill: #1967D2;\n",
              "      height: 32px;\n",
              "      padding: 0 0 0 0;\n",
              "      width: 32px;\n",
              "    }\n",
              "\n",
              "    .colab-df-convert:hover {\n",
              "      background-color: #E2EBFA;\n",
              "      box-shadow: 0px 1px 2px rgba(60, 64, 67, 0.3), 0px 1px 3px 1px rgba(60, 64, 67, 0.15);\n",
              "      fill: #174EA6;\n",
              "    }\n",
              "\n",
              "    [theme=dark] .colab-df-convert {\n",
              "      background-color: #3B4455;\n",
              "      fill: #D2E3FC;\n",
              "    }\n",
              "\n",
              "    [theme=dark] .colab-df-convert:hover {\n",
              "      background-color: #434B5C;\n",
              "      box-shadow: 0px 1px 3px 1px rgba(0, 0, 0, 0.15);\n",
              "      filter: drop-shadow(0px 1px 2px rgba(0, 0, 0, 0.3));\n",
              "      fill: #FFFFFF;\n",
              "    }\n",
              "  </style>\n",
              "\n",
              "      <script>\n",
              "        const buttonEl =\n",
              "          document.querySelector('#df-c9cb9b18-d4b0-4fd4-be97-1176da17336b button.colab-df-convert');\n",
              "        buttonEl.style.display =\n",
              "          google.colab.kernel.accessAllowed ? 'block' : 'none';\n",
              "\n",
              "        async function convertToInteractive(key) {\n",
              "          const element = document.querySelector('#df-c9cb9b18-d4b0-4fd4-be97-1176da17336b');\n",
              "          const dataTable =\n",
              "            await google.colab.kernel.invokeFunction('convertToInteractive',\n",
              "                                                     [key], {});\n",
              "          if (!dataTable) return;\n",
              "\n",
              "          const docLinkHtml = 'Like what you see? Visit the ' +\n",
              "            '<a target=\"_blank\" href=https://colab.research.google.com/notebooks/data_table.ipynb>data table notebook</a>'\n",
              "            + ' to learn more about interactive tables.';\n",
              "          element.innerHTML = '';\n",
              "          dataTable['output_type'] = 'display_data';\n",
              "          await google.colab.output.renderOutput(dataTable, element);\n",
              "          const docLink = document.createElement('div');\n",
              "          docLink.innerHTML = docLinkHtml;\n",
              "          element.appendChild(docLink);\n",
              "        }\n",
              "      </script>\n",
              "    </div>\n",
              "  </div>\n",
              "  "
            ]
          },
          "metadata": {},
          "execution_count": 4
        }
      ]
    },
    {
      "cell_type": "code",
      "source": [
        "#getting some infromation about the train data\n",
        "train_data.info()"
      ],
      "metadata": {
        "colab": {
          "base_uri": "https://localhost:8080/"
        },
        "id": "exrQAxismMl9",
        "outputId": "acc1940c-4614-4b1d-e94d-bef6374e22cb"
      },
      "execution_count": 5,
      "outputs": [
        {
          "output_type": "stream",
          "name": "stdout",
          "text": [
            "<class 'pandas.core.frame.DataFrame'>\n",
            "RangeIndex: 29451 entries, 0 to 29450\n",
            "Data columns (total 12 columns):\n",
            " #   Column                 Non-Null Count  Dtype  \n",
            "---  ------                 --------------  -----  \n",
            " 0   POSTED_BY              29451 non-null  object \n",
            " 1   UNDER_CONSTRUCTION     29451 non-null  int64  \n",
            " 2   RERA                   29451 non-null  int64  \n",
            " 3   BHK_NO.                29451 non-null  int64  \n",
            " 4   BHK_OR_RK              29451 non-null  object \n",
            " 5   SQUARE_FT              29451 non-null  float64\n",
            " 6   READY_TO_MOVE          29451 non-null  int64  \n",
            " 7   RESALE                 29451 non-null  int64  \n",
            " 8   ADDRESS                29451 non-null  object \n",
            " 9   LONGITUDE              29451 non-null  float64\n",
            " 10  LATITUDE               29451 non-null  float64\n",
            " 11  TARGET(PRICE_IN_LACS)  29451 non-null  float64\n",
            "dtypes: float64(4), int64(5), object(3)\n",
            "memory usage: 2.7+ MB\n"
          ]
        }
      ]
    },
    {
      "cell_type": "code",
      "source": [
        "#checking for duplicates\n",
        "\n",
        "train_data.duplicated().sum()"
      ],
      "metadata": {
        "colab": {
          "base_uri": "https://localhost:8080/"
        },
        "id": "PGZHJ6E1mMod",
        "outputId": "2079c2e5-efdf-4b42-b31c-9226c0eef215"
      },
      "execution_count": 6,
      "outputs": [
        {
          "output_type": "execute_result",
          "data": {
            "text/plain": [
              "401"
            ]
          },
          "metadata": {},
          "execution_count": 6
        }
      ]
    },
    {
      "cell_type": "code",
      "source": [
        "#drop duplicates\n",
        "train_data.drop_duplicates(inplace=True)"
      ],
      "metadata": {
        "id": "Kx1Cy_ypmMrD"
      },
      "execution_count": 7,
      "outputs": []
    },
    {
      "cell_type": "code",
      "source": [
        "train_data.duplicated().sum()"
      ],
      "metadata": {
        "colab": {
          "base_uri": "https://localhost:8080/"
        },
        "id": "vCo0arbkmMt0",
        "outputId": "c13bf0ae-b104-4ea7-e1d1-1ace45cf82b5"
      },
      "execution_count": 8,
      "outputs": [
        {
          "output_type": "execute_result",
          "data": {
            "text/plain": [
              "0"
            ]
          },
          "metadata": {},
          "execution_count": 8
        }
      ]
    },
    {
      "cell_type": "code",
      "source": [
        "train_data.isnull().sum()"
      ],
      "metadata": {
        "colab": {
          "base_uri": "https://localhost:8080/"
        },
        "id": "feakD6VqmMwv",
        "outputId": "3fe45bb3-5a16-4cb4-e779-a67913464271"
      },
      "execution_count": 9,
      "outputs": [
        {
          "output_type": "execute_result",
          "data": {
            "text/plain": [
              "POSTED_BY                0\n",
              "UNDER_CONSTRUCTION       0\n",
              "RERA                     0\n",
              "BHK_NO.                  0\n",
              "BHK_OR_RK                0\n",
              "SQUARE_FT                0\n",
              "READY_TO_MOVE            0\n",
              "RESALE                   0\n",
              "ADDRESS                  0\n",
              "LONGITUDE                0\n",
              "LATITUDE                 0\n",
              "TARGET(PRICE_IN_LACS)    0\n",
              "dtype: int64"
            ]
          },
          "metadata": {},
          "execution_count": 9
        }
      ]
    },
    {
      "cell_type": "code",
      "source": [
        "#checking columns name \n",
        "train_data.columns"
      ],
      "metadata": {
        "colab": {
          "base_uri": "https://localhost:8080/"
        },
        "id": "CpG3AIFPmM1o",
        "outputId": "b82a661e-fe9c-40fb-a1ef-73d2a370a024"
      },
      "execution_count": 10,
      "outputs": [
        {
          "output_type": "execute_result",
          "data": {
            "text/plain": [
              "Index(['POSTED_BY', 'UNDER_CONSTRUCTION', 'RERA', 'BHK_NO.', 'BHK_OR_RK',\n",
              "       'SQUARE_FT', 'READY_TO_MOVE', 'RESALE', 'ADDRESS', 'LONGITUDE',\n",
              "       'LATITUDE', 'TARGET(PRICE_IN_LACS)'],\n",
              "      dtype='object')"
            ]
          },
          "metadata": {},
          "execution_count": 10
        }
      ]
    },
    {
      "cell_type": "code",
      "source": [
        "#Renameing 'TARGET(PRICE_IN_LACS)' to 'PRICE'\n",
        "train_data.rename(columns={'TARGET(PRICE_IN_LACS)':'PRICES'},inplace=True)"
      ],
      "metadata": {
        "id": "_paRbFtImM4o"
      },
      "execution_count": 11,
      "outputs": []
    },
    {
      "cell_type": "code",
      "source": [
        "#checking changed name columns\n",
        "train_data.columns"
      ],
      "metadata": {
        "colab": {
          "base_uri": "https://localhost:8080/"
        },
        "id": "mUFuJ9GcmM8_",
        "outputId": "cfaafd24-c633-40f6-dbe4-8a16195682d4"
      },
      "execution_count": 12,
      "outputs": [
        {
          "output_type": "execute_result",
          "data": {
            "text/plain": [
              "Index(['POSTED_BY', 'UNDER_CONSTRUCTION', 'RERA', 'BHK_NO.', 'BHK_OR_RK',\n",
              "       'SQUARE_FT', 'READY_TO_MOVE', 'RESALE', 'ADDRESS', 'LONGITUDE',\n",
              "       'LATITUDE', 'PRICES'],\n",
              "      dtype='object')"
            ]
          },
          "metadata": {},
          "execution_count": 12
        }
      ]
    },
    {
      "cell_type": "code",
      "source": [
        "#visualising 'POSTED_BY' filed\n",
        "sns.countplot(train_data.POSTED_BY)"
      ],
      "metadata": {
        "colab": {
          "base_uri": "https://localhost:8080/",
          "height": 294
        },
        "id": "N9IlxRlg8qVo",
        "outputId": "7873fffc-d70a-46af-8cde-808367856b0b"
      },
      "execution_count": 13,
      "outputs": [
        {
          "output_type": "execute_result",
          "data": {
            "text/plain": [
              "<matplotlib.axes._subplots.AxesSubplot at 0x7f74eeeca390>"
            ]
          },
          "metadata": {},
          "execution_count": 13
        },
        {
          "output_type": "display_data",
          "data": {
            "text/plain": [
              "<Figure size 432x288 with 1 Axes>"
            ],
            "image/png": "[encoded data removed]"
          },
          "metadata": {
            "needs_background": "light"
          }
        }
      ]
    },
    {
      "cell_type": "code",
      "source": [
        "#realation between 'PRICE' and 'POSTED_BY'\n",
        "\n",
        "train_data.groupby('POSTED_BY')['PRICES'].mean()"
      ],
      "metadata": {
        "colab": {
          "base_uri": "https://localhost:8080/"
        },
        "id": "cInPerhZ9Ai_",
        "outputId": "20a7891b-0c40-4289-a992-6239551b5788"
      },
      "execution_count": 14,
      "outputs": [
        {
          "output_type": "execute_result",
          "data": {
            "text/plain": [
              "POSTED_BY\n",
              "Builder    246.722294\n",
              "Dealer     185.285099\n",
              "Owner       60.757067\n",
              "Name: PRICES, dtype: float64"
            ]
          },
          "metadata": {},
          "execution_count": 14
        }
      ]
    },
    {
      "cell_type": "code",
      "source": [
        "#creating One Hot Encoding using dummies for 'POSTED_BY' train\n",
        "train_data=pd.concat([train_data,pd.get_dummies(train_data.POSTED_BY,prefix='POSTED_BY',drop_first=False)],axis=1)"
      ],
      "metadata": {
        "id": "ejnSAQtW9Zjh"
      },
      "execution_count": 16,
      "outputs": []
    },
    {
      "cell_type": "code",
      "source": [
        "#creating Pne Hot Encoding using dummies for \"POSTED_BY\" test\n",
        "test_data=pd.concat([test_data,pd.get_dummies(test_data.POSTED_BY,prefix='POSTED_BY',drop_first=False)],axis=1)"
      ],
      "metadata": {
        "id": "yl80net_TwHk"
      },
      "execution_count": 17,
      "outputs": []
    },
    {
      "cell_type": "code",
      "source": [
        "# It seems like the avarage price of the flat depends on the order: Builder > Dealer >Owner"
      ],
      "metadata": {
        "id": "_sm3r3KtUJdw"
      },
      "execution_count": 18,
      "outputs": []
    },
    {
      "cell_type": "code",
      "source": [
        "train_data.head()"
      ],
      "metadata": {
        "colab": {
          "base_uri": "https://localhost:8080/",
          "height": 322
        },
        "id": "z9LBZqHJUntH",
        "outputId": "6aaa84c1-6b3c-4fcb-eb33-70534ac55b1e"
      },
      "execution_count": 19,
      "outputs": [
        {
          "output_type": "execute_result",
          "data": {
            "text/plain": [
              "  POSTED_BY  UNDER_CONSTRUCTION  RERA  BHK_NO. BHK_OR_RK    SQUARE_FT  \\\n",
              "0     Owner                   0     0        2       BHK  1300.236407   \n",
              "1    Dealer                   0     0        2       BHK  1275.000000   \n",
              "2     Owner                   0     0        2       BHK   933.159722   \n",
              "3     Owner                   0     1        2       BHK   929.921143   \n",
              "4    Dealer                   1     0        2       BHK   999.009247   \n",
              "\n",
              "   READY_TO_MOVE  RESALE                      ADDRESS  LONGITUDE   LATITUDE  \\\n",
              "0              1       1        Ksfc Layout,Bangalore  12.969910  77.597960   \n",
              "1              1       1    Vishweshwara Nagar,Mysore  12.274538  76.644605   \n",
              "2              1       1             Jigani,Bangalore  12.778033  77.632191   \n",
              "3              1       1  Sector-1 Vaishali,Ghaziabad  28.642300  77.344500   \n",
              "4              0       1             New Town,Kolkata  22.592200  88.484911   \n",
              "\n",
              "   PRICES  POSTED_BY_Builder  POSTED_BY_Dealer  POSTED_BY_Owner  \n",
              "0    55.0                  0                 0                1  \n",
              "1    51.0                  0                 1                0  \n",
              "2    43.0                  0                 0                1  \n",
              "3    62.5                  0                 0                1  \n",
              "4    60.5                  0                 1                0  "
            ],
            "text/html": [
              "\n",
              "  <div id=\"df-21f96928-c719-4665-bc67-22c144e97866\">\n",
              "    <div class=\"colab-df-container\">\n",
              "      <div>\n",
              "<style scoped>\n",
              "    .dataframe tbody tr th:only-of-type {\n",
              "        vertical-align: middle;\n",
              "    }\n",
              "\n",
              "    .dataframe tbody tr th {\n",
              "        vertical-align: top;\n",
              "    }\n",
              "\n",
              "    .dataframe thead th {\n",
              "        text-align: right;\n",
              "    }\n",
              "</style>\n",
              "<table border=\"1\" class=\"dataframe\">\n",
              "  <thead>\n",
              "    <tr style=\"text-align: right;\">\n",
              "      <th></th>\n",
              "      <th>POSTED_BY</th>\n",
              "      <th>UNDER_CONSTRUCTION</th>\n",
              "      <th>RERA</th>\n",
              "      <th>BHK_NO.</th>\n",
              "      <th>BHK_OR_RK</th>\n",
              "      <th>SQUARE_FT</th>\n",
              "      <th>READY_TO_MOVE</th>\n",
              "      <th>RESALE</th>\n",
              "      <th>ADDRESS</th>\n",
              "      <th>LONGITUDE</th>\n",
              "      <th>LATITUDE</th>\n",
              "      <th>PRICES</th>\n",
              "      <th>POSTED_BY_Builder</th>\n",
              "      <th>POSTED_BY_Dealer</th>\n",
              "      <th>POSTED_BY_Owner</th>\n",
              "    </tr>\n",
              "  </thead>\n",
              "  <tbody>\n",
              "    <tr>\n",
              "      <th>0</th>\n",
              "      <td>Owner</td>\n",
              "      <td>0</td>\n",
              "      <td>0</td>\n",
              "      <td>2</td>\n",
              "      <td>BHK</td>\n",
              "      <td>1300.236407</td>\n",
              "      <td>1</td>\n",
              "      <td>1</td>\n",
              "      <td>Ksfc Layout,Bangalore</td>\n",
              "      <td>12.969910</td>\n",
              "      <td>77.597960</td>\n",
              "      <td>55.0</td>\n",
              "      <td>0</td>\n",
              "      <td>0</td>\n",
              "      <td>1</td>\n",
              "    </tr>\n",
              "    <tr>\n",
              "      <th>1</th>\n",
              "      <td>Dealer</td>\n",
              "      <td>0</td>\n",
              "      <td>0</td>\n",
              "      <td>2</td>\n",
              "      <td>BHK</td>\n",
              "      <td>1275.000000</td>\n",
              "      <td>1</td>\n",
              "      <td>1</td>\n",
              "      <td>Vishweshwara Nagar,Mysore</td>\n",
              "      <td>12.274538</td>\n",
              "      <td>76.644605</td>\n",
              "      <td>51.0</td>\n",
              "      <td>0</td>\n",
              "      <td>1</td>\n",
              "      <td>0</td>\n",
              "    </tr>\n",
              "    <tr>\n",
              "      <th>2</th>\n",
              "      <td>Owner</td>\n",
              "      <td>0</td>\n",
              "      <td>0</td>\n",
              "      <td>2</td>\n",
              "      <td>BHK</td>\n",
              "      <td>933.159722</td>\n",
              "      <td>1</td>\n",
              "      <td>1</td>\n",
              "      <td>Jigani,Bangalore</td>\n",
              "      <td>12.778033</td>\n",
              "      <td>77.632191</td>\n",
              "      <td>43.0</td>\n",
              "      <td>0</td>\n",
              "      <td>0</td>\n",
              "      <td>1</td>\n",
              "    </tr>\n",
              "    <tr>\n",
              "      <th>3</th>\n",
              "      <td>Owner</td>\n",
              "      <td>0</td>\n",
              "      <td>1</td>\n",
              "      <td>2</td>\n",
              "      <td>BHK</td>\n",
              "      <td>929.921143</td>\n",
              "      <td>1</td>\n",
              "      <td>1</td>\n",
              "      <td>Sector-1 Vaishali,Ghaziabad</td>\n",
              "      <td>28.642300</td>\n",
              "      <td>77.344500</td>\n",
              "      <td>62.5</td>\n",
              "      <td>0</td>\n",
              "      <td>0</td>\n",
              "      <td>1</td>\n",
              "    </tr>\n",
              "    <tr>\n",
              "      <th>4</th>\n",
              "      <td>Dealer</td>\n",
              "      <td>1</td>\n",
              "      <td>0</td>\n",
              "      <td>2</td>\n",
              "      <td>BHK</td>\n",
              "      <td>999.009247</td>\n",
              "      <td>0</td>\n",
              "      <td>1</td>\n",
              "      <td>New Town,Kolkata</td>\n",
              "      <td>22.592200</td>\n",
              "      <td>88.484911</td>\n",
              "      <td>60.5</td>\n",
              "      <td>0</td>\n",
              "      <td>1</td>\n",
              "      <td>0</td>\n",
              "    </tr>\n",
              "  </tbody>\n",
              "</table>\n",
              "</div>\n",
              "      <button class=\"colab-df-convert\" onclick=\"convertToInteractive('df-21f96928-c719-4665-bc67-22c144e97866')\"\n",
              "              title=\"Convert this dataframe to an interactive table.\"\n",
              "              style=\"display:none;\">\n",
              "        \n",
              "  <svg xmlns=\"http://www.w3.org/2000/svg\" height=\"24px\"viewBox=\"0 0 24 24\"\n",
              "       width=\"24px\">\n",
              "    <path d=\"M0 0h24v24H0V0z\" fill=\"none\"/>\n",
              "    <path d=\"M18.56 5.44l.94 2.06.94-2.06 2.06-.94-2.06-.94-.94-2.06-.94 2.06-2.06.94zm-11 1L8.5 8.5l.94-2.06 2.06-.94-2.06-.94L8.5 2.5l-.94 2.06-2.06.94zm10 10l.94 2.06.94-2.06 2.06-.94-2.06-.94-.94-2.06-.94 2.06-2.06.94z\"/><path d=\"M17.41 7.96l-1.37-1.37c-.4-.4-.92-.59-1.43-.59-.52 0-1.04.2-1.43.59L10.3 9.45l-7.72 7.72c-.78.78-.78 2.05 0 2.83L4 21.41c.39.39.9.59 1.41.59.51 0 1.02-.2 1.41-.59l7.78-7.78 2.81-2.81c.8-.78.8-2.07 0-2.86zM5.41 20L4 18.59l7.72-7.72 1.47 1.35L5.41 20z\"/>\n",
              "  </svg>\n",
              "      </button>\n",
              "      \n",
              "  <style>\n",
              "    .colab-df-container {\n",
              "      display:flex;\n",
              "      flex-wrap:wrap;\n",
              "      gap: 12px;\n",
              "    }\n",
              "\n",
              "    .colab-df-convert {\n",
              "      background-color: #E8F0FE;\n",
              "      border: none;\n",
              "      border-radius: 50%;\n",
              "      cursor: pointer;\n",
              "      display: none;\n",
              "      fill: #1967D2;\n",
              "      height: 32px;\n",
              "      padding: 0 0 0 0;\n",
              "      width: 32px;\n",
              "    }\n",
              "\n",
              "    .colab-df-convert:hover {\n",
              "      background-color: #E2EBFA;\n",
              "      box-shadow: 0px 1px 2px rgba(60, 64, 67, 0.3), 0px 1px 3px 1px rgba(60, 64, 67, 0.15);\n",
              "      fill: #174EA6;\n",
              "    }\n",
              "\n",
              "    [theme=dark] .colab-df-convert {\n",
              "      background-color: #3B4455;\n",
              "      fill: #D2E3FC;\n",
              "    }\n",
              "\n",
              "    [theme=dark] .colab-df-convert:hover {\n",
              "      background-color: #434B5C;\n",
              "      box-shadow: 0px 1px 3px 1px rgba(0, 0, 0, 0.15);\n",
              "      filter: drop-shadow(0px 1px 2px rgba(0, 0, 0, 0.3));\n",
              "      fill: #FFFFFF;\n",
              "    }\n",
              "  </style>\n",
              "\n",
              "      <script>\n",
              "        const buttonEl =\n",
              "          document.querySelector('#df-21f96928-c719-4665-bc67-22c144e97866 button.colab-df-convert');\n",
              "        buttonEl.style.display =\n",
              "          google.colab.kernel.accessAllowed ? 'block' : 'none';\n",
              "\n",
              "        async function convertToInteractive(key) {\n",
              "          const element = document.querySelector('#df-21f96928-c719-4665-bc67-22c144e97866');\n",
              "          const dataTable =\n",
              "            await google.colab.kernel.invokeFunction('convertToInteractive',\n",
              "                                                     [key], {});\n",
              "          if (!dataTable) return;\n",
              "\n",
              "          const docLinkHtml = 'Like what you see? Visit the ' +\n",
              "            '<a target=\"_blank\" href=https://colab.research.google.com/notebooks/data_table.ipynb>data table notebook</a>'\n",
              "            + ' to learn more about interactive tables.';\n",
              "          element.innerHTML = '';\n",
              "          dataTable['output_type'] = 'display_data';\n",
              "          await google.colab.output.renderOutput(dataTable, element);\n",
              "          const docLink = document.createElement('div');\n",
              "          docLink.innerHTML = docLinkHtml;\n",
              "          element.appendChild(docLink);\n",
              "        }\n",
              "      </script>\n",
              "    </div>\n",
              "  </div>\n",
              "  "
            ]
          },
          "metadata": {},
          "execution_count": 19
        }
      ]
    },
    {
      "cell_type": "code",
      "source": [
        "#Visulaising for 'BHK_OR_RK'\n",
        "\n",
        "train_data.groupby('BHK_OR_RK').count()"
      ],
      "metadata": {
        "colab": {
          "base_uri": "https://localhost:8080/",
          "height": 208
        },
        "id": "pfGMVH5_Usf6",
        "outputId": "f7dd7816-e1e0-4285-8a3c-271b6906a1a3"
      },
      "execution_count": 20,
      "outputs": [
        {
          "output_type": "execute_result",
          "data": {
            "text/plain": [
              "           POSTED_BY  UNDER_CONSTRUCTION   RERA  BHK_NO.  SQUARE_FT  \\\n",
              "BHK_OR_RK                                                             \n",
              "BHK            29026               29026  29026    29026      29026   \n",
              "RK                24                  24     24       24         24   \n",
              "\n",
              "           READY_TO_MOVE  RESALE  ADDRESS  LONGITUDE  LATITUDE  PRICES  \\\n",
              "BHK_OR_RK                                                                \n",
              "BHK                29026   29026    29026      29026     29026   29026   \n",
              "RK                    24      24       24         24        24      24   \n",
              "\n",
              "           POSTED_BY_Builder  POSTED_BY_Dealer  POSTED_BY_Owner  \n",
              "BHK_OR_RK                                                        \n",
              "BHK                    29026             29026            29026  \n",
              "RK                        24                24               24  "
            ],
            "text/html": [
              "\n",
              "  <div id=\"df-6f21ebb2-3e1b-4b7b-b99f-4a428c3742f3\">\n",
              "    <div class=\"colab-df-container\">\n",
              "      <div>\n",
              "<style scoped>\n",
              "    .dataframe tbody tr th:only-of-type {\n",
              "        vertical-align: middle;\n",
              "    }\n",
              "\n",
              "    .dataframe tbody tr th {\n",
              "        vertical-align: top;\n",
              "    }\n",
              "\n",
              "    .dataframe thead th {\n",
              "        text-align: right;\n",
              "    }\n",
              "</style>\n",
              "<table border=\"1\" class=\"dataframe\">\n",
              "  <thead>\n",
              "    <tr style=\"text-align: right;\">\n",
              "      <th></th>\n",
              "      <th>POSTED_BY</th>\n",
              "      <th>UNDER_CONSTRUCTION</th>\n",
              "      <th>RERA</th>\n",
              "      <th>BHK_NO.</th>\n",
              "      <th>SQUARE_FT</th>\n",
              "      <th>READY_TO_MOVE</th>\n",
              "      <th>RESALE</th>\n",
              "      <th>ADDRESS</th>\n",
              "      <th>LONGITUDE</th>\n",
              "      <th>LATITUDE</th>\n",
              "      <th>PRICES</th>\n",
              "      <th>POSTED_BY_Builder</th>\n",
              "      <th>POSTED_BY_Dealer</th>\n",
              "      <th>POSTED_BY_Owner</th>\n",
              "    </tr>\n",
              "    <tr>\n",
              "      <th>BHK_OR_RK</th>\n",
              "      <th></th>\n",
              "      <th></th>\n",
              "      <th></th>\n",
              "      <th></th>\n",
              "      <th></th>\n",
              "      <th></th>\n",
              "      <th></th>\n",
              "      <th></th>\n",
              "      <th></th>\n",
              "      <th></th>\n",
              "      <th></th>\n",
              "      <th></th>\n",
              "      <th></th>\n",
              "      <th></th>\n",
              "    </tr>\n",
              "  </thead>\n",
              "  <tbody>\n",
              "    <tr>\n",
              "      <th>BHK</th>\n",
              "      <td>29026</td>\n",
              "      <td>29026</td>\n",
              "      <td>29026</td>\n",
              "      <td>29026</td>\n",
              "      <td>29026</td>\n",
              "      <td>29026</td>\n",
              "      <td>29026</td>\n",
              "      <td>29026</td>\n",
              "      <td>29026</td>\n",
              "      <td>29026</td>\n",
              "      <td>29026</td>\n",
              "      <td>29026</td>\n",
              "      <td>29026</td>\n",
              "      <td>29026</td>\n",
              "    </tr>\n",
              "    <tr>\n",
              "      <th>RK</th>\n",
              "      <td>24</td>\n",
              "      <td>24</td>\n",
              "      <td>24</td>\n",
              "      <td>24</td>\n",
              "      <td>24</td>\n",
              "      <td>24</td>\n",
              "      <td>24</td>\n",
              "      <td>24</td>\n",
              "      <td>24</td>\n",
              "      <td>24</td>\n",
              "      <td>24</td>\n",
              "      <td>24</td>\n",
              "      <td>24</td>\n",
              "      <td>24</td>\n",
              "    </tr>\n",
              "  </tbody>\n",
              "</table>\n",
              "</div>\n",
              "      <button class=\"colab-df-convert\" onclick=\"convertToInteractive('df-6f21ebb2-3e1b-4b7b-b99f-4a428c3742f3')\"\n",
              "              title=\"Convert this dataframe to an interactive table.\"\n",
              "              style=\"display:none;\">\n",
              "        \n",
              "  <svg xmlns=\"http://www.w3.org/2000/svg\" height=\"24px\"viewBox=\"0 0 24 24\"\n",
              "       width=\"24px\">\n",
              "    <path d=\"M0 0h24v24H0V0z\" fill=\"none\"/>\n",
              "    <path d=\"M18.56 5.44l.94 2.06.94-2.06 2.06-.94-2.06-.94-.94-2.06-.94 2.06-2.06.94zm-11 1L8.5 8.5l.94-2.06 2.06-.94-2.06-.94L8.5 2.5l-.94 2.06-2.06.94zm10 10l.94 2.06.94-2.06 2.06-.94-2.06-.94-.94-2.06-.94 2.06-2.06.94z\"/><path d=\"M17.41 7.96l-1.37-1.37c-.4-.4-.92-.59-1.43-.59-.52 0-1.04.2-1.43.59L10.3 9.45l-7.72 7.72c-.78.78-.78 2.05 0 2.83L4 21.41c.39.39.9.59 1.41.59.51 0 1.02-.2 1.41-.59l7.78-7.78 2.81-2.81c.8-.78.8-2.07 0-2.86zM5.41 20L4 18.59l7.72-7.72 1.47 1.35L5.41 20z\"/>\n",
              "  </svg>\n",
              "      </button>\n",
              "      \n",
              "  <style>\n",
              "    .colab-df-container {\n",
              "      display:flex;\n",
              "      flex-wrap:wrap;\n",
              "      gap: 12px;\n",
              "    }\n",
              "\n",
              "    .colab-df-convert {\n",
              "      background-color: #E8F0FE;\n",
              "      border: none;\n",
              "      border-radius: 50%;\n",
              "      cursor: pointer;\n",
              "      display: none;\n",
              "      fill: #1967D2;\n",
              "      height: 32px;\n",
              "      padding: 0 0 0 0;\n",
              "      width: 32px;\n",
              "    }\n",
              "\n",
              "    .colab-df-convert:hover {\n",
              "      background-color: #E2EBFA;\n",
              "      box-shadow: 0px 1px 2px rgba(60, 64, 67, 0.3), 0px 1px 3px 1px rgba(60, 64, 67, 0.15);\n",
              "      fill: #174EA6;\n",
              "    }\n",
              "\n",
              "    [theme=dark] .colab-df-convert {\n",
              "      background-color: #3B4455;\n",
              "      fill: #D2E3FC;\n",
              "    }\n",
              "\n",
              "    [theme=dark] .colab-df-convert:hover {\n",
              "      background-color: #434B5C;\n",
              "      box-shadow: 0px 1px 3px 1px rgba(0, 0, 0, 0.15);\n",
              "      filter: drop-shadow(0px 1px 2px rgba(0, 0, 0, 0.3));\n",
              "      fill: #FFFFFF;\n",
              "    }\n",
              "  </style>\n",
              "\n",
              "      <script>\n",
              "        const buttonEl =\n",
              "          document.querySelector('#df-6f21ebb2-3e1b-4b7b-b99f-4a428c3742f3 button.colab-df-convert');\n",
              "        buttonEl.style.display =\n",
              "          google.colab.kernel.accessAllowed ? 'block' : 'none';\n",
              "\n",
              "        async function convertToInteractive(key) {\n",
              "          const element = document.querySelector('#df-6f21ebb2-3e1b-4b7b-b99f-4a428c3742f3');\n",
              "          const dataTable =\n",
              "            await google.colab.kernel.invokeFunction('convertToInteractive',\n",
              "                                                     [key], {});\n",
              "          if (!dataTable) return;\n",
              "\n",
              "          const docLinkHtml = 'Like what you see? Visit the ' +\n",
              "            '<a target=\"_blank\" href=https://colab.research.google.com/notebooks/data_table.ipynb>data table notebook</a>'\n",
              "            + ' to learn more about interactive tables.';\n",
              "          element.innerHTML = '';\n",
              "          dataTable['output_type'] = 'display_data';\n",
              "          await google.colab.output.renderOutput(dataTable, element);\n",
              "          const docLink = document.createElement('div');\n",
              "          docLink.innerHTML = docLinkHtml;\n",
              "          element.appendChild(docLink);\n",
              "        }\n",
              "      </script>\n",
              "    </div>\n",
              "  </div>\n",
              "  "
            ]
          },
          "metadata": {},
          "execution_count": 20
        }
      ]
    },
    {
      "cell_type": "code",
      "source": [
        "#creating label encoding for BHK_OR_RK\n",
        "BHK_OR_RK_map={'BHK':2,'RK':1}\n",
        "train_data.BHK_OR_RK=train_data.BHK_OR_RK.map(BHK_OR_RK_map)\n",
        "\n",
        "test_data.BHK_OR_RK=test_data.BHK_OR_RK.map(BHK_OR_RK_map)\n",
        "\n",
        "train_data.head()"
      ],
      "metadata": {
        "colab": {
          "base_uri": "https://localhost:8080/",
          "height": 322
        },
        "id": "dhtttjZdVGl-",
        "outputId": "107c696e-3b12-48f2-fc01-d20b21b2d12e"
      },
      "execution_count": 21,
      "outputs": [
        {
          "output_type": "execute_result",
          "data": {
            "text/plain": [
              "  POSTED_BY  UNDER_CONSTRUCTION  RERA  BHK_NO.  BHK_OR_RK    SQUARE_FT  \\\n",
              "0     Owner                   0     0        2          2  1300.236407   \n",
              "1    Dealer                   0     0        2          2  1275.000000   \n",
              "2     Owner                   0     0        2          2   933.159722   \n",
              "3     Owner                   0     1        2          2   929.921143   \n",
              "4    Dealer                   1     0        2          2   999.009247   \n",
              "\n",
              "   READY_TO_MOVE  RESALE                      ADDRESS  LONGITUDE   LATITUDE  \\\n",
              "0              1       1        Ksfc Layout,Bangalore  12.969910  77.597960   \n",
              "1              1       1    Vishweshwara Nagar,Mysore  12.274538  76.644605   \n",
              "2              1       1             Jigani,Bangalore  12.778033  77.632191   \n",
              "3              1       1  Sector-1 Vaishali,Ghaziabad  28.642300  77.344500   \n",
              "4              0       1             New Town,Kolkata  22.592200  88.484911   \n",
              "\n",
              "   PRICES  POSTED_BY_Builder  POSTED_BY_Dealer  POSTED_BY_Owner  \n",
              "0    55.0                  0                 0                1  \n",
              "1    51.0                  0                 1                0  \n",
              "2    43.0                  0                 0                1  \n",
              "3    62.5                  0                 0                1  \n",
              "4    60.5                  0                 1                0  "
            ],
            "text/html": [
              "\n",
              "  <div id=\"df-3d1d8def-8558-4898-bc79-20862c10f1af\">\n",
              "    <div class=\"colab-df-container\">\n",
              "      <div>\n",
              "<style scoped>\n",
              "    .dataframe tbody tr th:only-of-type {\n",
              "        vertical-align: middle;\n",
              "    }\n",
              "\n",
              "    .dataframe tbody tr th {\n",
              "        vertical-align: top;\n",
              "    }\n",
              "\n",
              "    .dataframe thead th {\n",
              "        text-align: right;\n",
              "    }\n",
              "</style>\n",
              "<table border=\"1\" class=\"dataframe\">\n",
              "  <thead>\n",
              "    <tr style=\"text-align: right;\">\n",
              "      <th></th>\n",
              "      <th>POSTED_BY</th>\n",
              "      <th>UNDER_CONSTRUCTION</th>\n",
              "      <th>RERA</th>\n",
              "      <th>BHK_NO.</th>\n",
              "      <th>BHK_OR_RK</th>\n",
              "      <th>SQUARE_FT</th>\n",
              "      <th>READY_TO_MOVE</th>\n",
              "      <th>RESALE</th>\n",
              "      <th>ADDRESS</th>\n",
              "      <th>LONGITUDE</th>\n",
              "      <th>LATITUDE</th>\n",
              "      <th>PRICES</th>\n",
              "      <th>POSTED_BY_Builder</th>\n",
              "      <th>POSTED_BY_Dealer</th>\n",
              "      <th>POSTED_BY_Owner</th>\n",
              "    </tr>\n",
              "  </thead>\n",
              "  <tbody>\n",
              "    <tr>\n",
              "      <th>0</th>\n",
              "      <td>Owner</td>\n",
              "      <td>0</td>\n",
              "      <td>0</td>\n",
              "      <td>2</td>\n",
              "      <td>2</td>\n",
              "      <td>1300.236407</td>\n",
              "      <td>1</td>\n",
              "      <td>1</td>\n",
              "      <td>Ksfc Layout,Bangalore</td>\n",
              "      <td>12.969910</td>\n",
              "      <td>77.597960</td>\n",
              "      <td>55.0</td>\n",
              "      <td>0</td>\n",
              "      <td>0</td>\n",
              "      <td>1</td>\n",
              "    </tr>\n",
              "    <tr>\n",
              "      <th>1</th>\n",
              "      <td>Dealer</td>\n",
              "      <td>0</td>\n",
              "      <td>0</td>\n",
              "      <td>2</td>\n",
              "      <td>2</td>\n",
              "      <td>1275.000000</td>\n",
              "      <td>1</td>\n",
              "      <td>1</td>\n",
              "      <td>Vishweshwara Nagar,Mysore</td>\n",
              "      <td>12.274538</td>\n",
              "      <td>76.644605</td>\n",
              "      <td>51.0</td>\n",
              "      <td>0</td>\n",
              "      <td>1</td>\n",
              "      <td>0</td>\n",
              "    </tr>\n",
              "    <tr>\n",
              "      <th>2</th>\n",
              "      <td>Owner</td>\n",
              "      <td>0</td>\n",
              "      <td>0</td>\n",
              "      <td>2</td>\n",
              "      <td>2</td>\n",
              "      <td>933.159722</td>\n",
              "      <td>1</td>\n",
              "      <td>1</td>\n",
              "      <td>Jigani,Bangalore</td>\n",
              "      <td>12.778033</td>\n",
              "      <td>77.632191</td>\n",
              "      <td>43.0</td>\n",
              "      <td>0</td>\n",
              "      <td>0</td>\n",
              "      <td>1</td>\n",
              "    </tr>\n",
              "    <tr>\n",
              "      <th>3</th>\n",
              "      <td>Owner</td>\n",
              "      <td>0</td>\n",
              "      <td>1</td>\n",
              "      <td>2</td>\n",
              "      <td>2</td>\n",
              "      <td>929.921143</td>\n",
              "      <td>1</td>\n",
              "      <td>1</td>\n",
              "      <td>Sector-1 Vaishali,Ghaziabad</td>\n",
              "      <td>28.642300</td>\n",
              "      <td>77.344500</td>\n",
              "      <td>62.5</td>\n",
              "      <td>0</td>\n",
              "      <td>0</td>\n",
              "      <td>1</td>\n",
              "    </tr>\n",
              "    <tr>\n",
              "      <th>4</th>\n",
              "      <td>Dealer</td>\n",
              "      <td>1</td>\n",
              "      <td>0</td>\n",
              "      <td>2</td>\n",
              "      <td>2</td>\n",
              "      <td>999.009247</td>\n",
              "      <td>0</td>\n",
              "      <td>1</td>\n",
              "      <td>New Town,Kolkata</td>\n",
              "      <td>22.592200</td>\n",
              "      <td>88.484911</td>\n",
              "      <td>60.5</td>\n",
              "      <td>0</td>\n",
              "      <td>1</td>\n",
              "      <td>0</td>\n",
              "    </tr>\n",
              "  </tbody>\n",
              "</table>\n",
              "</div>\n",
              "      <button class=\"colab-df-convert\" onclick=\"convertToInteractive('df-3d1d8def-8558-4898-bc79-20862c10f1af')\"\n",
              "              title=\"Convert this dataframe to an interactive table.\"\n",
              "              style=\"display:none;\">\n",
              "        \n",
              "  <svg xmlns=\"http://www.w3.org/2000/svg\" height=\"24px\"viewBox=\"0 0 24 24\"\n",
              "       width=\"24px\">\n",
              "    <path d=\"M0 0h24v24H0V0z\" fill=\"none\"/>\n",
              "    <path d=\"M18.56 5.44l.94 2.06.94-2.06 2.06-.94-2.06-.94-.94-2.06-.94 2.06-2.06.94zm-11 1L8.5 8.5l.94-2.06 2.06-.94-2.06-.94L8.5 2.5l-.94 2.06-2.06.94zm10 10l.94 2.06.94-2.06 2.06-.94-2.06-.94-.94-2.06-.94 2.06-2.06.94z\"/><path d=\"M17.41 7.96l-1.37-1.37c-.4-.4-.92-.59-1.43-.59-.52 0-1.04.2-1.43.59L10.3 9.45l-7.72 7.72c-.78.78-.78 2.05 0 2.83L4 21.41c.39.39.9.59 1.41.59.51 0 1.02-.2 1.41-.59l7.78-7.78 2.81-2.81c.8-.78.8-2.07 0-2.86zM5.41 20L4 18.59l7.72-7.72 1.47 1.35L5.41 20z\"/>\n",
              "  </svg>\n",
              "      </button>\n",
              "      \n",
              "  <style>\n",
              "    .colab-df-container {\n",
              "      display:flex;\n",
              "      flex-wrap:wrap;\n",
              "      gap: 12px;\n",
              "    }\n",
              "\n",
              "    .colab-df-convert {\n",
              "      background-color: #E8F0FE;\n",
              "      border: none;\n",
              "      border-radius: 50%;\n",
              "      cursor: pointer;\n",
              "      display: none;\n",
              "      fill: #1967D2;\n",
              "      height: 32px;\n",
              "      padding: 0 0 0 0;\n",
              "      width: 32px;\n",
              "    }\n",
              "\n",
              "    .colab-df-convert:hover {\n",
              "      background-color: #E2EBFA;\n",
              "      box-shadow: 0px 1px 2px rgba(60, 64, 67, 0.3), 0px 1px 3px 1px rgba(60, 64, 67, 0.15);\n",
              "      fill: #174EA6;\n",
              "    }\n",
              "\n",
              "    [theme=dark] .colab-df-convert {\n",
              "      background-color: #3B4455;\n",
              "      fill: #D2E3FC;\n",
              "    }\n",
              "\n",
              "    [theme=dark] .colab-df-convert:hover {\n",
              "      background-color: #434B5C;\n",
              "      box-shadow: 0px 1px 3px 1px rgba(0, 0, 0, 0.15);\n",
              "      filter: drop-shadow(0px 1px 2px rgba(0, 0, 0, 0.3));\n",
              "      fill: #FFFFFF;\n",
              "    }\n",
              "  </style>\n",
              "\n",
              "      <script>\n",
              "        const buttonEl =\n",
              "          document.querySelector('#df-3d1d8def-8558-4898-bc79-20862c10f1af button.colab-df-convert');\n",
              "        buttonEl.style.display =\n",
              "          google.colab.kernel.accessAllowed ? 'block' : 'none';\n",
              "\n",
              "        async function convertToInteractive(key) {\n",
              "          const element = document.querySelector('#df-3d1d8def-8558-4898-bc79-20862c10f1af');\n",
              "          const dataTable =\n",
              "            await google.colab.kernel.invokeFunction('convertToInteractive',\n",
              "                                                     [key], {});\n",
              "          if (!dataTable) return;\n",
              "\n",
              "          const docLinkHtml = 'Like what you see? Visit the ' +\n",
              "            '<a target=\"_blank\" href=https://colab.research.google.com/notebooks/data_table.ipynb>data table notebook</a>'\n",
              "            + ' to learn more about interactive tables.';\n",
              "          element.innerHTML = '';\n",
              "          dataTable['output_type'] = 'display_data';\n",
              "          await google.colab.output.renderOutput(dataTable, element);\n",
              "          const docLink = document.createElement('div');\n",
              "          docLink.innerHTML = docLinkHtml;\n",
              "          element.appendChild(docLink);\n",
              "        }\n",
              "      </script>\n",
              "    </div>\n",
              "  </div>\n",
              "  "
            ]
          },
          "metadata": {},
          "execution_count": 21
        }
      ]
    },
    {
      "cell_type": "code",
      "source": [
        "#Exatracting city names from ADDRESS filed and creating new features CITY in train\n",
        "train_data['CITY']=train_data.ADDRESS.apply(lambda x:x.split(',')[-1])"
      ],
      "metadata": {
        "id": "qH-zYJrQWF66"
      },
      "execution_count": 23,
      "outputs": []
    },
    {
      "cell_type": "code",
      "source": [
        "#all available distinct city name \n",
        "train_data['CITY'].sort_values(ascending=True).unique()"
      ],
      "metadata": {
        "colab": {
          "base_uri": "https://localhost:8080/"
        },
        "id": "wMP-1vOZW5Cl",
        "outputId": "92498d66-971d-4c8e-e5db-634b7e3d7c5b"
      },
      "execution_count": 24,
      "outputs": [
        {
          "output_type": "execute_result",
          "data": {
            "text/plain": [
              "array(['Agartala', 'Agra', 'Ahmednagar', 'Ajmer', 'Akola', 'Aligarh',\n",
              "       'Allahabad', 'Alwar', 'Ambala', 'Amravati', 'Amritsar', 'Amroha',\n",
              "       'Anand', 'Anantapur', 'Angul', 'Arrah', 'Asansol', 'Aurangabad',\n",
              "       'Baddi', 'Bahadurgarh', 'Balasore', 'Bangalore', 'Bankura',\n",
              "       'Banswara', 'Barabanki', 'Bardhaman', 'Bareilly', 'Beed',\n",
              "       'Belgaum', 'Berhampur', 'Betul', 'Bhadrak', 'Bhagalpur',\n",
              "       'Bhandara', 'Bharatpur', 'Bharuch', 'Bhavnagar', 'Bhilai',\n",
              "       'Bhimavaram', 'Bhiwadi', 'Bhiwani', 'Bhopal', 'Bhubaneswar',\n",
              "       'Bhuj', 'Bikaner', 'Bilaspur', 'Bokaro', 'Chandigarh',\n",
              "       'Chandrapur', 'Chennai', 'Chhindwara', 'Chittoor', 'Coimbatore',\n",
              "       'Cuddalore', 'Cuttack', 'Dahod', 'Dalhousie', 'Darbhanga',\n",
              "       'Darjeeling', 'Dehradun', 'Deoghar', 'Dhanbad', 'Dharuhera',\n",
              "       'Dharwad', 'Dhule', 'Dibrugarh', 'Durg', 'Durgapur', 'Eluru',\n",
              "       'Ernakulam', 'Erode', 'Faizabad', 'Faridabad', 'Gadarwara',\n",
              "       'Gadhinglaj', 'Gandhidham', 'Gandhinagar', 'Gaya', 'Ghaziabad',\n",
              "       'Goa', 'Godhra', 'Gondia', 'Gulbarga', 'Guntur', 'Gurdaspur',\n",
              "       'Gurgaon', 'Guwahati', 'Gwalior', 'Hajipur', 'Haldia', 'Haldwani',\n",
              "       'Hapur', 'Harda', 'Haridwar', 'Hassan', 'Hathras', 'Hazaribagh',\n",
              "       'Hoshangabad', 'Hoshiarpur', 'Hosur', 'Hubli', 'Idukki', 'Indore',\n",
              "       'Jabalpur', 'Jagdalpur', 'Jaipur', 'Jajpur', 'Jalandhar',\n",
              "       'Jalgaon', 'Jalna', 'Jammu', 'Jamnagar', 'Jamshedpur', 'Jhansi',\n",
              "       'Jharsuguda', 'Jhunjhunu', 'Jind', 'Jodhpur', 'Junagadh', 'Kadapa',\n",
              "       'Kadi', 'Kakinada', 'Kanchipuram', 'Kangra', 'Kannur', 'Kanpur',\n",
              "       'Karad', 'Karaikudi', 'Karjat', 'Karnal', 'Karwar', 'Kharagpur',\n",
              "       'Kochi', 'Kolhapur', 'Kolkata', 'Kollam', 'Korba', 'Kota',\n",
              "       'Kotdwara', 'Kottayam', 'Kurnool', 'Kurukshetra', 'Lalitpur',\n",
              "       'Latur', 'Lucknow', 'Ludhiana', 'Machilipatnam', 'Madurai',\n",
              "       'Maharashtra', 'Malappuram', 'Mangalore', 'Margao', 'Mathura',\n",
              "       'Meerut', 'Midnapore', 'Mohali', 'Moradabad', 'Morbi', 'Mumbai',\n",
              "       'Muzaffarpur', 'Mysore', 'Nadiad', 'Nagaon', 'Nagapattinam',\n",
              "       'Nagaur', 'Nagpur', 'Nainital', 'Nanded', 'Navsari', 'Neemrana',\n",
              "       'Nellore', 'Nizamabad', 'Noida', 'Ongole', 'Ooty', 'Osmanabad',\n",
              "       'Ottapalam', 'Palakkad', 'Palanpur', 'Palghar', 'Pali', 'Palwal',\n",
              "       'Panaji', 'Panchkula', 'Panipat', 'Pathanamthitta', 'Patiala',\n",
              "       'Patna', 'Phagwara', 'Pondicherry', 'Porbandar', 'Pudukkottai',\n",
              "       'Pune', 'Puri', 'Raichur', 'Raigad', 'Raigarh', 'Raipur', 'Raisen',\n",
              "       'Rajkot', 'Rajnandgaon', 'Rajpura', 'Ranchi', 'Ratnagiri',\n",
              "       'Rayagada', 'Rewa', 'Rewari', 'Rishikesh', 'Rohtak', 'Roorkee',\n",
              "       'Rourkela', 'Rudrapur', 'Sabarkantha', 'Sagar', 'Salem',\n",
              "       'Sambalpur', 'Satna', 'Secunderabad', 'Shimla', 'Shirdi',\n",
              "       'Siddipet', 'Sikar', 'Silchar', 'Siliguri', 'Sindhudurg', 'Siwan',\n",
              "       'Solan', 'Solapur', 'Sonipat', 'Srikakulam', 'Srinagar', 'Surat',\n",
              "       'Surendranagar', 'Tenali', 'Thanjavur', 'Thoothukudi', 'Thrissur',\n",
              "       'Tirunelveli', 'Tirupati', 'Udaipur', 'Udupi', 'Ujjain',\n",
              "       'Vadodara', 'Valsad', 'Vapi', 'Varanasi', 'Vellore', 'Vidisha',\n",
              "       'Vijayawada', 'Visakhapatnam', 'Visnagar', 'Vizianagaram',\n",
              "       'Warangal', 'Wardha', 'Washim', 'Yavatmal'], dtype=object)"
            ]
          },
          "metadata": {},
          "execution_count": 24
        }
      ]
    },
    {
      "cell_type": "code",
      "source": [
        "#Visualising  realtion between CITY and PRICES \n",
        "city=train_data.groupby('CITY')['PRICES'].mean().reset_index().sort_values(by='PRICES',ascending=False)\n",
        "city"
      ],
      "metadata": {
        "colab": {
          "base_uri": "https://localhost:8080/",
          "height": 423
        },
        "id": "IEG1SYeMXPAy",
        "outputId": "e480c813-26b6-490f-a587-05766e871cb6"
      },
      "execution_count": 25,
      "outputs": [
        {
          "output_type": "execute_result",
          "data": {
            "text/plain": [
              "            CITY      PRICES\n",
              "53     Cuddalore  650.000000\n",
              "85       Gurgaon  396.777566\n",
              "247      Vidisha  320.000000\n",
              "148  Maharashtra  302.282304\n",
              "158       Mumbai  264.987139\n",
              "..           ...         ...\n",
              "24     Barabanki   11.750000\n",
              "43          Bhuj   10.500000\n",
              "136        Korba    8.500000\n",
              "180         Pali    7.400000\n",
              "22       Bankura    5.300000\n",
              "\n",
              "[256 rows x 2 columns]"
            ],
            "text/html": [
              "\n",
              "  <div id=\"df-05085ef8-667e-47e1-866f-8d079817f7ea\">\n",
              "    <div class=\"colab-df-container\">\n",
              "      <div>\n",
              "<style scoped>\n",
              "    .dataframe tbody tr th:only-of-type {\n",
              "        vertical-align: middle;\n",
              "    }\n",
              "\n",
              "    .dataframe tbody tr th {\n",
              "        vertical-align: top;\n",
              "    }\n",
              "\n",
              "    .dataframe thead th {\n",
              "        text-align: right;\n",
              "    }\n",
              "</style>\n",
              "<table border=\"1\" class=\"dataframe\">\n",
              "  <thead>\n",
              "    <tr style=\"text-align: right;\">\n",
              "      <th></th>\n",
              "      <th>CITY</th>\n",
              "      <th>PRICES</th>\n",
              "    </tr>\n",
              "  </thead>\n",
              "  <tbody>\n",
              "    <tr>\n",
              "      <th>53</th>\n",
              "      <td>Cuddalore</td>\n",
              "      <td>650.000000</td>\n",
              "    </tr>\n",
              "    <tr>\n",
              "      <th>85</th>\n",
              "      <td>Gurgaon</td>\n",
              "      <td>396.777566</td>\n",
              "    </tr>\n",
              "    <tr>\n",
              "      <th>247</th>\n",
              "      <td>Vidisha</td>\n",
              "      <td>320.000000</td>\n",
              "    </tr>\n",
              "    <tr>\n",
              "      <th>148</th>\n",
              "      <td>Maharashtra</td>\n",
              "      <td>302.282304</td>\n",
              "    </tr>\n",
              "    <tr>\n",
              "      <th>158</th>\n",
              "      <td>Mumbai</td>\n",
              "      <td>264.987139</td>\n",
              "    </tr>\n",
              "    <tr>\n",
              "      <th>...</th>\n",
              "      <td>...</td>\n",
              "      <td>...</td>\n",
              "    </tr>\n",
              "    <tr>\n",
              "      <th>24</th>\n",
              "      <td>Barabanki</td>\n",
              "      <td>11.750000</td>\n",
              "    </tr>\n",
              "    <tr>\n",
              "      <th>43</th>\n",
              "      <td>Bhuj</td>\n",
              "      <td>10.500000</td>\n",
              "    </tr>\n",
              "    <tr>\n",
              "      <th>136</th>\n",
              "      <td>Korba</td>\n",
              "      <td>8.500000</td>\n",
              "    </tr>\n",
              "    <tr>\n",
              "      <th>180</th>\n",
              "      <td>Pali</td>\n",
              "      <td>7.400000</td>\n",
              "    </tr>\n",
              "    <tr>\n",
              "      <th>22</th>\n",
              "      <td>Bankura</td>\n",
              "      <td>5.300000</td>\n",
              "    </tr>\n",
              "  </tbody>\n",
              "</table>\n",
              "<p>256 rows × 2 columns</p>\n",
              "</div>\n",
              "      <button class=\"colab-df-convert\" onclick=\"convertToInteractive('df-05085ef8-667e-47e1-866f-8d079817f7ea')\"\n",
              "              title=\"Convert this dataframe to an interactive table.\"\n",
              "              style=\"display:none;\">\n",
              "        \n",
              "  <svg xmlns=\"http://www.w3.org/2000/svg\" height=\"24px\"viewBox=\"0 0 24 24\"\n",
              "       width=\"24px\">\n",
              "    <path d=\"M0 0h24v24H0V0z\" fill=\"none\"/>\n",
              "    <path d=\"M18.56 5.44l.94 2.06.94-2.06 2.06-.94-2.06-.94-.94-2.06-.94 2.06-2.06.94zm-11 1L8.5 8.5l.94-2.06 2.06-.94-2.06-.94L8.5 2.5l-.94 2.06-2.06.94zm10 10l.94 2.06.94-2.06 2.06-.94-2.06-.94-.94-2.06-.94 2.06-2.06.94z\"/><path d=\"M17.41 7.96l-1.37-1.37c-.4-.4-.92-.59-1.43-.59-.52 0-1.04.2-1.43.59L10.3 9.45l-7.72 7.72c-.78.78-.78 2.05 0 2.83L4 21.41c.39.39.9.59 1.41.59.51 0 1.02-.2 1.41-.59l7.78-7.78 2.81-2.81c.8-.78.8-2.07 0-2.86zM5.41 20L4 18.59l7.72-7.72 1.47 1.35L5.41 20z\"/>\n",
              "  </svg>\n",
              "      </button>\n",
              "      \n",
              "  <style>\n",
              "    .colab-df-container {\n",
              "      display:flex;\n",
              "      flex-wrap:wrap;\n",
              "      gap: 12px;\n",
              "    }\n",
              "\n",
              "    .colab-df-convert {\n",
              "      background-color: #E8F0FE;\n",
              "      border: none;\n",
              "      border-radius: 50%;\n",
              "      cursor: pointer;\n",
              "      display: none;\n",
              "      fill: #1967D2;\n",
              "      height: 32px;\n",
              "      padding: 0 0 0 0;\n",
              "      width: 32px;\n",
              "    }\n",
              "\n",
              "    .colab-df-convert:hover {\n",
              "      background-color: #E2EBFA;\n",
              "      box-shadow: 0px 1px 2px rgba(60, 64, 67, 0.3), 0px 1px 3px 1px rgba(60, 64, 67, 0.15);\n",
              "      fill: #174EA6;\n",
              "    }\n",
              "\n",
              "    [theme=dark] .colab-df-convert {\n",
              "      background-color: #3B4455;\n",
              "      fill: #D2E3FC;\n",
              "    }\n",
              "\n",
              "    [theme=dark] .colab-df-convert:hover {\n",
              "      background-color: #434B5C;\n",
              "      box-shadow: 0px 1px 3px 1px rgba(0, 0, 0, 0.15);\n",
              "      filter: drop-shadow(0px 1px 2px rgba(0, 0, 0, 0.3));\n",
              "      fill: #FFFFFF;\n",
              "    }\n",
              "  </style>\n",
              "\n",
              "      <script>\n",
              "        const buttonEl =\n",
              "          document.querySelector('#df-05085ef8-667e-47e1-866f-8d079817f7ea button.colab-df-convert');\n",
              "        buttonEl.style.display =\n",
              "          google.colab.kernel.accessAllowed ? 'block' : 'none';\n",
              "\n",
              "        async function convertToInteractive(key) {\n",
              "          const element = document.querySelector('#df-05085ef8-667e-47e1-866f-8d079817f7ea');\n",
              "          const dataTable =\n",
              "            await google.colab.kernel.invokeFunction('convertToInteractive',\n",
              "                                                     [key], {});\n",
              "          if (!dataTable) return;\n",
              "\n",
              "          const docLinkHtml = 'Like what you see? Visit the ' +\n",
              "            '<a target=\"_blank\" href=https://colab.research.google.com/notebooks/data_table.ipynb>data table notebook</a>'\n",
              "            + ' to learn more about interactive tables.';\n",
              "          element.innerHTML = '';\n",
              "          dataTable['output_type'] = 'display_data';\n",
              "          await google.colab.output.renderOutput(dataTable, element);\n",
              "          const docLink = document.createElement('div');\n",
              "          docLink.innerHTML = docLinkHtml;\n",
              "          element.appendChild(docLink);\n",
              "        }\n",
              "      </script>\n",
              "    </div>\n",
              "  </div>\n",
              "  "
            ]
          },
          "metadata": {},
          "execution_count": 25
        }
      ]
    },
    {
      "cell_type": "code",
      "source": [
        "plt.figure(figsize=(15,40))\n",
        "sns.barplot(x='PRICES',y='CITY',data=city)"
      ],
      "metadata": {
        "colab": {
          "base_uri": "https://localhost:8080/",
          "height": 1000
        },
        "id": "tgBnvFiDX_84",
        "outputId": "0f5469ad-5391-430f-f6c4-20e7931f813f"
      },
      "execution_count": 27,
      "outputs": [
        {
          "output_type": "execute_result",
          "data": {
            "text/plain": [
              "<matplotlib.axes._subplots.AxesSubplot at 0x7f74ec37ab90>"
            ]
          },
          "metadata": {},
          "execution_count": 27
        },
        {
          "output_type": "display_data",
          "data": {
            "text/plain": [
              "<Figure size 1080x2880 with 1 Axes>"
            ],
            "image/png": "[encoded data removed]"
          },
          "metadata": {
            "needs_background": "light"
          }
        }
      ]
    },
    {
      "cell_type": "code",
      "source": [
        "#Creating a new feature CITY_BIN after grouping citys on basis of avarage huse price in train\n",
        "\n",
        "train_data['CITY_BIN']=train_data.CITY.apply( lambda x: 10 if x=='Gurgaon' else ( \n",
        "9 if x in ('Vidisha','Maharashtra') else (\n",
        "8 if x in ('Mumbai','Lalitpur') else (  \n",
        "7 if x in ('Goa')  else (\n",
        "6 if x in ('Bangalore','Chennai','Hathras','Pune','Ranchi','Kochi','Noida','Erode','Nizamabad','Jalgaon','Mohali','Panaji','Kanpur','Kottayam','Chandigarh') else (\n",
        "5 if x in ('Kolkata','Srinagar','Hassan','Lucknow','Arrah','Bhadrak','Idukki','Panchkula','Sagar','Faizabad','Jammu','Ludhiana') else (\n",
        "4 if x in ('Udaipur','Phagwara','Coimbatore','Salem','Ernakulam','Nagpur','Mangalore','Visakhapatnam','Karwar','Shimla','Dehradun','Mysore','Varanasi','Haldwani','Surat',\n",
        "           'Bhubaneswar','Jajpur','Nainital','Kollam','Ambala','Beed','Faridabad','Patna','Kannur','Jaipur','Thrissur','Secunderabad','Dibrugarh','Ghaziabad','Vadodara',\n",
        "           'Kadapa','Darbhanga','Agartala','Cuttack','Rourkela','Tirupati','Allahabad','Vellore','Jalandhar','Guwahati','Rohtak','Pondicherry','Jabalpur')else (\n",
        "3 if x in ('Roorkee','Silchar',\n",
        "           'Kangra','Ottapalam','Dahod','Vijayawada','Kota','Warangal','Madurai','Sonipat','Tirunelveli','Dalhousie','Rajkot','Berhampur','Dharwad','Palakkad','Jind',\n",
        "           'Bardhaman','Margao','Balasore','Patiala','Chittoor','Jagdalpur','Kakinada','Jodhpur','Eluru','Amritsar','Belgaum','Indore','Bahadurgarh','Bhimavaram','Anand',\n",
        "           'Guntur','Gandhinagar','Pathanamthitta','Thoothukudi','Jamshedpur','Gaya','Aligarh','Bareilly','Darjeeling','Raigarh','Udupi','Srikakulam','Agra','Rewa','Bhagalpur',\n",
        "           'Bharatpur','Bikaner','Ooty','Rewari','Rishikesh','Gwalior','Satna','Durg','Raichur','Nagaon','Moradabad','Siliguri','Jhunjhunu','Kolhapur','Karaikudi','Dharuhera',\n",
        "           'Muzaffarpur','Ajmer','Jhansi','Hazaribagh','Solapur','Siwan','Amravati','Raipur') else (\n",
        "2 if x in ('Angul','Nagaur','Gulbarga','Kanchipuram','Deoghar','Ongole','Hubli','Solan','Nellore','Amroha','Rajnandgaon','Surendranagar','Akola','Tenali','Latur','Karnal','Aurangabad',\n",
        "           'Bhopal','Gadhinglaj','Dhanbad','Bilaspur','Meerut','Sindhudurg','Bokaro','Haldia','Raisen','Kotdwara','Rajpura','Hoshangabad','Raigad','Chhindwara','Mathura','Porbandar',\n",
        "           'Kurnool','Morbi','Palwal','Nagapattinam','Sambalpur','Kurukshetra','Jamnagar','Haridwar','Hoshiarpur','Thanjavur','Alwar','Asansol','Nanded','Navsari','Bhilai','Valsad',\n",
        "           'Jalna','Dhule','Vizianagaram','Washim','Gandhidham','Chandrapur','Baddi','Bhiwadi','Gondia','Osmanabad','Betul','Rayagada','Pudukkottai','Neemrana','Siddipet','Kadi',\n",
        "           'Vapi','Wardha','Puri','Malappuram','Bharuch','Jharsuguda','Ratnagiri','Durgapur','Kharagpur','Junagadh','Palanpur','Palghar','Ujjain','Rudrapur','Machilipatnam',\n",
        "           'Visnagar','Bhavnagar','Hosur','Yavatmal','Karjat','Bhandara','Anantapur','Sikar','Shirdi','Nadiad','Gadarwara','Midnapore','Godhra','Panipat','Karad','Bhiwani','Hapur',\n",
        "           'Sabarkantha','Harda','Banswara') else (\n",
        "1\n",
        "\n",
        "))))))))))"
      ],
      "metadata": {
        "id": "JE4lse0kYepD"
      },
      "execution_count": 28,
      "outputs": []
    },
    {
      "cell_type": "code",
      "source": [
        "#Extracting city name from ADDRESS filed and creating new feature CITY in test\n",
        "\n",
        "test_data['CITY'] = test_data.ADDRESS.apply(lambda x: x.split(',')[-1])"
      ],
      "metadata": {
        "id": "queaqKKba4N-"
      },
      "execution_count": 29,
      "outputs": []
    },
    {
      "cell_type": "code",
      "source": [
        "#Creating a new feature CITY_BIN after grouping citys on basis of avarage huse price in test\n",
        "\n",
        "test_data['CITY_BIN']=test_data.CITY.apply( lambda x: 10 if x=='Gurgaon' else ( \n",
        "9 if x in ('Vidisha','Maharashtra') else (\n",
        "8 if x in ('Mumbai','Lalitpur') else (  \n",
        "7 if x in ('Goa')  else (\n",
        "6 if x in ('Bangalore','Chennai','Hathras','Pune','Ranchi','Kochi','Noida','Erode','Nizamabad','Jalgaon','Mohali','Panaji','Kanpur','Kottayam','Chandigarh') else (\n",
        "5 if x in ('Kolkata','Srinagar','Hassan','Lucknow','Arrah','Bhadrak','Idukki','Panchkula','Sagar','Faizabad','Jammu','Ludhiana') else (\n",
        "4 if x in ('Udaipur','Phagwara','Coimbatore','Salem','Ernakulam','Nagpur','Mangalore','Visakhapatnam','Karwar','Shimla','Dehradun','Mysore','Varanasi','Haldwani','Surat',\n",
        "           'Bhubaneswar','Jajpur','Nainital','Kollam','Ambala','Beed','Faridabad','Patna','Kannur','Jaipur','Thrissur','Secunderabad','Dibrugarh','Ghaziabad','Vadodara',\n",
        "           'Kadapa','Darbhanga','Agartala','Cuttack','Rourkela','Tirupati','Allahabad','Vellore','Jalandhar','Guwahati','Rohtak','Pondicherry','Jabalpur')else (\n",
        "3 if x in ('Roorkee','Silchar',\n",
        "           'Kangra','Ottapalam','Dahod','Vijayawada','Kota','Warangal','Madurai','Sonipat','Tirunelveli','Dalhousie','Rajkot','Berhampur','Dharwad','Palakkad','Jind',\n",
        "           'Bardhaman','Margao','Balasore','Patiala','Chittoor','Jagdalpur','Kakinada','Jodhpur','Eluru','Amritsar','Belgaum','Indore','Bahadurgarh','Bhimavaram','Anand',\n",
        "           'Guntur','Gandhinagar','Pathanamthitta','Thoothukudi','Jamshedpur','Gaya','Aligarh','Bareilly','Darjeeling','Raigarh','Udupi','Srikakulam','Agra','Rewa','Bhagalpur',\n",
        "           'Bharatpur','Bikaner','Ooty','Rewari','Rishikesh','Gwalior','Satna','Durg','Raichur','Nagaon','Moradabad','Siliguri','Jhunjhunu','Kolhapur','Karaikudi','Dharuhera',\n",
        "           'Muzaffarpur','Ajmer','Jhansi','Hazaribagh','Solapur','Siwan','Amravati','Raipur') else (\n",
        "2 if x in ('Angul','Nagaur','Gulbarga','Kanchipuram','Deoghar','Ongole','Hubli','Solan','Nellore','Amroha','Rajnandgaon','Surendranagar','Akola','Tenali','Latur','Karnal','Aurangabad',\n",
        "           'Bhopal','Gadhinglaj','Dhanbad','Bilaspur','Meerut','Sindhudurg','Bokaro','Haldia','Raisen','Kotdwara','Rajpura','Hoshangabad','Raigad','Chhindwara','Mathura','Porbandar',\n",
        "           'Kurnool','Morbi','Palwal','Nagapattinam','Sambalpur','Kurukshetra','Jamnagar','Haridwar','Hoshiarpur','Thanjavur','Alwar','Asansol','Nanded','Navsari','Bhilai','Valsad',\n",
        "           'Jalna','Dhule','Vizianagaram','Washim','Gandhidham','Chandrapur','Baddi','Bhiwadi','Gondia','Osmanabad','Betul','Rayagada','Pudukkottai','Neemrana','Siddipet','Kadi',\n",
        "           'Vapi','Wardha','Puri','Malappuram','Bharuch','Jharsuguda','Ratnagiri','Durgapur','Kharagpur','Junagadh','Palanpur','Palghar','Ujjain','Rudrapur','Machilipatnam',\n",
        "           'Visnagar','Bhavnagar','Hosur','Yavatmal','Karjat','Bhandara','Anantapur','Sikar','Shirdi','Nadiad','Gadarwara','Midnapore','Godhra','Panipat','Karad','Bhiwani','Hapur',\n",
        "           'Sabarkantha','Harda','Banswara') else (\n",
        "1\n",
        "\n",
        "))))))))))"
      ],
      "metadata": {
        "id": "JJWUpzn0a9tO"
      },
      "execution_count": 30,
      "outputs": []
    },
    {
      "cell_type": "code",
      "source": [
        "#Creating new feature 'SQUARE_FT_BIN' on basis of PRICE\n",
        "\n",
        "train_data['SQUARE_FT_BIN'] =train_data['SQUARE_FT'].apply(lambda x: 1 if x < 500 else(\n",
        "    2 if x <800 and x >=500 else (\n",
        "    3 if x <1000 and x >=800 else (\n",
        "    4 if x < 1300 and x >=1000 else (\n",
        "    5 if x <2000 and x >= 1300 else (\n",
        "    6 if x<3000 and x>=2000 else 7\n",
        "    ))))))"
      ],
      "metadata": {
        "id": "HW8tQh-IbCcY"
      },
      "execution_count": 31,
      "outputs": []
    },
    {
      "cell_type": "code",
      "source": [
        "train_data.groupby('SQUARE_FT_BIN')['PRICES'].mean()"
      ],
      "metadata": {
        "colab": {
          "base_uri": "https://localhost:8080/"
        },
        "id": "eJd7FjpGbJpv",
        "outputId": "53fbbda2-b23a-40bf-80f1-a187dbe2263c"
      },
      "execution_count": 33,
      "outputs": [
        {
          "output_type": "execute_result",
          "data": {
            "text/plain": [
              "SQUARE_FT_BIN\n",
              "1      41.441292\n",
              "2      51.739214\n",
              "3      62.746382\n",
              "4      73.822448\n",
              "5     108.719762\n",
              "6     217.633238\n",
              "7    1540.497133\n",
              "Name: PRICES, dtype: float64"
            ]
          },
          "metadata": {},
          "execution_count": 33
        }
      ]
    },
    {
      "cell_type": "code",
      "source": [
        "#Creating a new feature combining AREA and CITY so that we can capture variation of Price per city area wise.\n",
        "\n",
        "train_data['AREA_CITY'] = train_data['CITY'] + train_data['SQUARE_FT_BIN'].astype(str)"
      ],
      "metadata": {
        "id": "uBHfUNAKbNQ-"
      },
      "execution_count": 34,
      "outputs": []
    },
    {
      "cell_type": "code",
      "source": [
        "train_data.head()"
      ],
      "metadata": {
        "colab": {
          "base_uri": "https://localhost:8080/",
          "height": 322
        },
        "id": "RYklHdaAb5kD",
        "outputId": "6516b0a7-f7b8-4df2-e5c5-91a6a06ab924"
      },
      "execution_count": 35,
      "outputs": [
        {
          "output_type": "execute_result",
          "data": {
            "text/plain": [
              "  POSTED_BY  UNDER_CONSTRUCTION  RERA  BHK_NO.  BHK_OR_RK    SQUARE_FT  \\\n",
              "0     Owner                   0     0        2          2  1300.236407   \n",
              "1    Dealer                   0     0        2          2  1275.000000   \n",
              "2     Owner                   0     0        2          2   933.159722   \n",
              "3     Owner                   0     1        2          2   929.921143   \n",
              "4    Dealer                   1     0        2          2   999.009247   \n",
              "\n",
              "   READY_TO_MOVE  RESALE                      ADDRESS  LONGITUDE   LATITUDE  \\\n",
              "0              1       1        Ksfc Layout,Bangalore  12.969910  77.597960   \n",
              "1              1       1    Vishweshwara Nagar,Mysore  12.274538  76.644605   \n",
              "2              1       1             Jigani,Bangalore  12.778033  77.632191   \n",
              "3              1       1  Sector-1 Vaishali,Ghaziabad  28.642300  77.344500   \n",
              "4              0       1             New Town,Kolkata  22.592200  88.484911   \n",
              "\n",
              "   PRICES  POSTED_BY_Builder  POSTED_BY_Dealer  POSTED_BY_Owner       CITY  \\\n",
              "0    55.0                  0                 0                1  Bangalore   \n",
              "1    51.0                  0                 1                0     Mysore   \n",
              "2    43.0                  0                 0                1  Bangalore   \n",
              "3    62.5                  0                 0                1  Ghaziabad   \n",
              "4    60.5                  0                 1                0    Kolkata   \n",
              "\n",
              "   CITY_BIN  SQUARE_FT_BIN   AREA_CITY  \n",
              "0         6              5  Bangalore5  \n",
              "1         4              4     Mysore4  \n",
              "2         6              3  Bangalore3  \n",
              "3         4              3  Ghaziabad3  \n",
              "4         5              3    Kolkata3  "
            ],
            "text/html": [
              "\n",
              "  <div id=\"df-0e180b3d-e75d-47b3-94e8-c41cfa040fb8\">\n",
              "    <div class=\"colab-df-container\">\n",
              "      <div>\n",
              "<style scoped>\n",
              "    .dataframe tbody tr th:only-of-type {\n",
              "        vertical-align: middle;\n",
              "    }\n",
              "\n",
              "    .dataframe tbody tr th {\n",
              "        vertical-align: top;\n",
              "    }\n",
              "\n",
              "    .dataframe thead th {\n",
              "        text-align: right;\n",
              "    }\n",
              "</style>\n",
              "<table border=\"1\" class=\"dataframe\">\n",
              "  <thead>\n",
              "    <tr style=\"text-align: right;\">\n",
              "      <th></th>\n",
              "      <th>POSTED_BY</th>\n",
              "      <th>UNDER_CONSTRUCTION</th>\n",
              "      <th>RERA</th>\n",
              "      <th>BHK_NO.</th>\n",
              "      <th>BHK_OR_RK</th>\n",
              "      <th>SQUARE_FT</th>\n",
              "      <th>READY_TO_MOVE</th>\n",
              "      <th>RESALE</th>\n",
              "      <th>ADDRESS</th>\n",
              "      <th>LONGITUDE</th>\n",
              "      <th>LATITUDE</th>\n",
              "      <th>PRICES</th>\n",
              "      <th>POSTED_BY_Builder</th>\n",
              "      <th>POSTED_BY_Dealer</th>\n",
              "      <th>POSTED_BY_Owner</th>\n",
              "      <th>CITY</th>\n",
              "      <th>CITY_BIN</th>\n",
              "      <th>SQUARE_FT_BIN</th>\n",
              "      <th>AREA_CITY</th>\n",
              "    </tr>\n",
              "  </thead>\n",
              "  <tbody>\n",
              "    <tr>\n",
              "      <th>0</th>\n",
              "      <td>Owner</td>\n",
              "      <td>0</td>\n",
              "      <td>0</td>\n",
              "      <td>2</td>\n",
              "      <td>2</td>\n",
              "      <td>1300.236407</td>\n",
              "      <td>1</td>\n",
              "      <td>1</td>\n",
              "      <td>Ksfc Layout,Bangalore</td>\n",
              "      <td>12.969910</td>\n",
              "      <td>77.597960</td>\n",
              "      <td>55.0</td>\n",
              "      <td>0</td>\n",
              "      <td>0</td>\n",
              "      <td>1</td>\n",
              "      <td>Bangalore</td>\n",
              "      <td>6</td>\n",
              "      <td>5</td>\n",
              "      <td>Bangalore5</td>\n",
              "    </tr>\n",
              "    <tr>\n",
              "      <th>1</th>\n",
              "      <td>Dealer</td>\n",
              "      <td>0</td>\n",
              "      <td>0</td>\n",
              "      <td>2</td>\n",
              "      <td>2</td>\n",
              "      <td>1275.000000</td>\n",
              "      <td>1</td>\n",
              "      <td>1</td>\n",
              "      <td>Vishweshwara Nagar,Mysore</td>\n",
              "      <td>12.274538</td>\n",
              "      <td>76.644605</td>\n",
              "      <td>51.0</td>\n",
              "      <td>0</td>\n",
              "      <td>1</td>\n",
              "      <td>0</td>\n",
              "      <td>Mysore</td>\n",
              "      <td>4</td>\n",
              "      <td>4</td>\n",
              "      <td>Mysore4</td>\n",
              "    </tr>\n",
              "    <tr>\n",
              "      <th>2</th>\n",
              "      <td>Owner</td>\n",
              "      <td>0</td>\n",
              "      <td>0</td>\n",
              "      <td>2</td>\n",
              "      <td>2</td>\n",
              "      <td>933.159722</td>\n",
              "      <td>1</td>\n",
              "      <td>1</td>\n",
              "      <td>Jigani,Bangalore</td>\n",
              "      <td>12.778033</td>\n",
              "      <td>77.632191</td>\n",
              "      <td>43.0</td>\n",
              "      <td>0</td>\n",
              "      <td>0</td>\n",
              "      <td>1</td>\n",
              "      <td>Bangalore</td>\n",
              "      <td>6</td>\n",
              "      <td>3</td>\n",
              "      <td>Bangalore3</td>\n",
              "    </tr>\n",
              "    <tr>\n",
              "      <th>3</th>\n",
              "      <td>Owner</td>\n",
              "      <td>0</td>\n",
              "      <td>1</td>\n",
              "      <td>2</td>\n",
              "      <td>2</td>\n",
              "      <td>929.921143</td>\n",
              "      <td>1</td>\n",
              "      <td>1</td>\n",
              "      <td>Sector-1 Vaishali,Ghaziabad</td>\n",
              "      <td>28.642300</td>\n",
              "      <td>77.344500</td>\n",
              "      <td>62.5</td>\n",
              "      <td>0</td>\n",
              "      <td>0</td>\n",
              "      <td>1</td>\n",
              "      <td>Ghaziabad</td>\n",
              "      <td>4</td>\n",
              "      <td>3</td>\n",
              "      <td>Ghaziabad3</td>\n",
              "    </tr>\n",
              "    <tr>\n",
              "      <th>4</th>\n",
              "      <td>Dealer</td>\n",
              "      <td>1</td>\n",
              "      <td>0</td>\n",
              "      <td>2</td>\n",
              "      <td>2</td>\n",
              "      <td>999.009247</td>\n",
              "      <td>0</td>\n",
              "      <td>1</td>\n",
              "      <td>New Town,Kolkata</td>\n",
              "      <td>22.592200</td>\n",
              "      <td>88.484911</td>\n",
              "      <td>60.5</td>\n",
              "      <td>0</td>\n",
              "      <td>1</td>\n",
              "      <td>0</td>\n",
              "      <td>Kolkata</td>\n",
              "      <td>5</td>\n",
              "      <td>3</td>\n",
              "      <td>Kolkata3</td>\n",
              "    </tr>\n",
              "  </tbody>\n",
              "</table>\n",
              "</div>\n",
              "      <button class=\"colab-df-convert\" onclick=\"convertToInteractive('df-0e180b3d-e75d-47b3-94e8-c41cfa040fb8')\"\n",
              "              title=\"Convert this dataframe to an interactive table.\"\n",
              "              style=\"display:none;\">\n",
              "        \n",
              "  <svg xmlns=\"http://www.w3.org/2000/svg\" height=\"24px\"viewBox=\"0 0 24 24\"\n",
              "       width=\"24px\">\n",
              "    <path d=\"M0 0h24v24H0V0z\" fill=\"none\"/>\n",
              "    <path d=\"M18.56 5.44l.94 2.06.94-2.06 2.06-.94-2.06-.94-.94-2.06-.94 2.06-2.06.94zm-11 1L8.5 8.5l.94-2.06 2.06-.94-2.06-.94L8.5 2.5l-.94 2.06-2.06.94zm10 10l.94 2.06.94-2.06 2.06-.94-2.06-.94-.94-2.06-.94 2.06-2.06.94z\"/><path d=\"M17.41 7.96l-1.37-1.37c-.4-.4-.92-.59-1.43-.59-.52 0-1.04.2-1.43.59L10.3 9.45l-7.72 7.72c-.78.78-.78 2.05 0 2.83L4 21.41c.39.39.9.59 1.41.59.51 0 1.02-.2 1.41-.59l7.78-7.78 2.81-2.81c.8-.78.8-2.07 0-2.86zM5.41 20L4 18.59l7.72-7.72 1.47 1.35L5.41 20z\"/>\n",
              "  </svg>\n",
              "      </button>\n",
              "      \n",
              "  <style>\n",
              "    .colab-df-container {\n",
              "      display:flex;\n",
              "      flex-wrap:wrap;\n",
              "      gap: 12px;\n",
              "    }\n",
              "\n",
              "    .colab-df-convert {\n",
              "      background-color: #E8F0FE;\n",
              "      border: none;\n",
              "      border-radius: 50%;\n",
              "      cursor: pointer;\n",
              "      display: none;\n",
              "      fill: #1967D2;\n",
              "      height: 32px;\n",
              "      padding: 0 0 0 0;\n",
              "      width: 32px;\n",
              "    }\n",
              "\n",
              "    .colab-df-convert:hover {\n",
              "      background-color: #E2EBFA;\n",
              "      box-shadow: 0px 1px 2px rgba(60, 64, 67, 0.3), 0px 1px 3px 1px rgba(60, 64, 67, 0.15);\n",
              "      fill: #174EA6;\n",
              "    }\n",
              "\n",
              "    [theme=dark] .colab-df-convert {\n",
              "      background-color: #3B4455;\n",
              "      fill: #D2E3FC;\n",
              "    }\n",
              "\n",
              "    [theme=dark] .colab-df-convert:hover {\n",
              "      background-color: #434B5C;\n",
              "      box-shadow: 0px 1px 3px 1px rgba(0, 0, 0, 0.15);\n",
              "      filter: drop-shadow(0px 1px 2px rgba(0, 0, 0, 0.3));\n",
              "      fill: #FFFFFF;\n",
              "    }\n",
              "  </style>\n",
              "\n",
              "      <script>\n",
              "        const buttonEl =\n",
              "          document.querySelector('#df-0e180b3d-e75d-47b3-94e8-c41cfa040fb8 button.colab-df-convert');\n",
              "        buttonEl.style.display =\n",
              "          google.colab.kernel.accessAllowed ? 'block' : 'none';\n",
              "\n",
              "        async function convertToInteractive(key) {\n",
              "          const element = document.querySelector('#df-0e180b3d-e75d-47b3-94e8-c41cfa040fb8');\n",
              "          const dataTable =\n",
              "            await google.colab.kernel.invokeFunction('convertToInteractive',\n",
              "                                                     [key], {});\n",
              "          if (!dataTable) return;\n",
              "\n",
              "          const docLinkHtml = 'Like what you see? Visit the ' +\n",
              "            '<a target=\"_blank\" href=https://colab.research.google.com/notebooks/data_table.ipynb>data table notebook</a>'\n",
              "            + ' to learn more about interactive tables.';\n",
              "          element.innerHTML = '';\n",
              "          dataTable['output_type'] = 'display_data';\n",
              "          await google.colab.output.renderOutput(dataTable, element);\n",
              "          const docLink = document.createElement('div');\n",
              "          docLink.innerHTML = docLinkHtml;\n",
              "          element.appendChild(docLink);\n",
              "        }\n",
              "      </script>\n",
              "    </div>\n",
              "  </div>\n",
              "  "
            ]
          },
          "metadata": {},
          "execution_count": 35
        }
      ]
    },
    {
      "cell_type": "code",
      "source": [
        "#checking the value for a particular city (here pune)\n",
        "train_data[train_data['CITY']=='Pune'].AREA_CITY.unique()"
      ],
      "metadata": {
        "colab": {
          "base_uri": "https://localhost:8080/"
        },
        "id": "FSWqX0xgb8zL",
        "outputId": "ae9b0ab9-31b8-49ab-98df-3a6e1b536587"
      },
      "execution_count": 37,
      "outputs": [
        {
          "output_type": "execute_result",
          "data": {
            "text/plain": [
              "array(['Pune3', 'Pune4', 'Pune1', 'Pune6', 'Pune7', 'Pune5', 'Pune2'],\n",
              "      dtype=object)"
            ]
          },
          "metadata": {},
          "execution_count": 37
        }
      ]
    },
    {
      "cell_type": "code",
      "source": [
        "city_area = train_data.groupby('AREA_CITY')['PRICES'].mean().reset_index().sort_values(by='PRICES',ascending =False)"
      ],
      "metadata": {
        "id": "o_aBiQJDce-q"
      },
      "execution_count": 40,
      "outputs": []
    },
    {
      "cell_type": "code",
      "source": [
        "plt.figure(figsize=(40,40))\n",
        "sns.barplot(x='PRICES',y='AREA_CITY',data=city_area)"
      ],
      "metadata": {
        "colab": {
          "base_uri": "https://localhost:8080/",
          "height": 1000
        },
        "id": "-8pY2jN6czOa",
        "outputId": "1ed5e4ce-885d-47c9-91fd-476bf7bcc510"
      },
      "execution_count": 42,
      "outputs": [
        {
          "output_type": "execute_result",
          "data": {
            "text/plain": [
              "<matplotlib.axes._subplots.AxesSubplot at 0x7f74ebfc4dd0>"
            ]
          },
          "metadata": {},
          "execution_count": 42
        },
        {
          "output_type": "display_data",
          "data": {
            "text/plain": [
              "<Figure size 2880x2880 with 1 Axes>"
            ],
            "image/png": "[encoded data removed]"
          },
          "metadata": {
            "needs_background": "light"
          }
        }
      ]
    },
    {
      "cell_type": "code",
      "source": [
        "#Bining AREA_CITY feature under a new feature AREA_CITY_BIN in train\n",
        "\n",
        "train_data['AREA_CITY_BIN']= train_data['AREA_CITY'].apply(lambda x: 16 if x in ('Ranchi7','Nagpur7','Chennai7','Mumbai7','Maharashtra7','Goa7','Lalitpur7','Chandigarh7',\n",
        "          'Pune7','Bangalore7','Kanpur7','Gurgaon7','Lucknow7','Kolkata7','Kochi7','Mohali7','Noida7','Maharashtra6','Kottayam7','Lalitpur6','Mumbai6','Visakhapatnam7') else (\n",
        "15 if x in ('Vadodara7','Udaipur7','Vidisha7','Mangalore7','Mumbai5','Surat7','Maharashtra5','Lalitpur5','Erode7','Panchkula7','Faridabad7','Panaji6','Kanpur6','Sindhudurg6',\n",
        "            'Bhubaneswar7') else (\n",
        "14 if x in ('Bangalore6','Pune6','Jalgaon2','Siliguri7','Chennai6','Coimbatore7','Gurgaon6','Jaipur7','Kolkata6','Jodhpur6','Ahmednagar1','Kochi6','Nagpur6','Indore7','Panaji7',\n",
        "            'Mumbai4','Panaji5','Maharashtra4','Ernakulam6','Noida6','Lalitpur4') else (\n",
        "13 if x in ('Patna6','Haldwani7','Coimbatore6','Varanasi7','Ghaziabad7','Mysore6','Durg7','Hathras5','Maharashtra3','Ghaziabad6','Mumbai3','Lalitpur3','Vijayawada6','Latur6','Idukki6',\n",
        "            'Amritsar6','Guwahati6','Jaipur6') else (\n",
        "12 if x in ('Mangalore6','Lucknow6','Ranchi6','Secunderabad7','Visakhapatnam6','Pune5','Nizamabad7','Goa6','Ludhiana6','Gurgaon5','Shimla6','Sonipat7','Jamshedpur7','Kota6',\n",
        "            'Bhubaneswar6','Thrissur7','Panchkula6','Mohali6','Surat6','Udaipur6','Dehradun6','Bangalore5','Rajkot6') else (\n",
        "11 if x in ('Karwar5','Anand2','Rajkot5','Ludhiana7','Chennai5','Bhopal7','Thrissur6','Indore6','Arrah5','Shimla5','Kottayam6','Secunderabad6','Kolkata5','Maharashtra2','Agra6',\n",
        "            'Chandigarh6','Anand7','Hassan5','Srinagar5','Belgaum6','Faridabad6','Mumbai2','Nainital7','Gurgaon4','Udupi6','Nainital4','Jabalpur5','Panaji4','Udupi7','Noida5',\n",
        "            'Dehradun7','Goa5','Bardhaman6','Bhadrak7','Kollam2','Tirunelveli6','Jalandhar7','Lalitpur2','Jammu5','Vadodara6','Allahabad5','Gandhinagar7') else (\n",
        "10 if x in ('Varanasi5','Kanpur5','Kolhapur6','Jamshedpur6','Valsad7','Sagar6','Dharuhera6','Kottayam5','Sonipat6','Kochi5','Coimbatore5','Madurai5','Panchkula5','Kollam5',\n",
        "            'Nagpur5','Pondicherry5','Pune4','Ludhiana5','Solapur5','Kanchipuram5','Faizabad6','Margao5','Arrah4','Ernakulam5','Tirupati6','Ghaziabad5','Thrissur5','Bhubaneswar5',\n",
        "            'Kakinada5','Gandhinagar6','Siliguri6','Mangalore5','Aurangabad5','Gurgaon3','Bhopal6','Visakhapatnam5','Goa4','Hubli6','Solan6','Phagwara7','Mysore5','Dehradun5',\n",
        "            'Lucknow5','Salem4','Salem5','Shimla4','Junagadh7','Secunderabad5','Jalandhar6','Kota7','Moradabad6','Navsari6','Rohtak6','Belgaum5','Kannur5','Mumbai1','Bareilly5',\n",
        "            'Vijayawada5','Guwahati5','Mohali5') else (\n",
        "9 if x in ('Patna5','Dalhousie5','Gwalior6','Lalitpur1','Gandhinagar5','Bangalore4','Chandigarh5','Chennai4','Panchkula4','Raigad5','Maharashtra1','Bahadurgarh6','Raipur6','Rewari6',\n",
        "           'Haldwani5','Jajpur5','Ranchi5','Jhansi5','Raigad6','Ahmednagar5','Pondicherry7','Vapi6','Jammu4','Surat5','Erode3','Jaipur3','Udaipur5','Kadapa5','Udupi5','Ambala7',\n",
        "           'Faridabad5','Varanasi4','Rudrapur6','Rohtak5','Cuttack4','Palakkad5','Guntur5','Mysore3','Beed7','Berhampur5','Solan5','Bikaner5','Jaipur5','Mysore4','Meerut6') else (\n",
        "8 if x in ('Hubli5','Kolkata4','Jammu7','Warangal5','Noida4','Dibrugarh4','Bikaner7','Gwalior1','Ajmer6','Bharuch7','Margao4','Jodhpur5','Chandigarh4','Madurai4','Bardhaman5',\n",
        "           'Tirunelveli5','Ambala6','Tirupati5','Pune3','Cuttack5','Darbhanga4','Kottayam4','Indore5','Eluru5','Gulbarga5','Agartala3','Roorkee4','Agra5','Rajkot3','Ludhiana3',\n",
        "           'Patna4','Dharwad5','Rourkela5','Panaji3','Srikakulam5','Jodhpur4','Bhimavaram5','Vellore4','Jalandhar5','Kota5','Bhagalpur5','Amravati5','Jamshedpur5','Bhilai6',\n",
        "           'Tirupati4','Muzaffarpur5') else (\n",
        "7 if x in ('Coimbatore4','Rajkot4','Bahadurgarh5','Kolhapur4','Ottapalam5','Nainital5','Kollam4','Kangra7','Ratnagiri6','Silchar5','Moradabad5','Dahod4','Kochi4','Asansol5','Sonipat5',\n",
        "           'Gaya5','Goa3','Kadapa4','Kannur4','Allahabad4','Raigarh4','Siliguri5','Ajmer5','Patna1','Palghar5','Aligarh6','Pondicherry4','Ludhiana4','Dehradun4','Mysore2','Vadodara5',\n",
        "           'Akola5','Kanchipuram4','Pathanamthitta5','Secunderabad4','Hoshangabad3','Aligarh5','Amritsar5','Chennai3','Karnal5','Thrissur4','Mangalore4','Kanpur4','Raipur5','Jind5',\n",
        "           'Lucknow4','Ghaziabad4','Hosur5','Akola4','Thoothukudi4','Aurangabad4','Ernakulam4','Bangalore3','Jalgaon4','Jagdalpur5','Ujjain5','Karjat4','Chittoor4','Patiala5',\n",
        "           'Bardhaman4','Bilaspur2','Balasore4','Satna4','Roorkee3','Dalhousie3','Anantapur5','Allahabad3','Gwalior5','Bhavnagar5','Jabalpur4','Guwahati4','Kanchipuram3','Cuttack3',\n",
        "           'Vizianagaram5','Bhubaneswar4','Kolkata3','Durg5','Dharwad4','Tirunelveli4','Bharuch5','Rishikesh4','Gandhidham4','Haridwar5','Nagpur4','Junagadh5','Ranchi4','Meerut5',\n",
        "           'Eluru4','Jamnagar5','Guntur4','Rewari5','Nellore6','Hazaribagh5','Vapi5','Sonipat2','Bhimavaram4','Darjeeling5','Raigad4','Jalna5','Nellore5','Belgaum4','Shimla2',\n",
        "           'Varanasi3','Shimla3','Bhopal5','Pondicherry3','Neemrana5','Alwar5','Ongole5','Jalgaon1') else (\n",
        "6 if x in ('Jamshedpur4','Faridabad4','Goa1','Rewa4','Anand6','Sikar5','Satna5','Bharatpur5','Kota4','Ooty2','Bareilly4','Mathura5','Pune2','Noida3','Dharuhera5','Durgapur5',\n",
        "           'Kakinada4','Idukki5','Wardha5','Gandhidham5','Jalgaon3','Guwahati3','Coimbatore3','Kanpur3','Vijayawada4','Visakhapatnam4','Kochi3','Tenali5','Udupi4','Dehradun3',\n",
        "           'Gandhinagar4','Patna3','Dhanbad5','Goa2','Raichur5','Nagaon4','Bhiwadi6','Morbi4','Belgaum3','Ajmer4','Mohali4','Ahmednagar4','Palghar4','Surat4','Jhunjhunu5','Panaji2',\n",
        "           'Nainital2','Haridwar4','Udaipur4','Thoothukudi3','Mathura3','Palakkad4','Chandigarh3','Karaikudi4','Solapur4','Bahadurgarh4','Gwalior4','Valsad5','Bangalore1','Bangalore2',\n",
        "           'Ernakulam3','Lucknow3','Tirunelveli3','Muzaffarpur4','Amritsar4','Vijayawada7','Puri3','Madurai3','Thanjavur5','Bhagalpur4','Thanjavur3','Bilaspur5','Amravati3','Pathanamthitta4',\n",
        "           'Bhiwadi5','Agra7','Gaya4','Mangalore3','Siwan5','Secunderabad3','Bokaro5','Jabalpur3','Kolhapur3','Hoshiarpur5','Chandrapur5','Nagaur3','Angul3','Berhampur4','Gadhinglaj3',\n",
        "           'Kharagpur4','Kakinada3','Srikakulam4','Gwalior3','Dalhousie2','Tenali4','Margao3','Kannur3','Jaipur4','Solapur3','Rohtak4','Ranchi3','Chennai2','Solan4','Jhansi4',\n",
        "           'Ratnagiri4','Ahmednagar3','Deoghar4','Visakhapatnam3','Raigad3','Ghaziabad3','Aligarh4','Bhubaneswar3','Agra4','Bhilai5','Vapi4','Amravati4','Amravati2','Thrissur3',\n",
        "           'Hubli4','Rajnandgaon4','Berhampur3','Madurai2','Jalandhar4','Surendranagar5','Amroha4','Nellore4','Bhopal4','Nagpur3','Ratnagiri3','Jodhpur3','Ernakulam2','Varanasi2',\n",
        "           'Gurgaon2','Siliguri4','Indore4','Nainital3','Dharuhera3','Raipur4','Neemrana3','Vadodara4','Bardhaman3','Dhule4','Sonipat4','Guwahati2','Neemrana4','Rajkot2','Gulbarga4',\n",
        "           'Kolhapur2','Raigarh2','Navsari5','Kota3','Moradabad4','Anand5','Surat2','Dharuhera4','Belgaum2','Palakkad3','Meerut4') else (   \n",
        "5 if x in ('Gadhinglaj4','Faridabad3','Bilaspur4','Hazaribagh4','Allahabad2','Haridwar3','Raisen5','Kotdwara4','Nanded2','Warangal4','Sindhudurg3','Nanded3','Karnal3','Ongole4','Aurangabad3',\n",
        "           'Haldia3','Satna3','Rajpura5','Panipat6','Udaipur3','Bhubaneswar2','Palwal4','Palghar3','Jamshedpur3','Vijayawada3','Porbandar2','Chhindwara2','Pune1','Karnal7','Porbandar5',\n",
        "           'Karwar4','Kurnool4','Rishikesh3','Chandrapur2','Udupi3','Chandrapur4','Jodhpur2','Vizianagaram4','Jamnagar4','Tirupati3','Alwar4','Noida2','Bilaspur3','Panchkula2',\n",
        "           'Kurukshetra1','Gaya3','Kadi5','Hapur4','Nagapattinam2','Palwal5','Moradabad3','Sambalpur4','Kanpur2','Dhanbad4','Bahadurgarh3','Hubli3','Ghaziabad2','Gwalior2','Sonipat3',\n",
        "           'Kochi2','Coimbatore2','Aurangabad6','Bhiwadi4','Latur3','Durgapur4','Kolkata2','Karnal4','Godhra4','Puri2','Sindhudurg4','Ongole3','Latur4','Raipur3','Faridabad2','Asansol4',\n",
        "           'Mathura4','Lucknow2','Meerut3','Wardha4','Nagpur2','Dhanbad3','Raigad2','Dhule3','Guntur3','Jalandhar3','Solan3','Baddi4','Washim3','Indore3','Gulbarga3','Morbi3',\n",
        "           'Mangalore2','Siliguri3') else (\n",
        "4 if x in ('Palakkad2','Rudrapur4','Ranchi2','Agra3','Bharuch4','Anand4','Rayagada3','Pondicherry2','Pudukkottai2','Betul4','Baddi2','Yavatmal3','Margao2','Hosur3','Durg4','Gondia4',\n",
        "           'Chandigarh1','Osmanabad2','Bhavnagar6','Aurangabad2','Siddipet3','Surat3','Meerut1','Vadodara3','Gandhinagar3','Dehradun2','Asansol3','Navsari4','Chennai1','Shirdi2',\n",
        "           'Bhilai4','Malappuram2','Nadiad4','Bhandara4','Jharsuguda5','Nanded4','Thrissur2','Valsad4','Vijayawada2','Tenali3','Durg2','Visakhapatnam2','Secunderabad1','Gandhinagar2',\n",
        "           'Bhopal3','Amritsar2','Jabalpur2','Eluru3','Kota2','Karjat3','Palanpur4','Karad4','Thanjavur4','Guwahati1','Hubli2','Chandigarh2','Latur7','Kharagpur3','Karad3','B',\n",
        "           'hopal2','Bokaro4','Aligarh3','Rewari4','Jamnagar3','Mohali2','Machilipatnam2','Dhanbad2','Visnagar4','Karnal2','Jabalpur1','Patna2','Bahadurgarh2','Bhavnagar3','Akola2',\n",
        "           'Vizianagaram3','Noida1','Nellore3','Rudrapur3','Agra2','Palwal3','Hazaribagh3','Rewari2','Hoshangabad4','Nadiad3','Kadi4','Jhansi2') else (\n",
        "3 if x in ('Bhiwadi3','Haridwar2','Bhavnagar4','Mohali3','Anand3','Ahmednagar2','Dehradun1','Durgapur3','Palghar2','Junagadh3','Kanchipuram2','Midnapore2','Meerut7','Gadarwara2',\n",
        "           'Haldwani2','Morbi2','Solan2','Haldwani3','Hoshiarpur7','Guntur2','Vadodara2','Valsad3','Varanasi1','Siliguri2','Jamshedpur2','Raigad1','Vapi3','Navsari2','Udupi2',\n",
        "           'Sindhudurg2','Panchkula1','Jaipur2','Ratnagiri2','Durg3','Ujjain2','Karjat2','Secunderabad2','Ajmer3','Coimbatore1','Kolhapur1','Mathura2','Gandhidham3','Rajkot1',\n",
        "           'Solapur2','Jalna2','Latur2','Ghaziabad1','Faridabad1','Sonipat1','Lucknow1','Nadiad2','Durgapur2','Yavatmal2','Jalgaon5','Kollam3','Palghar1','Bharuch3','Vapi2',\n",
        "           'Chandrapur3','Valsad2','Kharagpur2','Ludhiana2','Gandhinagar1','Neemrana1','Karjat1','Raipur2','Mangalore1','Bhiwani2','Bhopal1','Wardha3','Thrissur1','Karad2','Junagadh4',\n",
        "           'Jamnagar2','Sabarkantha3','Indore2','Udaipur2','Junagadh2','Neemrana2','Visakhapatnam1','Kolkata1','Bhavnagar2','Ranchi1','Banswara2','Harda2','Allahabad1') else (\n",
        "2 if x in ('Vadodara1','Dhule2','Meerut2','Dharuhera2','Bhilai1','Bhiwadi2','Bhandara3','Bhilai3','Anantapur2','Nagpur1','Panipat1','Amravati1','Gandhidham2','Thanjavur2','Karad1',\n",
        "           'Barabanki2','Nainital1','Wardha2','Nellore1','Madurai1','Shirdi1','Bharuch1','Agra1','Jaipur1','Mohali1','Valsad1','Haridwar1','Nellore2','Moradabad2','Ajmer2','Bharuch2',\n",
        "           'Gandhidham1','Sindhudurg1','Gurdaspur2','Bhiwadi1','Panipat4','Jalandhar2','Rudrapur2','Puri1','Sikar2','Asansol2','Ratnagiri1','Solan1','Gurgaon1','Kanchipuram1',\n",
        "           'Ujjain1','Godhra2','Jodhpur1','Alwar1','Vizianagaram2','Hosur4','Aurangabad1','Siliguri1','Jamnagar1','Udaipur1','Hapur1','Kanpur1','Bhilai2') else 1\n",
        ")))))))))))))))"
      ],
      "metadata": {
        "id": "B8KQNqK2dDt0"
      },
      "execution_count": 43,
      "outputs": []
    },
    {
      "cell_type": "code",
      "source": [
        "#Creating new feature 'SQUARE_FT_BIN' on basis of PRICE\n",
        "\n",
        "test_data['SQUARE_FT_BIN'] =test_data['SQUARE_FT'].apply(lambda x: 1 if x < 500 else(\n",
        "    2 if x <800 and x >=500 else (\n",
        "    3 if x <1000 and x >=800 else (\n",
        "    4 if x < 1300 and x >=1000 else (\n",
        "    5 if x <2000 and x >= 1300 else (\n",
        "    6 if x<3000 and x>=2000 else 7\n",
        "    ))))))"
      ],
      "metadata": {
        "id": "JH0z4j0feUdy"
      },
      "execution_count": 44,
      "outputs": []
    },
    {
      "cell_type": "code",
      "source": [
        "#Creating a new feature combining AREA and CITY so that we can capture variation of Price per city area wise.\n",
        "\n",
        "test_data['AREA_CITY'] = test_data['CITY'] + test_data['SQUARE_FT_BIN'].astype(str)"
      ],
      "metadata": {
        "id": "imvbkEAyeYWJ"
      },
      "execution_count": 45,
      "outputs": []
    },
    {
      "cell_type": "code",
      "source": [
        "#Bining AREA_CITY feature under a new feature AREA_CITY_BIN in test\n",
        "\n",
        "test_data['AREA_CITY_BIN']= test_data['AREA_CITY'].apply(lambda x: 16 if x in ('Ranchi7','Nagpur7','Chennai7','Mumbai7','Maharashtra7','Goa7','Lalitpur7','Chandigarh7',\n",
        "          'Pune7','Bangalore7','Kanpur7','Gurgaon7','Lucknow7','Kolkata7','Kochi7','Mohali7','Noida7','Maharashtra6','Kottayam7','Lalitpur6','Mumbai6','Visakhapatnam7') else (\n",
        "15 if x in ('Vadodara7','Udaipur7','Vidisha7','Mangalore7','Mumbai5','Surat7','Maharashtra5','Lalitpur5','Erode7','Panchkula7','Faridabad7','Panaji6','Kanpur6','Sindhudurg6',\n",
        "            'Bhubaneswar7') else (\n",
        "14 if x in ('Bangalore6','Pune6','Jalgaon2','Siliguri7','Chennai6','Coimbatore7','Gurgaon6','Jaipur7','Kolkata6','Jodhpur6','Ahmednagar1','Kochi6','Nagpur6','Indore7','Panaji7',\n",
        "            'Mumbai4','Panaji5','Maharashtra4','Ernakulam6','Noida6','Lalitpur4') else (\n",
        "13 if x in ('Patna6','Haldwani7','Coimbatore6','Varanasi7','Ghaziabad7','Mysore6','Durg7','Hathras5','Maharashtra3','Ghaziabad6','Mumbai3','Lalitpur3','Vijayawada6','Latur6','Idukki6',\n",
        "            'Amritsar6','Guwahati6','Jaipur6') else (\n",
        "12 if x in ('Mangalore6','Lucknow6','Ranchi6','Secunderabad7','Visakhapatnam6','Pune5','Nizamabad7','Goa6','Ludhiana6','Gurgaon5','Shimla6','Sonipat7','Jamshedpur7','Kota6',\n",
        "            'Bhubaneswar6','Thrissur7','Panchkula6','Mohali6','Surat6','Udaipur6','Dehradun6','Bangalore5','Rajkot6') else (\n",
        "11 if x in ('Karwar5','Anand2','Rajkot5','Ludhiana7','Chennai5','Bhopal7','Thrissur6','Indore6','Arrah5','Shimla5','Kottayam6','Secunderabad6','Kolkata5','Maharashtra2','Agra6',\n",
        "            'Chandigarh6','Anand7','Hassan5','Srinagar5','Belgaum6','Faridabad6','Mumbai2','Nainital7','Gurgaon4','Udupi6','Nainital4','Jabalpur5','Panaji4','Udupi7','Noida5',\n",
        "            'Dehradun7','Goa5','Bardhaman6','Bhadrak7','Kollam2','Tirunelveli6','Jalandhar7','Lalitpur2','Jammu5','Vadodara6','Allahabad5','Gandhinagar7') else (\n",
        "10 if x in ('Varanasi5','Kanpur5','Kolhapur6','Jamshedpur6','Valsad7','Sagar6','Dharuhera6','Kottayam5','Sonipat6','Kochi5','Coimbatore5','Madurai5','Panchkula5','Kollam5',\n",
        "            'Nagpur5','Pondicherry5','Pune4','Ludhiana5','Solapur5','Kanchipuram5','Faizabad6','Margao5','Arrah4','Ernakulam5','Tirupati6','Ghaziabad5','Thrissur5','Bhubaneswar5',\n",
        "            'Kakinada5','Gandhinagar6','Siliguri6','Mangalore5','Aurangabad5','Gurgaon3','Bhopal6','Visakhapatnam5','Goa4','Hubli6','Solan6','Phagwara7','Mysore5','Dehradun5',\n",
        "            'Lucknow5','Salem4','Salem5','Shimla4','Junagadh7','Secunderabad5','Jalandhar6','Kota7','Moradabad6','Navsari6','Rohtak6','Belgaum5','Kannur5','Mumbai1','Bareilly5',\n",
        "            'Vijayawada5','Guwahati5','Mohali5') else (\n",
        "9 if x in ('Patna5','Dalhousie5','Gwalior6','Lalitpur1','Gandhinagar5','Bangalore4','Chandigarh5','Chennai4','Panchkula4','Raigad5','Maharashtra1','Bahadurgarh6','Raipur6','Rewari6',\n",
        "           'Haldwani5','Jajpur5','Ranchi5','Jhansi5','Raigad6','Ahmednagar5','Pondicherry7','Vapi6','Jammu4','Surat5','Erode3','Jaipur3','Udaipur5','Kadapa5','Udupi5','Ambala7',\n",
        "           'Faridabad5','Varanasi4','Rudrapur6','Rohtak5','Cuttack4','Palakkad5','Guntur5','Mysore3','Beed7','Berhampur5','Solan5','Bikaner5','Jaipur5','Mysore4','Meerut6') else (\n",
        "8 if x in ('Hubli5','Kolkata4','Jammu7','Warangal5','Noida4','Dibrugarh4','Bikaner7','Gwalior1','Ajmer6','Bharuch7','Margao4','Jodhpur5','Chandigarh4','Madurai4','Bardhaman5',\n",
        "           'Tirunelveli5','Ambala6','Tirupati5','Pune3','Cuttack5','Darbhanga4','Kottayam4','Indore5','Eluru5','Gulbarga5','Agartala3','Roorkee4','Agra5','Rajkot3','Ludhiana3',\n",
        "           'Patna4','Dharwad5','Rourkela5','Panaji3','Srikakulam5','Jodhpur4','Bhimavaram5','Vellore4','Jalandhar5','Kota5','Bhagalpur5','Amravati5','Jamshedpur5','Bhilai6',\n",
        "           'Tirupati4','Muzaffarpur5') else (\n",
        "7 if x in ('Coimbatore4','Rajkot4','Bahadurgarh5','Kolhapur4','Ottapalam5','Nainital5','Kollam4','Kangra7','Ratnagiri6','Silchar5','Moradabad5','Dahod4','Kochi4','Asansol5','Sonipat5',\n",
        "           'Gaya5','Goa3','Kadapa4','Kannur4','Allahabad4','Raigarh4','Siliguri5','Ajmer5','Patna1','Palghar5','Aligarh6','Pondicherry4','Ludhiana4','Dehradun4','Mysore2','Vadodara5',\n",
        "           'Akola5','Kanchipuram4','Pathanamthitta5','Secunderabad4','Hoshangabad3','Aligarh5','Amritsar5','Chennai3','Karnal5','Thrissur4','Mangalore4','Kanpur4','Raipur5','Jind5',\n",
        "           'Lucknow4','Ghaziabad4','Hosur5','Akola4','Thoothukudi4','Aurangabad4','Ernakulam4','Bangalore3','Jalgaon4','Jagdalpur5','Ujjain5','Karjat4','Chittoor4','Patiala5',\n",
        "           'Bardhaman4','Bilaspur2','Balasore4','Satna4','Roorkee3','Dalhousie3','Anantapur5','Allahabad3','Gwalior5','Bhavnagar5','Jabalpur4','Guwahati4','Kanchipuram3','Cuttack3',\n",
        "           'Vizianagaram5','Bhubaneswar4','Kolkata3','Durg5','Dharwad4','Tirunelveli4','Bharuch5','Rishikesh4','Gandhidham4','Haridwar5','Nagpur4','Junagadh5','Ranchi4','Meerut5',\n",
        "           'Eluru4','Jamnagar5','Guntur4','Rewari5','Nellore6','Hazaribagh5','Vapi5','Sonipat2','Bhimavaram4','Darjeeling5','Raigad4','Jalna5','Nellore5','Belgaum4','Shimla2',\n",
        "           'Varanasi3','Shimla3','Bhopal5','Pondicherry3','Neemrana5','Alwar5','Ongole5','Jalgaon1') else (\n",
        "6 if x in ('Jamshedpur4','Faridabad4','Goa1','Rewa4','Anand6','Sikar5','Satna5','Bharatpur5','Kota4','Ooty2','Bareilly4','Mathura5','Pune2','Noida3','Dharuhera5','Durgapur5',\n",
        "           'Kakinada4','Idukki5','Wardha5','Gandhidham5','Jalgaon3','Guwahati3','Coimbatore3','Kanpur3','Vijayawada4','Visakhapatnam4','Kochi3','Tenali5','Udupi4','Dehradun3',\n",
        "           'Gandhinagar4','Patna3','Dhanbad5','Goa2','Raichur5','Nagaon4','Bhiwadi6','Morbi4','Belgaum3','Ajmer4','Mohali4','Ahmednagar4','Palghar4','Surat4','Jhunjhunu5','Panaji2',\n",
        "           'Nainital2','Haridwar4','Udaipur4','Thoothukudi3','Mathura3','Palakkad4','Chandigarh3','Karaikudi4','Solapur4','Bahadurgarh4','Gwalior4','Valsad5','Bangalore1','Bangalore2',\n",
        "           'Ernakulam3','Lucknow3','Tirunelveli3','Muzaffarpur4','Amritsar4','Vijayawada7','Puri3','Madurai3','Thanjavur5','Bhagalpur4','Thanjavur3','Bilaspur5','Amravati3','Pathanamthitta4',\n",
        "           'Bhiwadi5','Agra7','Gaya4','Mangalore3','Siwan5','Secunderabad3','Bokaro5','Jabalpur3','Kolhapur3','Hoshiarpur5','Chandrapur5','Nagaur3','Angul3','Berhampur4','Gadhinglaj3',\n",
        "           'Kharagpur4','Kakinada3','Srikakulam4','Gwalior3','Dalhousie2','Tenali4','Margao3','Kannur3','Jaipur4','Solapur3','Rohtak4','Ranchi3','Chennai2','Solan4','Jhansi4',\n",
        "           'Ratnagiri4','Ahmednagar3','Deoghar4','Visakhapatnam3','Raigad3','Ghaziabad3','Aligarh4','Bhubaneswar3','Agra4','Bhilai5','Vapi4','Amravati4','Amravati2','Thrissur3',\n",
        "           'Hubli4','Rajnandgaon4','Berhampur3','Madurai2','Jalandhar4','Surendranagar5','Amroha4','Nellore4','Bhopal4','Nagpur3','Ratnagiri3','Jodhpur3','Ernakulam2','Varanasi2',\n",
        "           'Gurgaon2','Siliguri4','Indore4','Nainital3','Dharuhera3','Raipur4','Neemrana3','Vadodara4','Bardhaman3','Dhule4','Sonipat4','Guwahati2','Neemrana4','Rajkot2','Gulbarga4',\n",
        "           'Kolhapur2','Raigarh2','Navsari5','Kota3','Moradabad4','Anand5','Surat2','Dharuhera4','Belgaum2','Palakkad3','Meerut4') else (   \n",
        "5 if x in ('Gadhinglaj4','Faridabad3','Bilaspur4','Hazaribagh4','Allahabad2','Haridwar3','Raisen5','Kotdwara4','Nanded2','Warangal4','Sindhudurg3','Nanded3','Karnal3','Ongole4','Aurangabad3',\n",
        "           'Haldia3','Satna3','Rajpura5','Panipat6','Udaipur3','Bhubaneswar2','Palwal4','Palghar3','Jamshedpur3','Vijayawada3','Porbandar2','Chhindwara2','Pune1','Karnal7','Porbandar5',\n",
        "           'Karwar4','Kurnool4','Rishikesh3','Chandrapur2','Udupi3','Chandrapur4','Jodhpur2','Vizianagaram4','Jamnagar4','Tirupati3','Alwar4','Noida2','Bilaspur3','Panchkula2',\n",
        "           'Kurukshetra1','Gaya3','Kadi5','Hapur4','Nagapattinam2','Palwal5','Moradabad3','Sambalpur4','Kanpur2','Dhanbad4','Bahadurgarh3','Hubli3','Ghaziabad2','Gwalior2','Sonipat3',\n",
        "           'Kochi2','Coimbatore2','Aurangabad6','Bhiwadi4','Latur3','Durgapur4','Kolkata2','Karnal4','Godhra4','Puri2','Sindhudurg4','Ongole3','Latur4','Raipur3','Faridabad2','Asansol4',\n",
        "           'Mathura4','Lucknow2','Meerut3','Wardha4','Nagpur2','Dhanbad3','Raigad2','Dhule3','Guntur3','Jalandhar3','Solan3','Baddi4','Washim3','Indore3','Gulbarga3','Morbi3',\n",
        "           'Mangalore2','Siliguri3') else (\n",
        "4 if x in ('Palakkad2','Rudrapur4','Ranchi2','Agra3','Bharuch4','Anand4','Rayagada3','Pondicherry2','Pudukkottai2','Betul4','Baddi2','Yavatmal3','Margao2','Hosur3','Durg4','Gondia4',\n",
        "           'Chandigarh1','Osmanabad2','Bhavnagar6','Aurangabad2','Siddipet3','Surat3','Meerut1','Vadodara3','Gandhinagar3','Dehradun2','Asansol3','Navsari4','Chennai1','Shirdi2',\n",
        "           'Bhilai4','Malappuram2','Nadiad4','Bhandara4','Jharsuguda5','Nanded4','Thrissur2','Valsad4','Vijayawada2','Tenali3','Durg2','Visakhapatnam2','Secunderabad1','Gandhinagar2',\n",
        "           'Bhopal3','Amritsar2','Jabalpur2','Eluru3','Kota2','Karjat3','Palanpur4','Karad4','Thanjavur4','Guwahati1','Hubli2','Chandigarh2','Latur7','Kharagpur3','Karad3','B',\n",
        "           'hopal2','Bokaro4','Aligarh3','Rewari4','Jamnagar3','Mohali2','Machilipatnam2','Dhanbad2','Visnagar4','Karnal2','Jabalpur1','Patna2','Bahadurgarh2','Bhavnagar3','Akola2',\n",
        "           'Vizianagaram3','Noida1','Nellore3','Rudrapur3','Agra2','Palwal3','Hazaribagh3','Rewari2','Hoshangabad4','Nadiad3','Kadi4','Jhansi2') else (\n",
        "3 if x in ('Bhiwadi3','Haridwar2','Bhavnagar4','Mohali3','Anand3','Ahmednagar2','Dehradun1','Durgapur3','Palghar2','Junagadh3','Kanchipuram2','Midnapore2','Meerut7','Gadarwara2',\n",
        "           'Haldwani2','Morbi2','Solan2','Haldwani3','Hoshiarpur7','Guntur2','Vadodara2','Valsad3','Varanasi1','Siliguri2','Jamshedpur2','Raigad1','Vapi3','Navsari2','Udupi2',\n",
        "           'Sindhudurg2','Panchkula1','Jaipur2','Ratnagiri2','Durg3','Ujjain2','Karjat2','Secunderabad2','Ajmer3','Coimbatore1','Kolhapur1','Mathura2','Gandhidham3','Rajkot1',\n",
        "           'Solapur2','Jalna2','Latur2','Ghaziabad1','Faridabad1','Sonipat1','Lucknow1','Nadiad2','Durgapur2','Yavatmal2','Jalgaon5','Kollam3','Palghar1','Bharuch3','Vapi2',\n",
        "           'Chandrapur3','Valsad2','Kharagpur2','Ludhiana2','Gandhinagar1','Neemrana1','Karjat1','Raipur2','Mangalore1','Bhiwani2','Bhopal1','Wardha3','Thrissur1','Karad2','Junagadh4',\n",
        "           'Jamnagar2','Sabarkantha3','Indore2','Udaipur2','Junagadh2','Neemrana2','Visakhapatnam1','Kolkata1','Bhavnagar2','Ranchi1','Banswara2','Harda2','Allahabad1') else (\n",
        "2 if x in ('Vadodara1','Dhule2','Meerut2','Dharuhera2','Bhilai1','Bhiwadi2','Bhandara3','Bhilai3','Anantapur2','Nagpur1','Panipat1','Amravati1','Gandhidham2','Thanjavur2','Karad1',\n",
        "           'Barabanki2','Nainital1','Wardha2','Nellore1','Madurai1','Shirdi1','Bharuch1','Agra1','Jaipur1','Mohali1','Valsad1','Haridwar1','Nellore2','Moradabad2','Ajmer2','Bharuch2',\n",
        "           'Gandhidham1','Sindhudurg1','Gurdaspur2','Bhiwadi1','Panipat4','Jalandhar2','Rudrapur2','Puri1','Sikar2','Asansol2','Ratnagiri1','Solan1','Gurgaon1','Kanchipuram1',\n",
        "           'Ujjain1','Godhra2','Jodhpur1','Alwar1','Vizianagaram2','Hosur4','Aurangabad1','Siliguri1','Jamnagar1','Udaipur1','Hapur1','Kanpur1','Bhilai2') else 1\n",
        ")))))))))))))))"
      ],
      "metadata": {
        "id": "KQOof-wyeb69"
      },
      "execution_count": 46,
      "outputs": []
    },
    {
      "cell_type": "code",
      "source": [
        "#Checking the percentage of data falls under area 200 \n",
        "\n",
        "(train_data['SQUARE_FT'].count() -train_data['SQUARE_FT'][train_data.SQUARE_FT<200].count())/train_data['SQUARE_FT'].count()"
      ],
      "metadata": {
        "colab": {
          "base_uri": "https://localhost:8080/"
        },
        "id": "0b9Wyhc6fASC",
        "outputId": "78eec4dc-16d8-420a-f244-78e81d7a4d6c"
      },
      "execution_count": 47,
      "outputs": [
        {
          "output_type": "execute_result",
          "data": {
            "text/plain": [
              "0.998657487091222"
            ]
          },
          "metadata": {},
          "execution_count": 47
        }
      ]
    },
    {
      "cell_type": "code",
      "source": [
        "#removing area less tan 200 sqrft and it constitute .002% of data\n",
        "train_data = train_data[train_data.SQUARE_FT>200]"
      ],
      "metadata": {
        "id": "83gOBrF3fElZ"
      },
      "execution_count": 48,
      "outputs": []
    },
    {
      "cell_type": "code",
      "source": [
        "#Visulising SQUARE_FT\n",
        "sns.distplot(train_data.SQUARE_FT)"
      ],
      "metadata": {
        "colab": {
          "base_uri": "https://localhost:8080/",
          "height": 305
        },
        "id": "-UFwQTPgfP_2",
        "outputId": "4af58e36-d563-4474-d4d7-9f11627c08a0"
      },
      "execution_count": 50,
      "outputs": [
        {
          "output_type": "execute_result",
          "data": {
            "text/plain": [
              "<matplotlib.axes._subplots.AxesSubplot at 0x7f74e5877410>"
            ]
          },
          "metadata": {},
          "execution_count": 50
        },
        {
          "output_type": "display_data",
          "data": {
            "text/plain": [
              "<Figure size 432x288 with 1 Axes>"
            ],
            "image/png": "[encoded data removed]"
          },
          "metadata": {
            "needs_background": "light"
          }
        }
      ]
    },
    {
      "cell_type": "code",
      "source": [
        "#taking log transfrom for sqere fit as the data is skiewd\n",
        "\n",
        "train_data.SQUARE_FT = np.log1p(train_data.SQUARE_FT)\n",
        "test_data.SQUARE_FT = np.log1p(test_data.SQUARE_FT)"
      ],
      "metadata": {
        "id": "MyqM7-ODf14s"
      },
      "execution_count": 52,
      "outputs": []
    },
    {
      "cell_type": "code",
      "source": [
        "#Visulising SQUARE_FT\n",
        "sns.distplot(train_data.SQUARE_FT)"
      ],
      "metadata": {
        "colab": {
          "base_uri": "https://localhost:8080/",
          "height": 294
        },
        "id": "5RjBQ5jnhhUu",
        "outputId": "cd8f66ef-c68d-48d8-b4b2-ece97a0e7a37"
      },
      "execution_count": 54,
      "outputs": [
        {
          "output_type": "execute_result",
          "data": {
            "text/plain": [
              "<matplotlib.axes._subplots.AxesSubplot at 0x7f74e5723190>"
            ]
          },
          "metadata": {},
          "execution_count": 54
        },
        {
          "output_type": "display_data",
          "data": {
            "text/plain": [
              "<Figure size 432x288 with 1 Axes>"
            ],
            "image/png": "[encoded data removed]"
          },
          "metadata": {
            "needs_background": "light"
          }
        }
      ]
    },
    {
      "cell_type": "code",
      "source": [
        "#Visualization of latitued and longitude\n",
        "\n",
        "sns.scatterplot(x='LATITUDE',y='LONGITUDE',data=train_data)"
      ],
      "metadata": {
        "colab": {
          "base_uri": "https://localhost:8080/",
          "height": 294
        },
        "id": "ycwYvr7fha1g",
        "outputId": "cd6709b9-070a-44c5-b77d-9f781e9f2ff4"
      },
      "execution_count": 53,
      "outputs": [
        {
          "output_type": "execute_result",
          "data": {
            "text/plain": [
              "<matplotlib.axes._subplots.AxesSubplot at 0x7f74e5680590>"
            ]
          },
          "metadata": {},
          "execution_count": 53
        },
        {
          "output_type": "display_data",
          "data": {
            "text/plain": [
              "<Figure size 432x288 with 1 Axes>"
            ],
            "image/png": "[encoded data removed]"
          },
          "metadata": {
            "needs_background": "light"
          }
        }
      ]
    },
    {
      "cell_type": "code",
      "source": [
        "#Visualization of Price\n",
        "\n",
        "sns.boxplot(train_data.PRICES)"
      ],
      "metadata": {
        "colab": {
          "base_uri": "https://localhost:8080/",
          "height": 294
        },
        "id": "EKoE5Yskhf9F",
        "outputId": "86b0c852-8e53-4536-d652-41ab2b5bc32e"
      },
      "execution_count": 55,
      "outputs": [
        {
          "output_type": "execute_result",
          "data": {
            "text/plain": [
              "<matplotlib.axes._subplots.AxesSubplot at 0x7f74e559f590>"
            ]
          },
          "metadata": {},
          "execution_count": 55
        },
        {
          "output_type": "display_data",
          "data": {
            "text/plain": [
              "<Figure size 432x288 with 1 Axes>"
            ],
            "image/png": "[encoded data removed]"
          },
          "metadata": {
            "needs_background": "light"
          }
        }
      ]
    },
    {
      "cell_type": "markdown",
      "source": [
        "As the price data is skewed, I will take log transformation of this feature while applying to model."
      ],
      "metadata": {
        "id": "D3Rv2iREhs5R"
      }
    },
    {
      "cell_type": "code",
      "source": [
        "#After EDA, complete Train data\n",
        "\n",
        "train_data.head()"
      ],
      "metadata": {
        "colab": {
          "base_uri": "https://localhost:8080/",
          "height": 322
        },
        "id": "W3zq2er8hpEM",
        "outputId": "efe3e9ea-3226-4de3-b701-4c8487b27cdd"
      },
      "execution_count": 56,
      "outputs": [
        {
          "output_type": "execute_result",
          "data": {
            "text/plain": [
              "  POSTED_BY  UNDER_CONSTRUCTION  RERA  BHK_NO.  BHK_OR_RK  SQUARE_FT  \\\n",
              "0     Owner                   0     0        2          2   2.100600   \n",
              "1    Dealer                   0     0        2          2   2.098200   \n",
              "2     Owner                   0     0        2          2   2.059194   \n",
              "3     Owner                   0     1        2          2   2.058751   \n",
              "4    Dealer                   1     0        2          2   2.067845   \n",
              "\n",
              "   READY_TO_MOVE  RESALE                      ADDRESS  LONGITUDE   LATITUDE  \\\n",
              "0              1       1        Ksfc Layout,Bangalore  12.969910  77.597960   \n",
              "1              1       1    Vishweshwara Nagar,Mysore  12.274538  76.644605   \n",
              "2              1       1             Jigani,Bangalore  12.778033  77.632191   \n",
              "3              1       1  Sector-1 Vaishali,Ghaziabad  28.642300  77.344500   \n",
              "4              0       1             New Town,Kolkata  22.592200  88.484911   \n",
              "\n",
              "   PRICES  POSTED_BY_Builder  POSTED_BY_Dealer  POSTED_BY_Owner       CITY  \\\n",
              "0    55.0                  0                 0                1  Bangalore   \n",
              "1    51.0                  0                 1                0     Mysore   \n",
              "2    43.0                  0                 0                1  Bangalore   \n",
              "3    62.5                  0                 0                1  Ghaziabad   \n",
              "4    60.5                  0                 1                0    Kolkata   \n",
              "\n",
              "   CITY_BIN  SQUARE_FT_BIN   AREA_CITY  AREA_CITY_BIN  \n",
              "0         6              5  Bangalore5             12  \n",
              "1         4              4     Mysore4              9  \n",
              "2         6              3  Bangalore3              7  \n",
              "3         4              3  Ghaziabad3              6  \n",
              "4         5              3    Kolkata3              7  "
            ],
            "text/html": [
              "\n",
              "  <div id=\"df-594ca539-a432-447d-ab3e-eb69bd3b764a\">\n",
              "    <div class=\"colab-df-container\">\n",
              "      <div>\n",
              "<style scoped>\n",
              "    .dataframe tbody tr th:only-of-type {\n",
              "        vertical-align: middle;\n",
              "    }\n",
              "\n",
              "    .dataframe tbody tr th {\n",
              "        vertical-align: top;\n",
              "    }\n",
              "\n",
              "    .dataframe thead th {\n",
              "        text-align: right;\n",
              "    }\n",
              "</style>\n",
              "<table border=\"1\" class=\"dataframe\">\n",
              "  <thead>\n",
              "    <tr style=\"text-align: right;\">\n",
              "      <th></th>\n",
              "      <th>POSTED_BY</th>\n",
              "      <th>UNDER_CONSTRUCTION</th>\n",
              "      <th>RERA</th>\n",
              "      <th>BHK_NO.</th>\n",
              "      <th>BHK_OR_RK</th>\n",
              "      <th>SQUARE_FT</th>\n",
              "      <th>READY_TO_MOVE</th>\n",
              "      <th>RESALE</th>\n",
              "      <th>ADDRESS</th>\n",
              "      <th>LONGITUDE</th>\n",
              "      <th>LATITUDE</th>\n",
              "      <th>PRICES</th>\n",
              "      <th>POSTED_BY_Builder</th>\n",
              "      <th>POSTED_BY_Dealer</th>\n",
              "      <th>POSTED_BY_Owner</th>\n",
              "      <th>CITY</th>\n",
              "      <th>CITY_BIN</th>\n",
              "      <th>SQUARE_FT_BIN</th>\n",
              "      <th>AREA_CITY</th>\n",
              "      <th>AREA_CITY_BIN</th>\n",
              "    </tr>\n",
              "  </thead>\n",
              "  <tbody>\n",
              "    <tr>\n",
              "      <th>0</th>\n",
              "      <td>Owner</td>\n",
              "      <td>0</td>\n",
              "      <td>0</td>\n",
              "      <td>2</td>\n",
              "      <td>2</td>\n",
              "      <td>2.100600</td>\n",
              "      <td>1</td>\n",
              "      <td>1</td>\n",
              "      <td>Ksfc Layout,Bangalore</td>\n",
              "      <td>12.969910</td>\n",
              "      <td>77.597960</td>\n",
              "      <td>55.0</td>\n",
              "      <td>0</td>\n",
              "      <td>0</td>\n",
              "      <td>1</td>\n",
              "      <td>Bangalore</td>\n",
              "      <td>6</td>\n",
              "      <td>5</td>\n",
              "      <td>Bangalore5</td>\n",
              "      <td>12</td>\n",
              "    </tr>\n",
              "    <tr>\n",
              "      <th>1</th>\n",
              "      <td>Dealer</td>\n",
              "      <td>0</td>\n",
              "      <td>0</td>\n",
              "      <td>2</td>\n",
              "      <td>2</td>\n",
              "      <td>2.098200</td>\n",
              "      <td>1</td>\n",
              "      <td>1</td>\n",
              "      <td>Vishweshwara Nagar,Mysore</td>\n",
              "      <td>12.274538</td>\n",
              "      <td>76.644605</td>\n",
              "      <td>51.0</td>\n",
              "      <td>0</td>\n",
              "      <td>1</td>\n",
              "      <td>0</td>\n",
              "      <td>Mysore</td>\n",
              "      <td>4</td>\n",
              "      <td>4</td>\n",
              "      <td>Mysore4</td>\n",
              "      <td>9</td>\n",
              "    </tr>\n",
              "    <tr>\n",
              "      <th>2</th>\n",
              "      <td>Owner</td>\n",
              "      <td>0</td>\n",
              "      <td>0</td>\n",
              "      <td>2</td>\n",
              "      <td>2</td>\n",
              "      <td>2.059194</td>\n",
              "      <td>1</td>\n",
              "      <td>1</td>\n",
              "      <td>Jigani,Bangalore</td>\n",
              "      <td>12.778033</td>\n",
              "      <td>77.632191</td>\n",
              "      <td>43.0</td>\n",
              "      <td>0</td>\n",
              "      <td>0</td>\n",
              "      <td>1</td>\n",
              "      <td>Bangalore</td>\n",
              "      <td>6</td>\n",
              "      <td>3</td>\n",
              "      <td>Bangalore3</td>\n",
              "      <td>7</td>\n",
              "    </tr>\n",
              "    <tr>\n",
              "      <th>3</th>\n",
              "      <td>Owner</td>\n",
              "      <td>0</td>\n",
              "      <td>1</td>\n",
              "      <td>2</td>\n",
              "      <td>2</td>\n",
              "      <td>2.058751</td>\n",
              "      <td>1</td>\n",
              "      <td>1</td>\n",
              "      <td>Sector-1 Vaishali,Ghaziabad</td>\n",
              "      <td>28.642300</td>\n",
              "      <td>77.344500</td>\n",
              "      <td>62.5</td>\n",
              "      <td>0</td>\n",
              "      <td>0</td>\n",
              "      <td>1</td>\n",
              "      <td>Ghaziabad</td>\n",
              "      <td>4</td>\n",
              "      <td>3</td>\n",
              "      <td>Ghaziabad3</td>\n",
              "      <td>6</td>\n",
              "    </tr>\n",
              "    <tr>\n",
              "      <th>4</th>\n",
              "      <td>Dealer</td>\n",
              "      <td>1</td>\n",
              "      <td>0</td>\n",
              "      <td>2</td>\n",
              "      <td>2</td>\n",
              "      <td>2.067845</td>\n",
              "      <td>0</td>\n",
              "      <td>1</td>\n",
              "      <td>New Town,Kolkata</td>\n",
              "      <td>22.592200</td>\n",
              "      <td>88.484911</td>\n",
              "      <td>60.5</td>\n",
              "      <td>0</td>\n",
              "      <td>1</td>\n",
              "      <td>0</td>\n",
              "      <td>Kolkata</td>\n",
              "      <td>5</td>\n",
              "      <td>3</td>\n",
              "      <td>Kolkata3</td>\n",
              "      <td>7</td>\n",
              "    </tr>\n",
              "  </tbody>\n",
              "</table>\n",
              "</div>\n",
              "      <button class=\"colab-df-convert\" onclick=\"convertToInteractive('df-594ca539-a432-447d-ab3e-eb69bd3b764a')\"\n",
              "              title=\"Convert this dataframe to an interactive table.\"\n",
              "              style=\"display:none;\">\n",
              "        \n",
              "  <svg xmlns=\"http://www.w3.org/2000/svg\" height=\"24px\"viewBox=\"0 0 24 24\"\n",
              "       width=\"24px\">\n",
              "    <path d=\"M0 0h24v24H0V0z\" fill=\"none\"/>\n",
              "    <path d=\"M18.56 5.44l.94 2.06.94-2.06 2.06-.94-2.06-.94-.94-2.06-.94 2.06-2.06.94zm-11 1L8.5 8.5l.94-2.06 2.06-.94-2.06-.94L8.5 2.5l-.94 2.06-2.06.94zm10 10l.94 2.06.94-2.06 2.06-.94-2.06-.94-.94-2.06-.94 2.06-2.06.94z\"/><path d=\"M17.41 7.96l-1.37-1.37c-.4-.4-.92-.59-1.43-.59-.52 0-1.04.2-1.43.59L10.3 9.45l-7.72 7.72c-.78.78-.78 2.05 0 2.83L4 21.41c.39.39.9.59 1.41.59.51 0 1.02-.2 1.41-.59l7.78-7.78 2.81-2.81c.8-.78.8-2.07 0-2.86zM5.41 20L4 18.59l7.72-7.72 1.47 1.35L5.41 20z\"/>\n",
              "  </svg>\n",
              "      </button>\n",
              "      \n",
              "  <style>\n",
              "    .colab-df-container {\n",
              "      display:flex;\n",
              "      flex-wrap:wrap;\n",
              "      gap: 12px;\n",
              "    }\n",
              "\n",
              "    .colab-df-convert {\n",
              "      background-color: #E8F0FE;\n",
              "      border: none;\n",
              "      border-radius: 50%;\n",
              "      cursor: pointer;\n",
              "      display: none;\n",
              "      fill: #1967D2;\n",
              "      height: 32px;\n",
              "      padding: 0 0 0 0;\n",
              "      width: 32px;\n",
              "    }\n",
              "\n",
              "    .colab-df-convert:hover {\n",
              "      background-color: #E2EBFA;\n",
              "      box-shadow: 0px 1px 2px rgba(60, 64, 67, 0.3), 0px 1px 3px 1px rgba(60, 64, 67, 0.15);\n",
              "      fill: #174EA6;\n",
              "    }\n",
              "\n",
              "    [theme=dark] .colab-df-convert {\n",
              "      background-color: #3B4455;\n",
              "      fill: #D2E3FC;\n",
              "    }\n",
              "\n",
              "    [theme=dark] .colab-df-convert:hover {\n",
              "      background-color: #434B5C;\n",
              "      box-shadow: 0px 1px 3px 1px rgba(0, 0, 0, 0.15);\n",
              "      filter: drop-shadow(0px 1px 2px rgba(0, 0, 0, 0.3));\n",
              "      fill: #FFFFFF;\n",
              "    }\n",
              "  </style>\n",
              "\n",
              "      <script>\n",
              "        const buttonEl =\n",
              "          document.querySelector('#df-594ca539-a432-447d-ab3e-eb69bd3b764a button.colab-df-convert');\n",
              "        buttonEl.style.display =\n",
              "          google.colab.kernel.accessAllowed ? 'block' : 'none';\n",
              "\n",
              "        async function convertToInteractive(key) {\n",
              "          const element = document.querySelector('#df-594ca539-a432-447d-ab3e-eb69bd3b764a');\n",
              "          const dataTable =\n",
              "            await google.colab.kernel.invokeFunction('convertToInteractive',\n",
              "                                                     [key], {});\n",
              "          if (!dataTable) return;\n",
              "\n",
              "          const docLinkHtml = 'Like what you see? Visit the ' +\n",
              "            '<a target=\"_blank\" href=https://colab.research.google.com/notebooks/data_table.ipynb>data table notebook</a>'\n",
              "            + ' to learn more about interactive tables.';\n",
              "          element.innerHTML = '';\n",
              "          dataTable['output_type'] = 'display_data';\n",
              "          await google.colab.output.renderOutput(dataTable, element);\n",
              "          const docLink = document.createElement('div');\n",
              "          docLink.innerHTML = docLinkHtml;\n",
              "          element.appendChild(docLink);\n",
              "        }\n",
              "      </script>\n",
              "    </div>\n",
              "  </div>\n",
              "  "
            ]
          },
          "metadata": {},
          "execution_count": 56
        }
      ]
    },
    {
      "cell_type": "code",
      "source": [
        "#droping 'ADDRESS' 'CITY','AREA_CITY','SQUARE_FT_BIN','POSTED_BY' as these are not adding any value\n",
        "#READY_TO_MOVE has high corelation with UNDER_CONSTRUCTION(after applyig model I get to know)\n",
        "#BHK_OR_RK\t is least significant\n",
        "\n",
        "train_data_cleand = train_data.drop(['ADDRESS','READY_TO_MOVE','BHK_OR_RK','CITY','AREA_CITY','SQUARE_FT_BIN','POSTED_BY'], axis = 1)\n",
        "test_data_cleand = test_data.drop(['ADDRESS','READY_TO_MOVE','BHK_OR_RK','CITY','AREA_CITY','SQUARE_FT_BIN','POSTED_BY'], axis = 1)"
      ],
      "metadata": {
        "id": "R6kNRHoKhvCy"
      },
      "execution_count": 57,
      "outputs": []
    },
    {
      "cell_type": "code",
      "source": [
        "#Train data after performing cleaning\n",
        "\n",
        "train_data_cleand.head()"
      ],
      "metadata": {
        "colab": {
          "base_uri": "https://localhost:8080/",
          "height": 250
        },
        "id": "bZli_aiziXgg",
        "outputId": "91a6fd6e-6d45-4075-f809-391cc1e7b617"
      },
      "execution_count": 58,
      "outputs": [
        {
          "output_type": "execute_result",
          "data": {
            "text/plain": [
              "   UNDER_CONSTRUCTION  RERA  BHK_NO.  SQUARE_FT  RESALE  LONGITUDE   LATITUDE  \\\n",
              "0                   0     0        2   2.100600       1  12.969910  77.597960   \n",
              "1                   0     0        2   2.098200       1  12.274538  76.644605   \n",
              "2                   0     0        2   2.059194       1  12.778033  77.632191   \n",
              "3                   0     1        2   2.058751       1  28.642300  77.344500   \n",
              "4                   1     0        2   2.067845       1  22.592200  88.484911   \n",
              "\n",
              "   PRICES  POSTED_BY_Builder  POSTED_BY_Dealer  POSTED_BY_Owner  CITY_BIN  \\\n",
              "0    55.0                  0                 0                1         6   \n",
              "1    51.0                  0                 1                0         4   \n",
              "2    43.0                  0                 0                1         6   \n",
              "3    62.5                  0                 0                1         4   \n",
              "4    60.5                  0                 1                0         5   \n",
              "\n",
              "   AREA_CITY_BIN  \n",
              "0             12  \n",
              "1              9  \n",
              "2              7  \n",
              "3              6  \n",
              "4              7  "
            ],
            "text/html": [
              "\n",
              "  <div id=\"df-38f4bcf4-98c5-48c5-b54c-1b7dbc98b105\">\n",
              "    <div class=\"colab-df-container\">\n",
              "      <div>\n",
              "<style scoped>\n",
              "    .dataframe tbody tr th:only-of-type {\n",
              "        vertical-align: middle;\n",
              "    }\n",
              "\n",
              "    .dataframe tbody tr th {\n",
              "        vertical-align: top;\n",
              "    }\n",
              "\n",
              "    .dataframe thead th {\n",
              "        text-align: right;\n",
              "    }\n",
              "</style>\n",
              "<table border=\"1\" class=\"dataframe\">\n",
              "  <thead>\n",
              "    <tr style=\"text-align: right;\">\n",
              "      <th></th>\n",
              "      <th>UNDER_CONSTRUCTION</th>\n",
              "      <th>RERA</th>\n",
              "      <th>BHK_NO.</th>\n",
              "      <th>SQUARE_FT</th>\n",
              "      <th>RESALE</th>\n",
              "      <th>LONGITUDE</th>\n",
              "      <th>LATITUDE</th>\n",
              "      <th>PRICES</th>\n",
              "      <th>POSTED_BY_Builder</th>\n",
              "      <th>POSTED_BY_Dealer</th>\n",
              "      <th>POSTED_BY_Owner</th>\n",
              "      <th>CITY_BIN</th>\n",
              "      <th>AREA_CITY_BIN</th>\n",
              "    </tr>\n",
              "  </thead>\n",
              "  <tbody>\n",
              "    <tr>\n",
              "      <th>0</th>\n",
              "      <td>0</td>\n",
              "      <td>0</td>\n",
              "      <td>2</td>\n",
              "      <td>2.100600</td>\n",
              "      <td>1</td>\n",
              "      <td>12.969910</td>\n",
              "      <td>77.597960</td>\n",
              "      <td>55.0</td>\n",
              "      <td>0</td>\n",
              "      <td>0</td>\n",
              "      <td>1</td>\n",
              "      <td>6</td>\n",
              "      <td>12</td>\n",
              "    </tr>\n",
              "    <tr>\n",
              "      <th>1</th>\n",
              "      <td>0</td>\n",
              "      <td>0</td>\n",
              "      <td>2</td>\n",
              "      <td>2.098200</td>\n",
              "      <td>1</td>\n",
              "      <td>12.274538</td>\n",
              "      <td>76.644605</td>\n",
              "      <td>51.0</td>\n",
              "      <td>0</td>\n",
              "      <td>1</td>\n",
              "      <td>0</td>\n",
              "      <td>4</td>\n",
              "      <td>9</td>\n",
              "    </tr>\n",
              "    <tr>\n",
              "      <th>2</th>\n",
              "      <td>0</td>\n",
              "      <td>0</td>\n",
              "      <td>2</td>\n",
              "      <td>2.059194</td>\n",
              "      <td>1</td>\n",
              "      <td>12.778033</td>\n",
              "      <td>77.632191</td>\n",
              "      <td>43.0</td>\n",
              "      <td>0</td>\n",
              "      <td>0</td>\n",
              "      <td>1</td>\n",
              "      <td>6</td>\n",
              "      <td>7</td>\n",
              "    </tr>\n",
              "    <tr>\n",
              "      <th>3</th>\n",
              "      <td>0</td>\n",
              "      <td>1</td>\n",
              "      <td>2</td>\n",
              "      <td>2.058751</td>\n",
              "      <td>1</td>\n",
              "      <td>28.642300</td>\n",
              "      <td>77.344500</td>\n",
              "      <td>62.5</td>\n",
              "      <td>0</td>\n",
              "      <td>0</td>\n",
              "      <td>1</td>\n",
              "      <td>4</td>\n",
              "      <td>6</td>\n",
              "    </tr>\n",
              "    <tr>\n",
              "      <th>4</th>\n",
              "      <td>1</td>\n",
              "      <td>0</td>\n",
              "      <td>2</td>\n",
              "      <td>2.067845</td>\n",
              "      <td>1</td>\n",
              "      <td>22.592200</td>\n",
              "      <td>88.484911</td>\n",
              "      <td>60.5</td>\n",
              "      <td>0</td>\n",
              "      <td>1</td>\n",
              "      <td>0</td>\n",
              "      <td>5</td>\n",
              "      <td>7</td>\n",
              "    </tr>\n",
              "  </tbody>\n",
              "</table>\n",
              "</div>\n",
              "      <button class=\"colab-df-convert\" onclick=\"convertToInteractive('df-38f4bcf4-98c5-48c5-b54c-1b7dbc98b105')\"\n",
              "              title=\"Convert this dataframe to an interactive table.\"\n",
              "              style=\"display:none;\">\n",
              "        \n",
              "  <svg xmlns=\"http://www.w3.org/2000/svg\" height=\"24px\"viewBox=\"0 0 24 24\"\n",
              "       width=\"24px\">\n",
              "    <path d=\"M0 0h24v24H0V0z\" fill=\"none\"/>\n",
              "    <path d=\"M18.56 5.44l.94 2.06.94-2.06 2.06-.94-2.06-.94-.94-2.06-.94 2.06-2.06.94zm-11 1L8.5 8.5l.94-2.06 2.06-.94-2.06-.94L8.5 2.5l-.94 2.06-2.06.94zm10 10l.94 2.06.94-2.06 2.06-.94-2.06-.94-.94-2.06-.94 2.06-2.06.94z\"/><path d=\"M17.41 7.96l-1.37-1.37c-.4-.4-.92-.59-1.43-.59-.52 0-1.04.2-1.43.59L10.3 9.45l-7.72 7.72c-.78.78-.78 2.05 0 2.83L4 21.41c.39.39.9.59 1.41.59.51 0 1.02-.2 1.41-.59l7.78-7.78 2.81-2.81c.8-.78.8-2.07 0-2.86zM5.41 20L4 18.59l7.72-7.72 1.47 1.35L5.41 20z\"/>\n",
              "  </svg>\n",
              "      </button>\n",
              "      \n",
              "  <style>\n",
              "    .colab-df-container {\n",
              "      display:flex;\n",
              "      flex-wrap:wrap;\n",
              "      gap: 12px;\n",
              "    }\n",
              "\n",
              "    .colab-df-convert {\n",
              "      background-color: #E8F0FE;\n",
              "      border: none;\n",
              "      border-radius: 50%;\n",
              "      cursor: pointer;\n",
              "      display: none;\n",
              "      fill: #1967D2;\n",
              "      height: 32px;\n",
              "      padding: 0 0 0 0;\n",
              "      width: 32px;\n",
              "    }\n",
              "\n",
              "    .colab-df-convert:hover {\n",
              "      background-color: #E2EBFA;\n",
              "      box-shadow: 0px 1px 2px rgba(60, 64, 67, 0.3), 0px 1px 3px 1px rgba(60, 64, 67, 0.15);\n",
              "      fill: #174EA6;\n",
              "    }\n",
              "\n",
              "    [theme=dark] .colab-df-convert {\n",
              "      background-color: #3B4455;\n",
              "      fill: #D2E3FC;\n",
              "    }\n",
              "\n",
              "    [theme=dark] .colab-df-convert:hover {\n",
              "      background-color: #434B5C;\n",
              "      box-shadow: 0px 1px 3px 1px rgba(0, 0, 0, 0.15);\n",
              "      filter: drop-shadow(0px 1px 2px rgba(0, 0, 0, 0.3));\n",
              "      fill: #FFFFFF;\n",
              "    }\n",
              "  </style>\n",
              "\n",
              "      <script>\n",
              "        const buttonEl =\n",
              "          document.querySelector('#df-38f4bcf4-98c5-48c5-b54c-1b7dbc98b105 button.colab-df-convert');\n",
              "        buttonEl.style.display =\n",
              "          google.colab.kernel.accessAllowed ? 'block' : 'none';\n",
              "\n",
              "        async function convertToInteractive(key) {\n",
              "          const element = document.querySelector('#df-38f4bcf4-98c5-48c5-b54c-1b7dbc98b105');\n",
              "          const dataTable =\n",
              "            await google.colab.kernel.invokeFunction('convertToInteractive',\n",
              "                                                     [key], {});\n",
              "          if (!dataTable) return;\n",
              "\n",
              "          const docLinkHtml = 'Like what you see? Visit the ' +\n",
              "            '<a target=\"_blank\" href=https://colab.research.google.com/notebooks/data_table.ipynb>data table notebook</a>'\n",
              "            + ' to learn more about interactive tables.';\n",
              "          element.innerHTML = '';\n",
              "          dataTable['output_type'] = 'display_data';\n",
              "          await google.colab.output.renderOutput(dataTable, element);\n",
              "          const docLink = document.createElement('div');\n",
              "          docLink.innerHTML = docLinkHtml;\n",
              "          element.appendChild(docLink);\n",
              "        }\n",
              "      </script>\n",
              "    </div>\n",
              "  </div>\n",
              "  "
            ]
          },
          "metadata": {},
          "execution_count": 58
        }
      ]
    },
    {
      "cell_type": "code",
      "source": [
        "#Test data after performing cleaning\n",
        "\n",
        "test_data_cleand.head()"
      ],
      "metadata": {
        "colab": {
          "base_uri": "https://localhost:8080/",
          "height": 206
        },
        "id": "9PQReGnzii6l",
        "outputId": "fd0ebc24-5631-41aa-f238-af64a60043df"
      },
      "execution_count": 59,
      "outputs": [
        {
          "output_type": "execute_result",
          "data": {
            "text/plain": [
              "   UNDER_CONSTRUCTION  RERA  BHK_NO.  SQUARE_FT  RESALE  LONGITUDE   LATITUDE  \\\n",
              "0                   0     0        1   6.302933       1  21.262000  73.047700   \n",
              "1                   1     1        2   6.685861       0  18.966114  73.148278   \n",
              "2                   0     0        2   7.137355       1  22.592200  88.484911   \n",
              "3                   0     0        3   7.245177       1  26.988300  75.584600   \n",
              "4                   0     0        1   6.067216       1  22.700000  72.870000   \n",
              "\n",
              "   POSTED_BY_Builder  POSTED_BY_Dealer  POSTED_BY_Owner  CITY_BIN  \\\n",
              "0                  0                 0                1         4   \n",
              "1                  0                 1                0         8   \n",
              "2                  0                 1                0         5   \n",
              "3                  0                 1                0         4   \n",
              "4                  0                 0                1         2   \n",
              "\n",
              "   AREA_CITY_BIN  \n",
              "0              6  \n",
              "1             13  \n",
              "2              8  \n",
              "3              9  \n",
              "4              1  "
            ],
            "text/html": [
              "\n",
              "  <div id=\"df-2945d7e5-bb0d-48ee-92ae-1a6b60aa6396\">\n",
              "    <div class=\"colab-df-container\">\n",
              "      <div>\n",
              "<style scoped>\n",
              "    .dataframe tbody tr th:only-of-type {\n",
              "        vertical-align: middle;\n",
              "    }\n",
              "\n",
              "    .dataframe tbody tr th {\n",
              "        vertical-align: top;\n",
              "    }\n",
              "\n",
              "    .dataframe thead th {\n",
              "        text-align: right;\n",
              "    }\n",
              "</style>\n",
              "<table border=\"1\" class=\"dataframe\">\n",
              "  <thead>\n",
              "    <tr style=\"text-align: right;\">\n",
              "      <th></th>\n",
              "      <th>UNDER_CONSTRUCTION</th>\n",
              "      <th>RERA</th>\n",
              "      <th>BHK_NO.</th>\n",
              "      <th>SQUARE_FT</th>\n",
              "      <th>RESALE</th>\n",
              "      <th>LONGITUDE</th>\n",
              "      <th>LATITUDE</th>\n",
              "      <th>POSTED_BY_Builder</th>\n",
              "      <th>POSTED_BY_Dealer</th>\n",
              "      <th>POSTED_BY_Owner</th>\n",
              "      <th>CITY_BIN</th>\n",
              "      <th>AREA_CITY_BIN</th>\n",
              "    </tr>\n",
              "  </thead>\n",
              "  <tbody>\n",
              "    <tr>\n",
              "      <th>0</th>\n",
              "      <td>0</td>\n",
              "      <td>0</td>\n",
              "      <td>1</td>\n",
              "      <td>6.302933</td>\n",
              "      <td>1</td>\n",
              "      <td>21.262000</td>\n",
              "      <td>73.047700</td>\n",
              "      <td>0</td>\n",
              "      <td>0</td>\n",
              "      <td>1</td>\n",
              "      <td>4</td>\n",
              "      <td>6</td>\n",
              "    </tr>\n",
              "    <tr>\n",
              "      <th>1</th>\n",
              "      <td>1</td>\n",
              "      <td>1</td>\n",
              "      <td>2</td>\n",
              "      <td>6.685861</td>\n",
              "      <td>0</td>\n",
              "      <td>18.966114</td>\n",
              "      <td>73.148278</td>\n",
              "      <td>0</td>\n",
              "      <td>1</td>\n",
              "      <td>0</td>\n",
              "      <td>8</td>\n",
              "      <td>13</td>\n",
              "    </tr>\n",
              "    <tr>\n",
              "      <th>2</th>\n",
              "      <td>0</td>\n",
              "      <td>0</td>\n",
              "      <td>2</td>\n",
              "      <td>7.137355</td>\n",
              "      <td>1</td>\n",
              "      <td>22.592200</td>\n",
              "      <td>88.484911</td>\n",
              "      <td>0</td>\n",
              "      <td>1</td>\n",
              "      <td>0</td>\n",
              "      <td>5</td>\n",
              "      <td>8</td>\n",
              "    </tr>\n",
              "    <tr>\n",
              "      <th>3</th>\n",
              "      <td>0</td>\n",
              "      <td>0</td>\n",
              "      <td>3</td>\n",
              "      <td>7.245177</td>\n",
              "      <td>1</td>\n",
              "      <td>26.988300</td>\n",
              "      <td>75.584600</td>\n",
              "      <td>0</td>\n",
              "      <td>1</td>\n",
              "      <td>0</td>\n",
              "      <td>4</td>\n",
              "      <td>9</td>\n",
              "    </tr>\n",
              "    <tr>\n",
              "      <th>4</th>\n",
              "      <td>0</td>\n",
              "      <td>0</td>\n",
              "      <td>1</td>\n",
              "      <td>6.067216</td>\n",
              "      <td>1</td>\n",
              "      <td>22.700000</td>\n",
              "      <td>72.870000</td>\n",
              "      <td>0</td>\n",
              "      <td>0</td>\n",
              "      <td>1</td>\n",
              "      <td>2</td>\n",
              "      <td>1</td>\n",
              "    </tr>\n",
              "  </tbody>\n",
              "</table>\n",
              "</div>\n",
              "      <button class=\"colab-df-convert\" onclick=\"convertToInteractive('df-2945d7e5-bb0d-48ee-92ae-1a6b60aa6396')\"\n",
              "              title=\"Convert this dataframe to an interactive table.\"\n",
              "              style=\"display:none;\">\n",
              "        \n",
              "  <svg xmlns=\"http://www.w3.org/2000/svg\" height=\"24px\"viewBox=\"0 0 24 24\"\n",
              "       width=\"24px\">\n",
              "    <path d=\"M0 0h24v24H0V0z\" fill=\"none\"/>\n",
              "    <path d=\"M18.56 5.44l.94 2.06.94-2.06 2.06-.94-2.06-.94-.94-2.06-.94 2.06-2.06.94zm-11 1L8.5 8.5l.94-2.06 2.06-.94-2.06-.94L8.5 2.5l-.94 2.06-2.06.94zm10 10l.94 2.06.94-2.06 2.06-.94-2.06-.94-.94-2.06-.94 2.06-2.06.94z\"/><path d=\"M17.41 7.96l-1.37-1.37c-.4-.4-.92-.59-1.43-.59-.52 0-1.04.2-1.43.59L10.3 9.45l-7.72 7.72c-.78.78-.78 2.05 0 2.83L4 21.41c.39.39.9.59 1.41.59.51 0 1.02-.2 1.41-.59l7.78-7.78 2.81-2.81c.8-.78.8-2.07 0-2.86zM5.41 20L4 18.59l7.72-7.72 1.47 1.35L5.41 20z\"/>\n",
              "  </svg>\n",
              "      </button>\n",
              "      \n",
              "  <style>\n",
              "    .colab-df-container {\n",
              "      display:flex;\n",
              "      flex-wrap:wrap;\n",
              "      gap: 12px;\n",
              "    }\n",
              "\n",
              "    .colab-df-convert {\n",
              "      background-color: #E8F0FE;\n",
              "      border: none;\n",
              "      border-radius: 50%;\n",
              "      cursor: pointer;\n",
              "      display: none;\n",
              "      fill: #1967D2;\n",
              "      height: 32px;\n",
              "      padding: 0 0 0 0;\n",
              "      width: 32px;\n",
              "    }\n",
              "\n",
              "    .colab-df-convert:hover {\n",
              "      background-color: #E2EBFA;\n",
              "      box-shadow: 0px 1px 2px rgba(60, 64, 67, 0.3), 0px 1px 3px 1px rgba(60, 64, 67, 0.15);\n",
              "      fill: #174EA6;\n",
              "    }\n",
              "\n",
              "    [theme=dark] .colab-df-convert {\n",
              "      background-color: #3B4455;\n",
              "      fill: #D2E3FC;\n",
              "    }\n",
              "\n",
              "    [theme=dark] .colab-df-convert:hover {\n",
              "      background-color: #434B5C;\n",
              "      box-shadow: 0px 1px 3px 1px rgba(0, 0, 0, 0.15);\n",
              "      filter: drop-shadow(0px 1px 2px rgba(0, 0, 0, 0.3));\n",
              "      fill: #FFFFFF;\n",
              "    }\n",
              "  </style>\n",
              "\n",
              "      <script>\n",
              "        const buttonEl =\n",
              "          document.querySelector('#df-2945d7e5-bb0d-48ee-92ae-1a6b60aa6396 button.colab-df-convert');\n",
              "        buttonEl.style.display =\n",
              "          google.colab.kernel.accessAllowed ? 'block' : 'none';\n",
              "\n",
              "        async function convertToInteractive(key) {\n",
              "          const element = document.querySelector('#df-2945d7e5-bb0d-48ee-92ae-1a6b60aa6396');\n",
              "          const dataTable =\n",
              "            await google.colab.kernel.invokeFunction('convertToInteractive',\n",
              "                                                     [key], {});\n",
              "          if (!dataTable) return;\n",
              "\n",
              "          const docLinkHtml = 'Like what you see? Visit the ' +\n",
              "            '<a target=\"_blank\" href=https://colab.research.google.com/notebooks/data_table.ipynb>data table notebook</a>'\n",
              "            + ' to learn more about interactive tables.';\n",
              "          element.innerHTML = '';\n",
              "          dataTable['output_type'] = 'display_data';\n",
              "          await google.colab.output.renderOutput(dataTable, element);\n",
              "          const docLink = document.createElement('div');\n",
              "          docLink.innerHTML = docLinkHtml;\n",
              "          element.appendChild(docLink);\n",
              "        }\n",
              "      </script>\n",
              "    </div>\n",
              "  </div>\n",
              "  "
            ]
          },
          "metadata": {},
          "execution_count": 59
        }
      ]
    },
    {
      "cell_type": "code",
      "source": [
        "# Creating the dependent and independent variables\n",
        "train_inde = train_data_cleand.drop(['PRICES'], axis = 1)\n",
        "train_dep =  train_data_cleand['PRICES']"
      ],
      "metadata": {
        "id": "pmAmgZMfikjt"
      },
      "execution_count": 61,
      "outputs": []
    },
    {
      "cell_type": "markdown",
      "source": [
        "**Step 2: Dataset Preparation (Splitting and Scaling)**\n",
        "\n",
        "The Train data has been devided into two sets in 7:3 ratio:\n",
        "\n",
        "train_x, train_y (for traning the model)\n",
        "\n",
        "val_x, val_y (for checking how the model is performing in unseen data)"
      ],
      "metadata": {
        "id": "cZtL1up1izEU"
      }
    },
    {
      "cell_type": "code",
      "source": [
        "from sklearn.model_selection import train_test_split\n",
        "train_x,val_x,train_y,val_y=train_test_split(train_inde,train_dep,test_size=0.30,random_state=0)"
      ],
      "metadata": {
        "id": "_42CwOV2ipBm"
      },
      "execution_count": 62,
      "outputs": []
    },
    {
      "cell_type": "code",
      "source": [
        "# Initially I applied scalling. As I have used Tree based models, I have commented out the scalling portion as it was not adding any value to my result.\n",
        "\n",
        "# from sklearn.preprocessing import MinMaxScaler\n",
        "# scaler1= MinMaxScaler().fit(train_x,train_y)"
      ],
      "metadata": {
        "id": "wyZVHT6ki_H5"
      },
      "execution_count": 63,
      "outputs": []
    },
    {
      "cell_type": "code",
      "source": [
        "# train_x = scaler1.transform(train_x)\n",
        "# val_x = scaler1.transform(val_x)"
      ],
      "metadata": {
        "id": "YzK3QPKAjElD"
      },
      "execution_count": 64,
      "outputs": []
    },
    {
      "cell_type": "markdown",
      "source": [
        "#**Step 3: Model Selection and Evaluation**\n",
        "\n",
        "**Model 1: Random Forest Regressor**"
      ],
      "metadata": {
        "id": "flrzPN56jRrW"
      }
    },
    {
      "cell_type": "code",
      "source": [
        "#Performing gridsearch to tune the parameters for Random forest\n",
        "\n",
        "from sklearn.ensemble import RandomForestRegressor\n",
        "\n",
        "#Creating initial instance of RandomForestRegressor\n",
        "\n",
        "RFModel=RandomForestRegressor()\n",
        "\n",
        "from sklearn.model_selection import  GridSearchCV, cross_val_score, KFold\n",
        "\n",
        "#Defining the parameter set\n",
        "# c1 = {'n_estimators':range(50,200,50), 'max_depth': (5,15,3),'min_samples_leaf':(2,6,1)}\n",
        "c2 = {'n_estimators':range(100,140,10), 'max_depth': (15,18,1)}"
      ],
      "metadata": {
        "id": "delMz3cQjJUJ"
      },
      "execution_count": 65,
      "outputs": []
    },
    {
      "cell_type": "code",
      "source": [
        "#fitting the train data in model \n",
        "#performing log transformation on price as price values are skewed\n",
        "\n",
        "RFModel.fit(train_x,np.log(train_y))\n",
        "\n",
        "#Performing grid search\n",
        "grid = GridSearchCV(estimator = RFModel, param_grid=c2, cv=3, scoring = 'r2', n_jobs = -1)\n",
        "grid = grid.fit(train_x,train_y)"
      ],
      "metadata": {
        "id": "Tif5uYJCjJyw"
      },
      "execution_count": 66,
      "outputs": []
    },
    {
      "cell_type": "code",
      "source": [
        "#best paramets from grid search\n",
        "\n",
        "grid.get_params"
      ],
      "metadata": {
        "colab": {
          "base_uri": "https://localhost:8080/"
        },
        "id": "0EtK5HK-j9R6",
        "outputId": "ed9cc3e3-cf31-4e35-df32-d7f146ec453f"
      },
      "execution_count": 67,
      "outputs": [
        {
          "output_type": "execute_result",
          "data": {
            "text/plain": [
              "<bound method BaseEstimator.get_params of GridSearchCV(cv=3, estimator=RandomForestRegressor(), n_jobs=-1,\n",
              "             param_grid={'max_depth': (15, 18, 1),\n",
              "                         'n_estimators': range(100, 140, 10)},\n",
              "             scoring='r2')>"
            ]
          },
          "metadata": {},
          "execution_count": 67
        }
      ]
    },
    {
      "cell_type": "code",
      "source": [
        "#best estimators from grid search\n",
        "\n",
        "grid.best_estimator_"
      ],
      "metadata": {
        "colab": {
          "base_uri": "https://localhost:8080/"
        },
        "id": "Wm7dOkj0kHo0",
        "outputId": "9eba41d4-6240-47b4-e850-39b53febdb7e"
      },
      "execution_count": 68,
      "outputs": [
        {
          "output_type": "execute_result",
          "data": {
            "text/plain": [
              "RandomForestRegressor(max_depth=15, n_estimators=120)"
            ]
          },
          "metadata": {},
          "execution_count": 68
        }
      ]
    },
    {
      "cell_type": "code",
      "source": [
        "#best score from grid search\n",
        "\n",
        "grid.best_score_"
      ],
      "metadata": {
        "colab": {
          "base_uri": "https://localhost:8080/"
        },
        "id": "KpQFRFqqkIYm",
        "outputId": "9f75d101-eb9b-45c2-8a08-65e5eb8c566d"
      },
      "execution_count": 69,
      "outputs": [
        {
          "output_type": "execute_result",
          "data": {
            "text/plain": [
              "0.9448609422494608"
            ]
          },
          "metadata": {},
          "execution_count": 69
        }
      ]
    },
    {
      "cell_type": "code",
      "source": [
        "#applying the best parameter set to RFmodel\n",
        "\n",
        "RFModel=grid.best_estimator_"
      ],
      "metadata": {
        "id": "L0aSBB3XkIcX"
      },
      "execution_count": 70,
      "outputs": []
    },
    {
      "cell_type": "code",
      "source": [
        "#fitting traning values to tuned model\n",
        "RFModel.fit(train_x,np.log(train_y))"
      ],
      "metadata": {
        "colab": {
          "base_uri": "https://localhost:8080/"
        },
        "id": "lOZKbFFPkWpP",
        "outputId": "9c387332-8a1a-41b6-b1b1-9deb750614df"
      },
      "execution_count": 71,
      "outputs": [
        {
          "output_type": "execute_result",
          "data": {
            "text/plain": [
              "RandomForestRegressor(max_depth=15, n_estimators=120)"
            ]
          },
          "metadata": {},
          "execution_count": 71
        }
      ]
    },
    {
      "cell_type": "code",
      "source": [
        "#Measuring the performance with RMSE Score for RandomForestRegressor\n",
        "\n",
        "from sklearn.metrics import mean_squared_error\n",
        "from math import sqrt\n",
        "\n",
        "pred_train = np.exp(RFModel.predict(train_x))\n",
        "print(np.sqrt(mean_squared_error(train_y,pred_train))) # RMSE Score\n",
        "\n",
        "pred = np.exp(RFModel.predict(val_x))\n",
        "print(np.sqrt(mean_squared_error(val_y,pred))) # RMSE Score"
      ],
      "metadata": {
        "colab": {
          "base_uri": "https://localhost:8080/"
        },
        "id": "iSTlsmS3kXaL",
        "outputId": "391ea1e8-bfc2-4a84-b366-767ff7c8578e"
      },
      "execution_count": 72,
      "outputs": [
        {
          "output_type": "stream",
          "name": "stdout",
          "text": [
            "177.91603389993642\n",
            "139.2429776033551\n"
          ]
        }
      ]
    },
    {
      "cell_type": "code",
      "source": [
        "#Measuring the performance with squreroot of mean squared log error Score for RandomForestRegressor\n",
        "\n",
        "from sklearn import metrics \n",
        "print(np.sqrt(metrics.mean_squared_log_error( train_y,pred_train)))\n",
        "print(np.sqrt(metrics.mean_squared_log_error( val_y,pred)))"
      ],
      "metadata": {
        "colab": {
          "base_uri": "https://localhost:8080/"
        },
        "id": "E7dCznCxkXns",
        "outputId": "5d28b3a9-1ceb-4efc-e877-b4fe5f2ebe01"
      },
      "execution_count": 73,
      "outputs": [
        {
          "output_type": "stream",
          "name": "stdout",
          "text": [
            "0.1939542048462637\n",
            "0.31507373223339\n"
          ]
        }
      ]
    },
    {
      "cell_type": "code",
      "source": [
        "#Measuring the performance with R2 Score for RandomForestRegressor\n",
        "\n",
        "print(metrics.r2_score(train_y,pred_train))\n",
        "print(metrics.r2_score(val_y,pred))"
      ],
      "metadata": {
        "colab": {
          "base_uri": "https://localhost:8080/"
        },
        "id": "fi7VE1MQkmgv",
        "outputId": "023f2b2c-fa60-404c-ef03-7de426fc4e82"
      },
      "execution_count": 74,
      "outputs": [
        {
          "output_type": "stream",
          "name": "stdout",
          "text": [
            "0.9331325161873496\n",
            "0.9365933241399476\n"
          ]
        }
      ]
    },
    {
      "cell_type": "code",
      "source": [
        "#plot the prediction for RandomForestRegressor\n",
        "\n",
        "plt.figure(figsize=(12,8))\n",
        "plt.scatter(val_y,pred)\n",
        "plt.plot(val_y,val_y,'r')"
      ],
      "metadata": {
        "colab": {
          "base_uri": "https://localhost:8080/",
          "height": 497
        },
        "id": "dmIbNnOJkmlX",
        "outputId": "271fd754-0b2d-4934-dfff-6debcf4d3ca2"
      },
      "execution_count": 75,
      "outputs": [
        {
          "output_type": "execute_result",
          "data": {
            "text/plain": [
              "[<matplotlib.lines.Line2D at 0x7f74df849bd0>]"
            ]
          },
          "metadata": {},
          "execution_count": 75
        },
        {
          "output_type": "display_data",
          "data": {
            "text/plain": [
              "<Figure size 864x576 with 1 Axes>"
            ],
            "image/png": "[encoded data removed]"
          },
          "metadata": {
            "needs_background": "light"
          }
        }
      ]
    },
    {
      "cell_type": "markdown",
      "source": [
        "#**Model 2: Gradient Boosting Regressor**"
      ],
      "metadata": {
        "id": "PCT1_pMilNT7"
      }
    },
    {
      "cell_type": "code",
      "source": [
        "#Applying GradientBoostingRegressor\n",
        "\n",
        "from sklearn.ensemble import GradientBoostingRegressor\n",
        "GBModel =  GradientBoostingRegressor(random_state=0, n_estimators=160, max_depth=8, learning_rate=0.15 )"
      ],
      "metadata": {
        "id": "ORpyWUQplMom"
      },
      "execution_count": 76,
      "outputs": []
    },
    {
      "cell_type": "code",
      "source": [
        "#fitting traning values to tuned model\n",
        "\n",
        "GBModel.fit(train_x,np.log(train_y))"
      ],
      "metadata": {
        "colab": {
          "base_uri": "https://localhost:8080/"
        },
        "id": "7JiBaIL3kmou",
        "outputId": "14f6776d-4fa4-4279-d0fa-300c926d8d9d"
      },
      "execution_count": 77,
      "outputs": [
        {
          "output_type": "execute_result",
          "data": {
            "text/plain": [
              "GradientBoostingRegressor(learning_rate=0.15, max_depth=8, n_estimators=160,\n",
              "                          random_state=0)"
            ]
          },
          "metadata": {},
          "execution_count": 77
        }
      ]
    },
    {
      "cell_type": "code",
      "source": [
        "#Measuring the performance with RMSE Score for GradientBoostingRegressor\n",
        "\n",
        "pred_train = np.exp(GBModel.predict(train_x))\n",
        "print(np.sqrt(mean_squared_error(train_y,pred_train))) # RMSE Score\n",
        "\n",
        "pred = np.exp(GBModel.predict(val_x))\n",
        "print(np.sqrt(mean_squared_error(val_y,pred))) # RMSE Score"
      ],
      "metadata": {
        "colab": {
          "base_uri": "https://localhost:8080/"
        },
        "id": "lAMkNTVilZRF",
        "outputId": "92776ffb-c2b3-41ff-9232-5a47efaf2931"
      },
      "execution_count": 78,
      "outputs": [
        {
          "output_type": "stream",
          "name": "stdout",
          "text": [
            "52.56278954224368\n",
            "140.3648393674879\n"
          ]
        }
      ]
    },
    {
      "cell_type": "code",
      "source": [
        "#Measuring the performance with squreroot of mean squared log error Score for GradientBoostingRegressor\n",
        "\n",
        "print(np.sqrt(metrics.mean_squared_log_error( train_y,pred_train)))\n",
        "print(np.sqrt(metrics.mean_squared_log_error( val_y,pred)))"
      ],
      "metadata": {
        "colab": {
          "base_uri": "https://localhost:8080/"
        },
        "id": "RckJWN15lbFi",
        "outputId": "9b4e9480-80d9-40b7-e1b5-499be6775fc2"
      },
      "execution_count": 79,
      "outputs": [
        {
          "output_type": "stream",
          "name": "stdout",
          "text": [
            "0.18267244436974928\n",
            "0.29873464166341723\n"
          ]
        }
      ]
    },
    {
      "cell_type": "code",
      "source": [
        "#Measuring the performance with R2 Score for GradientBoostingRegressor\n",
        "\n",
        "print(metrics.r2_score(train_y,pred_train))\n",
        "print(metrics.r2_score(val_y,pred))"
      ],
      "metadata": {
        "colab": {
          "base_uri": "https://localhost:8080/"
        },
        "id": "KIZd4Okdlc7M",
        "outputId": "8360f527-9b8d-479f-e128-39baf5831978"
      },
      "execution_count": 80,
      "outputs": [
        {
          "output_type": "stream",
          "name": "stdout",
          "text": [
            "0.9941636461497587\n",
            "0.9355674902624393\n"
          ]
        }
      ]
    },
    {
      "cell_type": "code",
      "source": [
        "#plot the prediction for GradientBoostingRegressor\n",
        "\n",
        "plt.figure(figsize=(12,8))\n",
        "plt.scatter(val_y,pred)\n",
        "plt.plot(val_y,val_y,'r')"
      ],
      "metadata": {
        "colab": {
          "base_uri": "https://localhost:8080/",
          "height": 497
        },
        "id": "D7eOTBjZlen5",
        "outputId": "0ecef3f5-0a49-4618-e7c2-89f44b03d9ca"
      },
      "execution_count": 81,
      "outputs": [
        {
          "output_type": "execute_result",
          "data": {
            "text/plain": [
              "[<matplotlib.lines.Line2D at 0x7f74df7ec290>]"
            ]
          },
          "metadata": {},
          "execution_count": 81
        },
        {
          "output_type": "display_data",
          "data": {
            "text/plain": [
              "<Figure size 864x576 with 1 Axes>"
            ],
            "image/png": "[encoded data removed]"
          },
          "metadata": {
            "needs_background": "light"
          }
        }
      ]
    },
    {
      "cell_type": "markdown",
      "source": [
        "After compairing the results of two models, it shows that the GradientBoostingRegressor is performing slightly better than RandomForestRegressor.\n",
        "\n",
        "So we will concider GradientBoostingRegressor as the final model.\n",
        "\n",
        "Performing cross validation on GradientBoostingRegressor model to estimate the final score."
      ],
      "metadata": {
        "id": "-uQWWxeCljN9"
      }
    },
    {
      "cell_type": "code",
      "source": [
        "#7 fold Cross validation with GBModel\n",
        "\n",
        "from sklearn.model_selection import KFold, cross_val_score,StratifiedKFold\n",
        "l=[]\n",
        "setused=train_inde\n",
        "target=train_dep\n",
        "kfold, scores = KFold(n_splits=7), list()\n",
        "for train, test in kfold.split(setused,target):\n",
        "    x_train, x_test = setused.values[train], setused.values[test]\n",
        "    y_train, y_test = target.values[train], target.values[test] \n",
        "    model = GBModel\n",
        "    # scaler2= MinMaxScaler().fit(x_train,y_train)\n",
        "    # x_train = scaler2.transform(x_train)\n",
        "    # x_test = scaler2.transform(x_test)\n",
        "    model.fit(x_train, np.log(y_train))\n",
        "    preds = np.exp(model.predict(x_test))\n",
        "    feature_importances = pd.DataFrame(model.feature_importances_,\n",
        "                                       index = setused.columns,\n",
        "                                        columns=['importance'])\n",
        "    sum=feature_importances.values\n",
        "    l.append(sum)\n",
        "    score = metrics.r2_score(y_test, preds)\n",
        "    scores.append(score)\n",
        "    print(score)\n",
        "print(\"Average scores are: \", np.sum(scores)/len(scores))"
      ],
      "metadata": {
        "colab": {
          "base_uri": "https://localhost:8080/"
        },
        "id": "4jC66BYZlgcC",
        "outputId": "80383f34-f95a-4640-bac9-90a3640282e9"
      },
      "execution_count": 83,
      "outputs": [
        {
          "output_type": "stream",
          "name": "stdout",
          "text": [
            "0.9391147024978668\n",
            "0.9581150726261739\n",
            "0.619097854014041\n",
            "0.9077048606513174\n",
            "0.9507316414478096\n",
            "0.969249323702383\n",
            "0.8717703206026068\n",
            "Average scores are:  0.8879691107917426\n"
          ]
        }
      ]
    },
    {
      "cell_type": "markdown",
      "source": [
        "This cross validation provides us an guesstimation how much my prediction can varry in unseen data.After running 7 fold cross validation, I am getting 88.79% R2 score. This score overall seems good."
      ],
      "metadata": {
        "id": "yl37kUbJmHLL"
      }
    },
    {
      "cell_type": "code",
      "source": [
        "#Getting the feature importance\n",
        "\n",
        "train_set=setused\n",
        "labels=target\n",
        "threshold=0.0005\n",
        "add=0\n",
        "for item in l:\n",
        "  add+=item\n",
        "df_cv=pd.DataFrame(add/len(l),index=train_set.columns,columns=[\"importance\"]).sort_values('importance', ascending=False)\n",
        "imp_columns=df_cv[df_cv['importance']>threshold].index.tolist()\n",
        "df_cv=df_cv.reset_index()\n",
        "feat_imp = pd.Series(df_cv.importance.values, index=df_cv.drop([\"importance\"], axis=1)).sort_values(axis='index',ascending=False)\n",
        "X2=setused[imp_columns]\n",
        "feat_imp.nlargest(25).plot(kind='barh', figsize=(5,5))\n",
        "len(imp_columns)"
      ],
      "metadata": {
        "colab": {
          "base_uri": "https://localhost:8080/",
          "height": 334
        },
        "id": "Igh2kXh7mJGk",
        "outputId": "feaabd62-f6b1-499a-c702-051b739b8cfc"
      },
      "execution_count": 87,
      "outputs": [
        {
          "output_type": "execute_result",
          "data": {
            "text/plain": [
              "12"
            ]
          },
          "metadata": {},
          "execution_count": 87
        },
        {
          "output_type": "display_data",
          "data": {
            "text/plain": [
              "<Figure size 360x360 with 1 Axes>"
            ],
            "image/png": "[encoded data removed]"
          },
          "metadata": {
            "needs_background": "light"
          }
        }
      ]
    },
    {
      "cell_type": "markdown",
      "source": [
        "Above plot shows the feature importance. From the plot it is evident that the new feature I have created combining area and city is the most important feature in predicting the house price.\n",
        "\n",
        "However, I have made multiple modification in EDA steps and feature seletion by running the model and observing the result and feature importance."
      ],
      "metadata": {
        "id": "OeuSCBCWmijm"
      }
    },
    {
      "cell_type": "markdown",
      "source": [
        "**Step 4: Applying final model on Test Data**"
      ],
      "metadata": {
        "id": "OtMxm623mir5"
      }
    },
    {
      "cell_type": "code",
      "source": [
        "#Scaling the test data. However, we are not using it.\n",
        "\n",
        "# test_data_cleand= scaler1.transform(test_data_cleand)"
      ],
      "metadata": {
        "id": "2wab2kwCmh0h"
      },
      "execution_count": 84,
      "outputs": []
    },
    {
      "cell_type": "code",
      "source": [
        "#Final Prediction of Price on completely unseen new dataset.\n",
        "\n",
        "final_pred = np.exp(GBModel.predict(test_data_cleand))"
      ],
      "metadata": {
        "id": "qZ8wEldumw9l"
      },
      "execution_count": 85,
      "outputs": []
    },
    {
      "cell_type": "code",
      "source": [
        "#Convering result into new dataframe\n",
        "\n",
        "result = pd.DataFrame()\n",
        "result['TARGET(PRICE_IN_LACS)']=pd.Series(final_pred.flatten())"
      ],
      "metadata": {
        "id": "lbJVfSN8my64"
      },
      "execution_count": 86,
      "outputs": []
    },
    {
      "cell_type": "code",
      "source": [
        "#Final Result\n",
        "result.head()"
      ],
      "metadata": {
        "colab": {
          "base_uri": "https://localhost:8080/",
          "height": 206
        },
        "id": "SfDEuINym1do",
        "outputId": "93e46aa0-9cc2-4a88-badf-36415d0f3ae2"
      },
      "execution_count": 88,
      "outputs": [
        {
          "output_type": "execute_result",
          "data": {
            "text/plain": [
              "   TARGET(PRICE_IN_LACS)\n",
              "0              18.925597\n",
              "1             123.841925\n",
              "2              64.542047\n",
              "3              60.925987\n",
              "4               1.376761"
            ],
            "text/html": [
              "\n",
              "  <div id=\"df-5762d297-33b3-4923-8c93-59f543226544\">\n",
              "    <div class=\"colab-df-container\">\n",
              "      <div>\n",
              "<style scoped>\n",
              "    .dataframe tbody tr th:only-of-type {\n",
              "        vertical-align: middle;\n",
              "    }\n",
              "\n",
              "    .dataframe tbody tr th {\n",
              "        vertical-align: top;\n",
              "    }\n",
              "\n",
              "    .dataframe thead th {\n",
              "        text-align: right;\n",
              "    }\n",
              "</style>\n",
              "<table border=\"1\" class=\"dataframe\">\n",
              "  <thead>\n",
              "    <tr style=\"text-align: right;\">\n",
              "      <th></th>\n",
              "      <th>TARGET(PRICE_IN_LACS)</th>\n",
              "    </tr>\n",
              "  </thead>\n",
              "  <tbody>\n",
              "    <tr>\n",
              "      <th>0</th>\n",
              "      <td>18.925597</td>\n",
              "    </tr>\n",
              "    <tr>\n",
              "      <th>1</th>\n",
              "      <td>123.841925</td>\n",
              "    </tr>\n",
              "    <tr>\n",
              "      <th>2</th>\n",
              "      <td>64.542047</td>\n",
              "    </tr>\n",
              "    <tr>\n",
              "      <th>3</th>\n",
              "      <td>60.925987</td>\n",
              "    </tr>\n",
              "    <tr>\n",
              "      <th>4</th>\n",
              "      <td>1.376761</td>\n",
              "    </tr>\n",
              "  </tbody>\n",
              "</table>\n",
              "</div>\n",
              "      <button class=\"colab-df-convert\" onclick=\"convertToInteractive('df-5762d297-33b3-4923-8c93-59f543226544')\"\n",
              "              title=\"Convert this dataframe to an interactive table.\"\n",
              "              style=\"display:none;\">\n",
              "        \n",
              "  <svg xmlns=\"http://www.w3.org/2000/svg\" height=\"24px\"viewBox=\"0 0 24 24\"\n",
              "       width=\"24px\">\n",
              "    <path d=\"M0 0h24v24H0V0z\" fill=\"none\"/>\n",
              "    <path d=\"M18.56 5.44l.94 2.06.94-2.06 2.06-.94-2.06-.94-.94-2.06-.94 2.06-2.06.94zm-11 1L8.5 8.5l.94-2.06 2.06-.94-2.06-.94L8.5 2.5l-.94 2.06-2.06.94zm10 10l.94 2.06.94-2.06 2.06-.94-2.06-.94-.94-2.06-.94 2.06-2.06.94z\"/><path d=\"M17.41 7.96l-1.37-1.37c-.4-.4-.92-.59-1.43-.59-.52 0-1.04.2-1.43.59L10.3 9.45l-7.72 7.72c-.78.78-.78 2.05 0 2.83L4 21.41c.39.39.9.59 1.41.59.51 0 1.02-.2 1.41-.59l7.78-7.78 2.81-2.81c.8-.78.8-2.07 0-2.86zM5.41 20L4 18.59l7.72-7.72 1.47 1.35L5.41 20z\"/>\n",
              "  </svg>\n",
              "      </button>\n",
              "      \n",
              "  <style>\n",
              "    .colab-df-container {\n",
              "      display:flex;\n",
              "      flex-wrap:wrap;\n",
              "      gap: 12px;\n",
              "    }\n",
              "\n",
              "    .colab-df-convert {\n",
              "      background-color: #E8F0FE;\n",
              "      border: none;\n",
              "      border-radius: 50%;\n",
              "      cursor: pointer;\n",
              "      display: none;\n",
              "      fill: #1967D2;\n",
              "      height: 32px;\n",
              "      padding: 0 0 0 0;\n",
              "      width: 32px;\n",
              "    }\n",
              "\n",
              "    .colab-df-convert:hover {\n",
              "      background-color: #E2EBFA;\n",
              "      box-shadow: 0px 1px 2px rgba(60, 64, 67, 0.3), 0px 1px 3px 1px rgba(60, 64, 67, 0.15);\n",
              "      fill: #174EA6;\n",
              "    }\n",
              "\n",
              "    [theme=dark] .colab-df-convert {\n",
              "      background-color: #3B4455;\n",
              "      fill: #D2E3FC;\n",
              "    }\n",
              "\n",
              "    [theme=dark] .colab-df-convert:hover {\n",
              "      background-color: #434B5C;\n",
              "      box-shadow: 0px 1px 3px 1px rgba(0, 0, 0, 0.15);\n",
              "      filter: drop-shadow(0px 1px 2px rgba(0, 0, 0, 0.3));\n",
              "      fill: #FFFFFF;\n",
              "    }\n",
              "  </style>\n",
              "\n",
              "      <script>\n",
              "        const buttonEl =\n",
              "          document.querySelector('#df-5762d297-33b3-4923-8c93-59f543226544 button.colab-df-convert');\n",
              "        buttonEl.style.display =\n",
              "          google.colab.kernel.accessAllowed ? 'block' : 'none';\n",
              "\n",
              "        async function convertToInteractive(key) {\n",
              "          const element = document.querySelector('#df-5762d297-33b3-4923-8c93-59f543226544');\n",
              "          const dataTable =\n",
              "            await google.colab.kernel.invokeFunction('convertToInteractive',\n",
              "                                                     [key], {});\n",
              "          if (!dataTable) return;\n",
              "\n",
              "          const docLinkHtml = 'Like what you see? Visit the ' +\n",
              "            '<a target=\"_blank\" href=https://colab.research.google.com/notebooks/data_table.ipynb>data table notebook</a>'\n",
              "            + ' to learn more about interactive tables.';\n",
              "          element.innerHTML = '';\n",
              "          dataTable['output_type'] = 'display_data';\n",
              "          await google.colab.output.renderOutput(dataTable, element);\n",
              "          const docLink = document.createElement('div');\n",
              "          docLink.innerHTML = docLinkHtml;\n",
              "          element.appendChild(docLink);\n",
              "        }\n",
              "      </script>\n",
              "    </div>\n",
              "  </div>\n",
              "  "
            ]
          },
          "metadata": {},
          "execution_count": 88
        }
      ]
    },
    {
      "cell_type": "code",
      "source": [
        "# Exporting result to CSV\n",
        "\n",
        "result.to_csv('sample_submission.csv',index=False)"
      ],
      "metadata": {
        "id": "UbQ0cU5vm4Hf"
      },
      "execution_count": 89,
      "outputs": []
    },
    {
      "cell_type": "code",
      "source": [
        ""
      ],
      "metadata": {
        "id": "_vTTox_BnD3N"
      },
      "execution_count": null,
      "outputs": []
    }
  ]
}